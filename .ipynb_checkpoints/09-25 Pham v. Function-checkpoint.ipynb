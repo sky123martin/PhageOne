{
 "cells": [
  {
   "cell_type": "markdown",
   "metadata": {},
   "source": [
    "Date Created: 09/25/20\n",
    "## Goal of Notebook: Analyze Differences in Gene Identifiers: Pham & Function\n",
    "\n",
    "This notion of pham as a subset of function is an important relationship that we could utilize in future genome generation. For example if pham is a subset then you could imagine that we generate a genome but by functional components then to get actual protien sequences we could generate functionally compatible phams. It makes sense that certain genes need to interface with each other. For structural reasons minor tail protiens and the head to tail connector. For host compatibility like if we need specific holin and lysin to integrate with the specific hosts cell wall.\n"
   ]
  },
  {
   "cell_type": "markdown",
   "metadata": {},
   "source": [
    "### High Level Questions:\n",
    "\n",
    "#### Annotation Error Propagation (this is relatively unrelated to the task at hand)\n",
    "To what extent is error being propigated through the annotation network? If a genome is annotated inncorrectly will the next genome that is similar grab that error? Anotation of one genome is dependent on current annotated genomes. If a gene is annotated how likely is it to take on the same info as previously annotated genes. Does unique spelling errors show independent thought, likewise, does non-unique misspelled annotations show dependence.\n",
    "\n",
    "#### Evolution or Functionality?\n",
    "As shown in the analysis below phams are very specific to cluster. That being said does that mean a gene from one cluster will not be functionally compatible in a genome from another cluster? Or is this because of evolutionary lineage that presents itself in statistical correlation?\n"
   ]
  },
  {
   "cell_type": "code",
   "execution_count": 38,
   "metadata": {},
   "outputs": [],
   "source": [
    "# import libraries\n",
    "import requests \n",
    "import pandas as pd\n",
    "from random import sample \n",
    "import matplotlib\n",
    "import networkx as nx\n",
    "import numpy as np\n",
    "import matplotlib.pyplot as plt\n",
    "import seaborn as sns                                                             \n",
    "import sys\n",
    "import scipy"
   ]
  },
  {
   "cell_type": "markdown",
   "metadata": {},
   "source": [
    "### Load in the data"
   ]
  },
  {
   "cell_type": "code",
   "execution_count": 39,
   "metadata": {},
   "outputs": [
    {
     "data": {
      "text/html": [
       "<div>\n",
       "<style scoped>\n",
       "    .dataframe tbody tr th:only-of-type {\n",
       "        vertical-align: middle;\n",
       "    }\n",
       "\n",
       "    .dataframe tbody tr th {\n",
       "        vertical-align: top;\n",
       "    }\n",
       "\n",
       "    .dataframe thead th {\n",
       "        text-align: right;\n",
       "    }\n",
       "</style>\n",
       "<table border=\"1\" class=\"dataframe\">\n",
       "  <thead>\n",
       "    <tr style=\"text-align: right;\">\n",
       "      <th></th>\n",
       "      <th>gene ID</th>\n",
       "      <th>pham</th>\n",
       "      <th>function</th>\n",
       "      <th>translation</th>\n",
       "      <th>orientation</th>\n",
       "      <th>phage</th>\n",
       "      <th>gene number</th>\n",
       "      <th>start</th>\n",
       "      <th>stop</th>\n",
       "      <th>uncleaned function</th>\n",
       "    </tr>\n",
       "  </thead>\n",
       "  <tbody>\n",
       "    <tr>\n",
       "      <th>0</th>\n",
       "      <td>20ES_CDS_1</td>\n",
       "      <td>36676</td>\n",
       "      <td>NKF</td>\n",
       "      <td>MYGTRSSAFWASQPGKFDVLNLRMTFPSTSAHEIPDLTATDFVPEN...</td>\n",
       "      <td>F</td>\n",
       "      <td>20ES</td>\n",
       "      <td>1</td>\n",
       "      <td>568</td>\n",
       "      <td>1336</td>\n",
       "      <td>NaN</td>\n",
       "    </tr>\n",
       "    <tr>\n",
       "      <th>1</th>\n",
       "      <td>20ES_CDS_10</td>\n",
       "      <td>39578</td>\n",
       "      <td>lysin b</td>\n",
       "      <td>MSLQVGSSGELVNRWIRVMKARFASYAGKLKEDGYFGLDDKAVQQE...</td>\n",
       "      <td>F</td>\n",
       "      <td>20ES</td>\n",
       "      <td>10</td>\n",
       "      <td>6442</td>\n",
       "      <td>7420</td>\n",
       "      <td>lysin b</td>\n",
       "    </tr>\n",
       "    <tr>\n",
       "      <th>2</th>\n",
       "      <td>20ES_CDS_11</td>\n",
       "      <td>34196</td>\n",
       "      <td>terminase</td>\n",
       "      <td>MSLENHHPELAPSPPHIIGPSWQRTVDGSWHLPDPKMTLGWGVLKW...</td>\n",
       "      <td>F</td>\n",
       "      <td>20ES</td>\n",
       "      <td>11</td>\n",
       "      <td>7442</td>\n",
       "      <td>9233</td>\n",
       "      <td>terminase</td>\n",
       "    </tr>\n",
       "    <tr>\n",
       "      <th>3</th>\n",
       "      <td>20ES_CDS_12</td>\n",
       "      <td>39511</td>\n",
       "      <td>portal protein</td>\n",
       "      <td>MTAPLPGQEEIPDPAIARDEMISAFDDAVKNLKINTSYYEAERRPE...</td>\n",
       "      <td>F</td>\n",
       "      <td>20ES</td>\n",
       "      <td>12</td>\n",
       "      <td>9229</td>\n",
       "      <td>10690</td>\n",
       "      <td>portal protein</td>\n",
       "    </tr>\n",
       "    <tr>\n",
       "      <th>4</th>\n",
       "      <td>20ES_CDS_13</td>\n",
       "      <td>21454</td>\n",
       "      <td>capsid maturation protease</td>\n",
       "      <td>MITAAVAAYVQRFASMFTGPALSLGEWARFLQTLFPEVQRRYAQAA...</td>\n",
       "      <td>F</td>\n",
       "      <td>20ES</td>\n",
       "      <td>13</td>\n",
       "      <td>10719</td>\n",
       "      <td>11583</td>\n",
       "      <td>capsid maturation protease</td>\n",
       "    </tr>\n",
       "  </tbody>\n",
       "</table>\n",
       "</div>"
      ],
      "text/plain": [
       "       gene ID   pham                    function  \\\n",
       "0   20ES_CDS_1  36676                         NKF   \n",
       "1  20ES_CDS_10  39578                     lysin b   \n",
       "2  20ES_CDS_11  34196                   terminase   \n",
       "3  20ES_CDS_12  39511              portal protein   \n",
       "4  20ES_CDS_13  21454  capsid maturation protease   \n",
       "\n",
       "                                         translation orientation phage  \\\n",
       "0  MYGTRSSAFWASQPGKFDVLNLRMTFPSTSAHEIPDLTATDFVPEN...           F  20ES   \n",
       "1  MSLQVGSSGELVNRWIRVMKARFASYAGKLKEDGYFGLDDKAVQQE...           F  20ES   \n",
       "2  MSLENHHPELAPSPPHIIGPSWQRTVDGSWHLPDPKMTLGWGVLKW...           F  20ES   \n",
       "3  MTAPLPGQEEIPDPAIARDEMISAFDDAVKNLKINTSYYEAERRPE...           F  20ES   \n",
       "4  MITAAVAAYVQRFASMFTGPALSLGEWARFLQTLFPEVQRRYAQAA...           F  20ES   \n",
       "\n",
       "   gene number  start   stop          uncleaned function  \n",
       "0            1    568   1336                         NaN  \n",
       "1           10   6442   7420                     lysin b  \n",
       "2           11   7442   9233                   terminase  \n",
       "3           12   9229  10690              portal protein  \n",
       "4           13  10719  11583  capsid maturation protease  "
      ]
     },
     "execution_count": 39,
     "metadata": {},
     "output_type": "execute_result"
    }
   ],
   "source": [
    "df_genes = pd.read_csv(\"data/gene_metadata.csv\")\n",
    "df_genes.head()"
   ]
  },
  {
   "cell_type": "code",
   "execution_count": 40,
   "metadata": {},
   "outputs": [
    {
     "data": {
      "text/html": [
       "<div>\n",
       "<style scoped>\n",
       "    .dataframe tbody tr th:only-of-type {\n",
       "        vertical-align: middle;\n",
       "    }\n",
       "\n",
       "    .dataframe tbody tr th {\n",
       "        vertical-align: top;\n",
       "    }\n",
       "\n",
       "    .dataframe thead th {\n",
       "        text-align: right;\n",
       "    }\n",
       "</style>\n",
       "<table border=\"1\" class=\"dataframe\">\n",
       "  <thead>\n",
       "    <tr style=\"text-align: right;\">\n",
       "      <th></th>\n",
       "      <th>phage</th>\n",
       "      <th>temperate</th>\n",
       "      <th>cluster</th>\n",
       "      <th>subcluster</th>\n",
       "      <th>morphotype</th>\n",
       "      <th>host genus</th>\n",
       "      <th>host species</th>\n",
       "      <th>genome length</th>\n",
       "      <th>is annotated</th>\n",
       "      <th>is phamerated</th>\n",
       "      <th>gcpercent</th>\n",
       "    </tr>\n",
       "  </thead>\n",
       "  <tbody>\n",
       "    <tr>\n",
       "      <th>0</th>\n",
       "      <td>20ES</td>\n",
       "      <td>True</td>\n",
       "      <td>A</td>\n",
       "      <td>A2</td>\n",
       "      <td>SIPHO</td>\n",
       "      <td>Mycobacterium</td>\n",
       "      <td>smegmatis</td>\n",
       "      <td>53124</td>\n",
       "      <td>False</td>\n",
       "      <td>True</td>\n",
       "      <td>63.4</td>\n",
       "    </tr>\n",
       "    <tr>\n",
       "      <th>1</th>\n",
       "      <td>244</td>\n",
       "      <td>True</td>\n",
       "      <td>E</td>\n",
       "      <td>NaN</td>\n",
       "      <td>SIPHO</td>\n",
       "      <td>Mycobacterium</td>\n",
       "      <td>smegmatis</td>\n",
       "      <td>74483</td>\n",
       "      <td>True</td>\n",
       "      <td>True</td>\n",
       "      <td>63.4</td>\n",
       "    </tr>\n",
       "    <tr>\n",
       "      <th>2</th>\n",
       "      <td>32HC</td>\n",
       "      <td>True</td>\n",
       "      <td>Z</td>\n",
       "      <td>NaN</td>\n",
       "      <td>SIPHO</td>\n",
       "      <td>Mycobacterium</td>\n",
       "      <td>smegmatis</td>\n",
       "      <td>50781</td>\n",
       "      <td>False</td>\n",
       "      <td>True</td>\n",
       "      <td>65.7</td>\n",
       "    </tr>\n",
       "    <tr>\n",
       "      <th>3</th>\n",
       "      <td>39HC</td>\n",
       "      <td>False</td>\n",
       "      <td>B</td>\n",
       "      <td>B6</td>\n",
       "      <td>SIPHO</td>\n",
       "      <td>Mycobacterium</td>\n",
       "      <td>smegmatis</td>\n",
       "      <td>71565</td>\n",
       "      <td>False</td>\n",
       "      <td>True</td>\n",
       "      <td>70.0</td>\n",
       "    </tr>\n",
       "    <tr>\n",
       "      <th>4</th>\n",
       "      <td>40AC</td>\n",
       "      <td>True</td>\n",
       "      <td>A</td>\n",
       "      <td>A17</td>\n",
       "      <td>SIPHO</td>\n",
       "      <td>Mycobacterium</td>\n",
       "      <td>smegmatis</td>\n",
       "      <td>53396</td>\n",
       "      <td>False</td>\n",
       "      <td>True</td>\n",
       "      <td>63.3</td>\n",
       "    </tr>\n",
       "  </tbody>\n",
       "</table>\n",
       "</div>"
      ],
      "text/plain": [
       "  phage temperate cluster subcluster morphotype     host genus host species  \\\n",
       "0  20ES      True       A         A2      SIPHO  Mycobacterium    smegmatis   \n",
       "1   244      True       E        NaN      SIPHO  Mycobacterium    smegmatis   \n",
       "2  32HC      True       Z        NaN      SIPHO  Mycobacterium    smegmatis   \n",
       "3  39HC     False       B         B6      SIPHO  Mycobacterium    smegmatis   \n",
       "4  40AC      True       A        A17      SIPHO  Mycobacterium    smegmatis   \n",
       "\n",
       "   genome length  is annotated  is phamerated  gcpercent  \n",
       "0          53124         False           True       63.4  \n",
       "1          74483          True           True       63.4  \n",
       "2          50781         False           True       65.7  \n",
       "3          71565         False           True       70.0  \n",
       "4          53396         False           True       63.3  "
      ]
     },
     "execution_count": 40,
     "metadata": {},
     "output_type": "execute_result"
    }
   ],
   "source": [
    "df_phages = pd.read_csv(\"data/phage_metadata.csv\")\n",
    "df_phages.head()"
   ]
  },
  {
   "cell_type": "markdown",
   "metadata": {},
   "source": [
    "### Gene Content Similairity \n",
    "- The number of shared phams between two genomes (based on PhagesDB def)\n",
    "\n",
    "This metric was made becuase current clustering is whole genome nucleotide similairity, however, not every nucleotide has the same impact on the phage's function.\n",
    "\n",
    "For example: Burton (A1) 27% GCS with Phlei (A13)"
   ]
  },
  {
   "cell_type": "code",
   "execution_count": 44,
   "metadata": {},
   "outputs": [],
   "source": [
    "a = \"Burton\"\n",
    "b = \"Phlei\""
   ]
  },
  {
   "cell_type": "code",
   "execution_count": 45,
   "metadata": {},
   "outputs": [
    {
     "data": {
      "text/html": [
       "<div>\n",
       "<style scoped>\n",
       "    .dataframe tbody tr th:only-of-type {\n",
       "        vertical-align: middle;\n",
       "    }\n",
       "\n",
       "    .dataframe tbody tr th {\n",
       "        vertical-align: top;\n",
       "    }\n",
       "\n",
       "    .dataframe thead th {\n",
       "        text-align: right;\n",
       "    }\n",
       "</style>\n",
       "<table border=\"1\" class=\"dataframe\">\n",
       "  <thead>\n",
       "    <tr style=\"text-align: right;\">\n",
       "      <th></th>\n",
       "      <th>gene ID</th>\n",
       "      <th>pham</th>\n",
       "    </tr>\n",
       "  </thead>\n",
       "  <tbody>\n",
       "  </tbody>\n",
       "</table>\n",
       "</div>"
      ],
      "text/plain": [
       "Empty DataFrame\n",
       "Columns: [gene ID, pham]\n",
       "Index: []"
      ]
     },
     "execution_count": 45,
     "metadata": {},
     "output_type": "execute_result"
    }
   ],
   "source": [
    "df_a = df_genes[df_genes[\"phage\"]==a][[\"gene ID\",\"pham\"]]\n",
    "df_a.head()"
   ]
  },
  {
   "cell_type": "code",
   "execution_count": 43,
   "metadata": {},
   "outputs": [
    {
     "data": {
      "text/html": [
       "<div>\n",
       "<style scoped>\n",
       "    .dataframe tbody tr th:only-of-type {\n",
       "        vertical-align: middle;\n",
       "    }\n",
       "\n",
       "    .dataframe tbody tr th {\n",
       "        vertical-align: top;\n",
       "    }\n",
       "\n",
       "    .dataframe thead th {\n",
       "        text-align: right;\n",
       "    }\n",
       "</style>\n",
       "<table border=\"1\" class=\"dataframe\">\n",
       "  <thead>\n",
       "    <tr style=\"text-align: right;\">\n",
       "      <th></th>\n",
       "      <th>gene ID</th>\n",
       "      <th>pham</th>\n",
       "    </tr>\n",
       "  </thead>\n",
       "  <tbody>\n",
       "    <tr>\n",
       "      <th>221812</th>\n",
       "      <td>Phlei_CDS_1</td>\n",
       "      <td>36593</td>\n",
       "    </tr>\n",
       "    <tr>\n",
       "      <th>221813</th>\n",
       "      <td>Phlei_CDS_10</td>\n",
       "      <td>21454</td>\n",
       "    </tr>\n",
       "    <tr>\n",
       "      <th>221814</th>\n",
       "      <td>Phlei_CDS_11</td>\n",
       "      <td>8023</td>\n",
       "    </tr>\n",
       "    <tr>\n",
       "      <th>221815</th>\n",
       "      <td>Phlei_CDS_12</td>\n",
       "      <td>15229</td>\n",
       "    </tr>\n",
       "    <tr>\n",
       "      <th>221816</th>\n",
       "      <td>Phlei_CDS_13</td>\n",
       "      <td>39449</td>\n",
       "    </tr>\n",
       "  </tbody>\n",
       "</table>\n",
       "</div>"
      ],
      "text/plain": [
       "             gene ID   pham\n",
       "221812   Phlei_CDS_1  36593\n",
       "221813  Phlei_CDS_10  21454\n",
       "221814  Phlei_CDS_11   8023\n",
       "221815  Phlei_CDS_12  15229\n",
       "221816  Phlei_CDS_13  39449"
      ]
     },
     "execution_count": 43,
     "metadata": {},
     "output_type": "execute_result"
    }
   ],
   "source": [
    "df_b = df_genes[df_genes[\"phage\"]==b][[\"gene ID\",\"pham\"]]\n",
    "df_b.head()"
   ]
  },
  {
   "cell_type": "code",
   "execution_count": 37,
   "metadata": {
    "scrolled": true
   },
   "outputs": [
    {
     "name": "stdout",
     "output_type": "stream",
     "text": [
      "Gene Content Similarity (% shared phams) Burton and Phlei:\n",
      "0.0\n"
     ]
    }
   ],
   "source": [
    "print(\"Gene Content Similarity (% shared phams) {} and {}:\".format(a,b))\n",
    "phams_a = list(sorted(df_a[\"pham\"]))\n",
    "phams_b = list(sorted(df_b[\"pham\"]))\n",
    "shared_phams = []\n",
    "for i in phams_a:\n",
    "    if i in phams_b:\n",
    "        shared_phams.append(i)\n",
    "\n",
    "print(100*2*len(shared_phams)/(len(phams_b)+len(phams_a)))"
   ]
  },
  {
   "cell_type": "markdown",
   "metadata": {},
   "source": [
    "### Construct a Bipartite Graph: Pham <-> Function\n",
    "- Edge: if a gene has pham i and function j then edge i->j represents this observance\n",
    "- Node: either a function or a pham\n",
    "\n",
    "This representation can help us understand whether pham is a subset of function. Alternatively a pham could contain multiple functions. Based on this we can better understand the relationship between pham and function."
   ]
  },
  {
   "cell_type": "code",
   "execution_count": 30,
   "metadata": {},
   "outputs": [],
   "source": [
    "G = nx.Graph()\n",
    "for index, row in df_genes.iterrows():\n",
    "    phage = row[\"phage\"]\n",
    "    function = row['uncleaned function'] #this notebook was originally created with unclean function data\n",
    "    pham = row['pham']\n",
    "    if not df_phages[df_phages[\"phage\"] == phage].empty:\n",
    "        subcluster = df_phages[df_phages[\"phage\"] == phage][\"subcluster\"].values[0]\n",
    "        cluster = df_phages[df_phages[\"phage\"] == phage][\"cluster\"].values[0]\n",
    "        # ADD PHAM NODE iF it doesn't exist\n",
    "        if not G.has_node(pham):\n",
    "            G.add_node(pham, group='pham', clusters=[cluster], subclusters=[subcluster], phages=[phage], freq = 1)\n",
    "        else:\n",
    "            G.nodes[pham][\"freq\"] += 1\n",
    "            G.nodes[pham][\"clusters\"].append(cluster)\n",
    "            G.nodes[pham][\"subclusters\"].append(subcluster)\n",
    "            G.nodes[pham][\"phages\"].append(phage)\n",
    "\n",
    "        # ADD FUNCTION NODE if it doesn't exist\n",
    "        if not G.has_node(function):\n",
    "            G.add_node(function, group='function', clusters=[cluster], subclusters=[subcluster], phages=[phage], freq = 1)\n",
    "        else:\n",
    "            G.nodes[function][\"freq\"] += 1\n",
    "            G.nodes[function][\"clusters\"].append(cluster)\n",
    "            G.nodes[function][\"subclusters\"].append(subcluster)\n",
    "            G.nodes[function][\"phages\"].append(phage)\n",
    "\n",
    "        # ADD EDGE if it doesn't exist or increase weight     \n",
    "        if G.has_edge(pham, function):\n",
    "            G.edges[pham, function][\"weight\"] += 1  \n",
    "        else:\n",
    "            G.add_edge(pham, function, weight = 1)\n",
    "        "
   ]
  },
  {
   "cell_type": "code",
   "execution_count": 26,
   "metadata": {},
   "outputs": [
    {
     "ename": "NetworkXError",
     "evalue": "0    A\nName: cluster, dtype: object is not a string",
     "output_type": "error",
     "traceback": [
      "\u001b[0;31m---------------------------------------------------------------------------\u001b[0m",
      "\u001b[0;31mNetworkXError\u001b[0m                             Traceback (most recent call last)",
      "\u001b[0;32m<ipython-input-26-f4bf80928320>\u001b[0m in \u001b[0;36m<module>\u001b[0;34m\u001b[0m\n\u001b[0;32m----> 1\u001b[0;31m \u001b[0mnx\u001b[0m\u001b[0;34m.\u001b[0m\u001b[0mwrite_gml\u001b[0m\u001b[0;34m(\u001b[0m\u001b[0mG\u001b[0m\u001b[0;34m,\u001b[0m\u001b[0;34m\"networks/bipartite_pham_uncleaned_func.gml\"\u001b[0m\u001b[0;34m)\u001b[0m\u001b[0;34m\u001b[0m\u001b[0;34m\u001b[0m\u001b[0m\n\u001b[0m",
      "\u001b[0;32m<decorator-gen-811>\u001b[0m in \u001b[0;36mwrite_gml\u001b[0;34m(G, path, stringizer)\u001b[0m\n",
      "\u001b[0;32m~/opt/anaconda3/lib/python3.7/site-packages/networkx/utils/decorators.py\u001b[0m in \u001b[0;36m_open_file\u001b[0;34m(func_to_be_decorated, *args, **kwargs)\u001b[0m\n\u001b[1;32m    237\u001b[0m         \u001b[0;31m# Finally, we call the original function, making sure to close the fobj\u001b[0m\u001b[0;34m\u001b[0m\u001b[0;34m\u001b[0m\u001b[0;34m\u001b[0m\u001b[0m\n\u001b[1;32m    238\u001b[0m         \u001b[0;32mtry\u001b[0m\u001b[0;34m:\u001b[0m\u001b[0;34m\u001b[0m\u001b[0;34m\u001b[0m\u001b[0m\n\u001b[0;32m--> 239\u001b[0;31m             \u001b[0mresult\u001b[0m \u001b[0;34m=\u001b[0m \u001b[0mfunc_to_be_decorated\u001b[0m\u001b[0;34m(\u001b[0m\u001b[0;34m*\u001b[0m\u001b[0mnew_args\u001b[0m\u001b[0;34m,\u001b[0m \u001b[0;34m**\u001b[0m\u001b[0mkwargs\u001b[0m\u001b[0;34m)\u001b[0m\u001b[0;34m\u001b[0m\u001b[0;34m\u001b[0m\u001b[0m\n\u001b[0m\u001b[1;32m    240\u001b[0m         \u001b[0;32mfinally\u001b[0m\u001b[0;34m:\u001b[0m\u001b[0;34m\u001b[0m\u001b[0;34m\u001b[0m\u001b[0m\n\u001b[1;32m    241\u001b[0m             \u001b[0;32mif\u001b[0m \u001b[0mclose_fobj\u001b[0m\u001b[0;34m:\u001b[0m\u001b[0;34m\u001b[0m\u001b[0;34m\u001b[0m\u001b[0m\n",
      "\u001b[0;32m~/opt/anaconda3/lib/python3.7/site-packages/networkx/readwrite/gml.py\u001b[0m in \u001b[0;36mwrite_gml\u001b[0;34m(G, path, stringizer)\u001b[0m\n\u001b[1;32m    821\u001b[0m     \u001b[0;34m>>\u001b[0m\u001b[0;34m>\u001b[0m \u001b[0mnx\u001b[0m\u001b[0;34m.\u001b[0m\u001b[0mwrite_gml\u001b[0m\u001b[0;34m(\u001b[0m\u001b[0mG\u001b[0m\u001b[0;34m,\u001b[0m \u001b[0;34m\"test.gml.gz\"\u001b[0m\u001b[0;34m)\u001b[0m\u001b[0;34m\u001b[0m\u001b[0;34m\u001b[0m\u001b[0m\n\u001b[1;32m    822\u001b[0m     \"\"\"\n\u001b[0;32m--> 823\u001b[0;31m     \u001b[0;32mfor\u001b[0m \u001b[0mline\u001b[0m \u001b[0;32min\u001b[0m \u001b[0mgenerate_gml\u001b[0m\u001b[0;34m(\u001b[0m\u001b[0mG\u001b[0m\u001b[0;34m,\u001b[0m \u001b[0mstringizer\u001b[0m\u001b[0;34m)\u001b[0m\u001b[0;34m:\u001b[0m\u001b[0;34m\u001b[0m\u001b[0;34m\u001b[0m\u001b[0m\n\u001b[0m\u001b[1;32m    824\u001b[0m         \u001b[0mpath\u001b[0m\u001b[0;34m.\u001b[0m\u001b[0mwrite\u001b[0m\u001b[0;34m(\u001b[0m\u001b[0;34m(\u001b[0m\u001b[0mline\u001b[0m \u001b[0;34m+\u001b[0m \u001b[0;34m\"\\n\"\u001b[0m\u001b[0;34m)\u001b[0m\u001b[0;34m.\u001b[0m\u001b[0mencode\u001b[0m\u001b[0;34m(\u001b[0m\u001b[0;34m\"ascii\"\u001b[0m\u001b[0;34m)\u001b[0m\u001b[0;34m)\u001b[0m\u001b[0;34m\u001b[0m\u001b[0;34m\u001b[0m\u001b[0m\n",
      "\u001b[0;32m~/opt/anaconda3/lib/python3.7/site-packages/networkx/readwrite/gml.py\u001b[0m in \u001b[0;36mgenerate_gml\u001b[0;34m(G, stringizer)\u001b[0m\n\u001b[1;32m    740\u001b[0m         \u001b[0;32myield\u001b[0m \u001b[0;32mfrom\u001b[0m \u001b[0mstringize\u001b[0m\u001b[0;34m(\u001b[0m\u001b[0;34m\"label\"\u001b[0m\u001b[0;34m,\u001b[0m \u001b[0mnode\u001b[0m\u001b[0;34m,\u001b[0m \u001b[0;34m(\u001b[0m\u001b[0;34m)\u001b[0m\u001b[0;34m,\u001b[0m \u001b[0;34m\"    \"\u001b[0m\u001b[0;34m)\u001b[0m\u001b[0;34m\u001b[0m\u001b[0;34m\u001b[0m\u001b[0m\n\u001b[1;32m    741\u001b[0m         \u001b[0;32mfor\u001b[0m \u001b[0mattr\u001b[0m\u001b[0;34m,\u001b[0m \u001b[0mvalue\u001b[0m \u001b[0;32min\u001b[0m \u001b[0mattrs\u001b[0m\u001b[0;34m.\u001b[0m\u001b[0mitems\u001b[0m\u001b[0;34m(\u001b[0m\u001b[0;34m)\u001b[0m\u001b[0;34m:\u001b[0m\u001b[0;34m\u001b[0m\u001b[0;34m\u001b[0m\u001b[0m\n\u001b[0;32m--> 742\u001b[0;31m             \u001b[0;32myield\u001b[0m \u001b[0;32mfrom\u001b[0m \u001b[0mstringize\u001b[0m\u001b[0;34m(\u001b[0m\u001b[0mattr\u001b[0m\u001b[0;34m,\u001b[0m \u001b[0mvalue\u001b[0m\u001b[0;34m,\u001b[0m \u001b[0mignored_keys\u001b[0m\u001b[0;34m,\u001b[0m \u001b[0;34m\"    \"\u001b[0m\u001b[0;34m)\u001b[0m\u001b[0;34m\u001b[0m\u001b[0;34m\u001b[0m\u001b[0m\n\u001b[0m\u001b[1;32m    743\u001b[0m         \u001b[0;32myield\u001b[0m \u001b[0;34m\"  ]\"\u001b[0m\u001b[0;34m\u001b[0m\u001b[0;34m\u001b[0m\u001b[0m\n\u001b[1;32m    744\u001b[0m \u001b[0;34m\u001b[0m\u001b[0m\n",
      "\u001b[0;32m~/opt/anaconda3/lib/python3.7/site-packages/networkx/readwrite/gml.py\u001b[0m in \u001b[0;36mstringize\u001b[0;34m(key, value, ignored_keys, indent, in_list)\u001b[0m\n\u001b[1;32m    707\u001b[0m                     \u001b[0;32myield\u001b[0m \u001b[0mindent\u001b[0m \u001b[0;34m+\u001b[0m \u001b[0mkey\u001b[0m \u001b[0;34m+\u001b[0m \u001b[0;34m\" \"\u001b[0m \u001b[0;34m+\u001b[0m \u001b[0;34mf'\"{LIST_START_VALUE}\"'\u001b[0m\u001b[0;34m\u001b[0m\u001b[0;34m\u001b[0m\u001b[0m\n\u001b[1;32m    708\u001b[0m                 \u001b[0;32mfor\u001b[0m \u001b[0mval\u001b[0m \u001b[0;32min\u001b[0m \u001b[0mvalue\u001b[0m\u001b[0;34m:\u001b[0m\u001b[0;34m\u001b[0m\u001b[0;34m\u001b[0m\u001b[0m\n\u001b[0;32m--> 709\u001b[0;31m                     \u001b[0;32myield\u001b[0m \u001b[0;32mfrom\u001b[0m \u001b[0mstringize\u001b[0m\u001b[0;34m(\u001b[0m\u001b[0mkey\u001b[0m\u001b[0;34m,\u001b[0m \u001b[0mval\u001b[0m\u001b[0;34m,\u001b[0m \u001b[0;34m(\u001b[0m\u001b[0;34m)\u001b[0m\u001b[0;34m,\u001b[0m \u001b[0mindent\u001b[0m\u001b[0;34m,\u001b[0m \u001b[0;32mTrue\u001b[0m\u001b[0;34m)\u001b[0m\u001b[0;34m\u001b[0m\u001b[0;34m\u001b[0m\u001b[0m\n\u001b[0m\u001b[1;32m    710\u001b[0m             \u001b[0;32melse\u001b[0m\u001b[0;34m:\u001b[0m\u001b[0;34m\u001b[0m\u001b[0;34m\u001b[0m\u001b[0m\n\u001b[1;32m    711\u001b[0m                 \u001b[0;32mif\u001b[0m \u001b[0mstringizer\u001b[0m\u001b[0;34m:\u001b[0m\u001b[0;34m\u001b[0m\u001b[0;34m\u001b[0m\u001b[0m\n",
      "\u001b[0;32m~/opt/anaconda3/lib/python3.7/site-packages/networkx/readwrite/gml.py\u001b[0m in \u001b[0;36mstringize\u001b[0;34m(key, value, ignored_keys, indent, in_list)\u001b[0m\n\u001b[1;32m    717\u001b[0m                         ) from e\n\u001b[1;32m    718\u001b[0m                 \u001b[0;32mif\u001b[0m \u001b[0;32mnot\u001b[0m \u001b[0misinstance\u001b[0m\u001b[0;34m(\u001b[0m\u001b[0mvalue\u001b[0m\u001b[0;34m,\u001b[0m \u001b[0mstr\u001b[0m\u001b[0;34m)\u001b[0m\u001b[0;34m:\u001b[0m\u001b[0;34m\u001b[0m\u001b[0;34m\u001b[0m\u001b[0m\n\u001b[0;32m--> 719\u001b[0;31m                     \u001b[0;32mraise\u001b[0m \u001b[0mNetworkXError\u001b[0m\u001b[0;34m(\u001b[0m\u001b[0;34mf\"{value!r} is not a string\"\u001b[0m\u001b[0;34m)\u001b[0m\u001b[0;34m\u001b[0m\u001b[0;34m\u001b[0m\u001b[0m\n\u001b[0m\u001b[1;32m    720\u001b[0m                 \u001b[0;32myield\u001b[0m \u001b[0mindent\u001b[0m \u001b[0;34m+\u001b[0m \u001b[0mkey\u001b[0m \u001b[0;34m+\u001b[0m \u001b[0;34m' \"'\u001b[0m \u001b[0;34m+\u001b[0m \u001b[0mescape\u001b[0m\u001b[0;34m(\u001b[0m\u001b[0mvalue\u001b[0m\u001b[0;34m)\u001b[0m \u001b[0;34m+\u001b[0m \u001b[0;34m'\"'\u001b[0m\u001b[0;34m\u001b[0m\u001b[0;34m\u001b[0m\u001b[0m\n\u001b[1;32m    721\u001b[0m \u001b[0;34m\u001b[0m\u001b[0m\n",
      "\u001b[0;31mNetworkXError\u001b[0m: 0    A\nName: cluster, dtype: object is not a string"
     ]
    }
   ],
   "source": [
    "nx.write_gml(G,\"networks/bipartite_pham_uncleaned_func.gml\")"
   ]
  },
  {
   "cell_type": "markdown",
   "metadata": {},
   "source": [
    "### Lets validate the graph was made correctly"
   ]
  },
  {
   "cell_type": "code",
   "execution_count": 17,
   "metadata": {},
   "outputs": [
    {
     "name": "stdout",
     "output_type": "stream",
     "text": [
      "Pham count from Network: 22948 --- Actual Count from df: 23224\n",
      "Function count from Network: 1631 --- Actual Count from df: 1668\n"
     ]
    }
   ],
   "source": [
    "function_count = 0\n",
    "pham_count = 0\n",
    "\n",
    "for i in G.nodes():\n",
    "    if G.nodes[i][\"group\"] == \"function\":\n",
    "        function_count += 1\n",
    "    else:\n",
    "        pham_count += 1\n",
    "        \n",
    "print(\"Pham count from Network:\", pham_count, \"--- Actual Count from df:\",df_genes[\"pham\"].nunique())\n",
    "print(\"Function count from Network:\", function_count, \"--- Actual Count from df:\",df_genes[\"uncleaned function\"].nunique())"
   ]
  },
  {
   "cell_type": "code",
   "execution_count": 15,
   "metadata": {},
   "outputs": [
    {
     "name": "stdout",
     "output_type": "stream",
     "text": [
      "number of nodes, n  = 24579\n",
      "number of edges, m  = 29632\n",
      "mean degree,    <k> =  2.41\n"
     ]
    }
   ],
   "source": [
    "n = G.number_of_nodes()#function for number of nodes\n",
    "m = G.size() #function for number of edges\n",
    "kmean = m*2/n #mean of in directed degree is edges/number of nodes\n",
    "\n",
    "print(f'number of nodes, n  = {n}')\n",
    "print(f'number of edges, m  = {m}')\n",
    "print(f'mean degree,    <k> = %5.2f' % kmean)"
   ]
  },
  {
   "cell_type": "code",
   "execution_count": 16,
   "metadata": {},
   "outputs": [
    {
     "name": "stdout",
     "output_type": "stream",
     "text": [
      "mean degree for function,    <k> = 18.17\n",
      "mean degree for pham   <k> =  1.29\n"
     ]
    }
   ],
   "source": [
    "kmean_function = m/function_count\n",
    "kmean_pham = m/pham_count\n",
    "print(f'mean degree for function,    <k> = %5.2f' % kmean_function)\n",
    "print(f'mean degree for pham   <k> = %5.2f' % kmean_pham)"
   ]
  },
  {
   "cell_type": "markdown",
   "metadata": {},
   "source": [
    "This means that most phams are only attached to 1 function, with exception. While must functions are attached to multiple phams, which makes sense for the hypothesis that pham is a subset of function. We also guess that all phams are connected to one function, but it appears as multiple due to mispellings.\n",
    "\n",
    "\n",
    "#### Are the phams connected to multiple functions due to misspellings?"
   ]
  },
  {
   "cell_type": "markdown",
   "metadata": {},
   "source": [
    "https://bmcbioinformatics.biomedcentral.com/articles/10.1186/1471-2105-12-395\n",
    "\n",
    "Pham calculations\n",
    "\n",
    "We conclude that inclusion of BLASTP contributes rather little to the pham assembly process, but that a combination of a CLUSTALW threshold of 32.5% and a BLASTP cut off of 10-50 offers optimal parameters for this dataset, building phams of homologous proteins while minimizing construction of complex phams in which only segments of the proteins are related to each other."
   ]
  },
  {
   "cell_type": "code",
   "execution_count": null,
   "metadata": {},
   "outputs": [],
   "source": [
    "for i in G.nodes():\n",
    "    if G.nodes[i][\"group\"] == \"pham\" and len(list(G.neighbors(i)))>1:\n",
    "        print(\"PHAM:\", i)\n",
    "        neighbors = list(G.neighbors(i))\n",
    "        for ne in neighbors:\n",
    "            print(\"\\t Functions:\", ne)"
   ]
  },
  {
   "cell_type": "markdown",
   "metadata": {},
   "source": [
    "Looks like some are misspellings (ie pham 34072 lysin A, lysA, putative LysA), but some are niche protiens. Could we make a pseudo function for phams that all have NKF? \n",
    "\n",
    "Also sometimes it looks like (PHAM: 14988) minor tail protein, minor tail subunit, tape measure protein, major tail protein are all in the same Pham. Or 21865, head-to-tail terminator, head-to-tail adaptor, head-tail connector."
   ]
  },
  {
   "cell_type": "markdown",
   "metadata": {},
   "source": [
    "### What is the distribution of orphams?"
   ]
  },
  {
   "cell_type": "code",
   "execution_count": null,
   "metadata": {},
   "outputs": [],
   "source": [
    "orpham_count = 0\n",
    "for i in G.nodes():\n",
    "    if G.nodes[i][\"group\"] == \"pham\" and len(G.nodes[i][\"clusters\"])>1:\n",
    "        orpham_count += 1\n",
    "print(\"orpham count: \", orpham_count)\n",
    "# total count is 23216"
   ]
  },
  {
   "cell_type": "markdown",
   "metadata": {},
   "source": [
    "### Are phams or functions present in mutiple distinct clusts?"
   ]
  },
  {
   "cell_type": "markdown",
   "metadata": {},
   "source": [
    "###### Genes/Clusters per pham"
   ]
  },
  {
   "cell_type": "code",
   "execution_count": null,
   "metadata": {},
   "outputs": [],
   "source": [
    "fig, ax = plt.subplots(2,2, figsize=(12,10))\n",
    "\n",
    "functions = sorted(list(df_genes[\"Pham\"].unique()))\n",
    "unique_cluster = []\n",
    "for i in functions:\n",
    "    unique_cluster.append(len(G.nodes[i][\"clusters\"]))\n",
    "\n",
    "ax[0,0].hist(unique_cluster, bins=range(0,5000, 100), color = \"pink\")\n",
    "ax[0,0].set_xlabel(\"# of genes (bin size = 100)\")\n",
    "ax[0,0].set_ylabel(\"Frequency\")\n",
    "ax[0,0].set_title(\"Histogram of genes per Pham\")\n",
    "ax[0,0].set_yscale('log')\n",
    "print(\"\\n Histogram of genes per Pham\", scipy.stats.describe(unique_cluster))\n",
    "\n",
    "functions = sorted(list(df_genes[\"Pham\"].unique()))\n",
    "unique_cluster = []\n",
    "for i in functions:\n",
    "    unique_cluster.append(len(np.unique(G.nodes[i][\"clusters\"])))\n",
    "    \n",
    "ax[0,1].hist(unique_cluster, bins=range(0,275,5))\n",
    "ax[0,1].set_xlabel(\"# of unique clusters (bin size = 5)\")\n",
    "ax[0,1].set_ylabel(\"Frequency\")\n",
    "ax[0,1].set_title(\"Histogram of unique clusters per Pham\")\n",
    "ax[0,1].set_yscale('log')\n",
    "print(\"\\n Histogram of unique clusters per Pham\", scipy.stats.describe(unique_cluster))\n",
    "\n",
    "\n",
    "functions = sorted(list(df_genes[\"Pham\"].unique()))\n",
    "unique_cluster = []\n",
    "for i in functions:\n",
    "    unique_cluster.append(len(np.unique(G.nodes[i][\"phages\"])))\n",
    "\n",
    "ax[1,0].hist(unique_cluster, bins=range(0,5000, 100), color = \"green\")\n",
    "ax[1,0].set_xlabel(\"# phages (bin size = 100)\")\n",
    "ax[1,0].set_ylabel(\"Frequency\")\n",
    "ax[1,0].set_title(\"Histogram of phages per Pham\")\n",
    "ax[1,0].set_yscale('log')\n",
    "print(\"\\n Histogram of phages per Function\", scipy.stats.describe(unique_cluster))\n",
    "\n",
    "functions = sorted(list(df_genes[\"Pham\"].unique()))\n",
    "unique_cluster = []\n",
    "for i in functions:\n",
    "    unique_cluster.append(len(np.unique(G.nodes[i][\"subclusters\"])))\n",
    "    \n",
    "ax[1,1].hist(unique_cluster, bins=range(0,275,5), color = \"orange\")\n",
    "ax[1,1].set_xlabel(\"# unique subclusters (bin size = 5)\")\n",
    "ax[1,1].set_ylabel(\"Frequency\")\n",
    "ax[1,1].set_title(\"Histogram of unique subclusters per Pham\")\n",
    "ax[1,1].set_yscale('log')\n",
    "print(\"\\n Histogram of unique subclusters per Pham\", scipy.stats.describe(unique_cluster))\n",
    "\n",
    "\n",
    "plt.show()"
   ]
  },
  {
   "cell_type": "markdown",
   "metadata": {},
   "source": [
    "###### Genes/Clusters per Function"
   ]
  },
  {
   "cell_type": "code",
   "execution_count": null,
   "metadata": {},
   "outputs": [],
   "source": [
    "fig, ax = plt.subplots(2,2, figsize=(12,10))\n",
    "\n",
    "functions = sorted(list(df_genes[\"Function\"].unique()))\n",
    "unique_cluster = []\n",
    "for i in functions:\n",
    "    unique_cluster.append(len(G.nodes[i][\"clusters\"]))\n",
    "\n",
    "ax[0,0].hist(unique_cluster, bins=range(0,5000, 100), color = \"pink\")\n",
    "ax[0,0].set_xlabel(\"# of genes (bin size = 100)\")\n",
    "ax[0,0].set_ylabel(\"Frequency\")\n",
    "ax[0,0].set_title(\"Histogram of genes per Function\")\n",
    "ax[0,0].set_yscale('log')\n",
    "print(\"\\n Histogram of genes per Function\", scipy.stats.describe(unique_cluster))\n",
    "\n",
    "functions = sorted(list(df_genes[\"Function\"].unique()))\n",
    "unique_cluster = []\n",
    "for i in functions:\n",
    "    unique_cluster.append(len(np.unique(G.nodes[i][\"clusters\"])))\n",
    "    \n",
    "ax[0,1].hist(unique_cluster, bins=range(0,275,5))\n",
    "ax[0,1].set_xlabel(\"# of unique clusters (bin size = 5)\")\n",
    "ax[0,1].set_ylabel(\"Frequency\")\n",
    "ax[0,1].set_title(\"Histogram of unique clusters per Function\")\n",
    "ax[0,1].set_yscale('log')\n",
    "print(\"\\n Histogram of unique clusters per Function\", scipy.stats.describe(unique_cluster))\n",
    "\n",
    "\n",
    "functions = sorted(list(df_genes[\"Function\"].unique()))\n",
    "unique_cluster = []\n",
    "for i in functions:\n",
    "    unique_cluster.append(len(np.unique(G.nodes[i][\"phages\"])))\n",
    "\n",
    "ax[1,0].hist(unique_cluster, bins=range(0,5000, 100), color = \"green\")\n",
    "ax[1,0].set_xlabel(\"# phages (bin size = 100)\")\n",
    "ax[1,0].set_ylabel(\"Frequency\")\n",
    "ax[1,0].set_title(\"Histogram of phages per function\")\n",
    "ax[1,0].set_yscale('log')\n",
    "print(\"\\n Histogram of phages per Function\", scipy.stats.describe(unique_cluster))\n",
    "\n",
    "functions = sorted(list(df_genes[\"Function\"].unique()))\n",
    "unique_cluster = []\n",
    "for i in functions:\n",
    "    unique_cluster.append(len(np.unique(G.nodes[i][\"subclusters\"])))\n",
    "    \n",
    "ax[1,1].hist(unique_cluster, bins=range(0,275,5), color = \"orange\")\n",
    "ax[1,1].set_xlabel(\"# unique subclusters (bin size = 5)\")\n",
    "ax[1,1].set_ylabel(\"Frequency\")\n",
    "ax[1,1].set_title(\"Histogram of unique subclusters per Function\")\n",
    "ax[1,1].set_yscale('log')\n",
    "print(\"\\n Histogram of unique subclusters per Function\", scipy.stats.describe(unique_cluster))\n",
    "\n",
    "\n",
    "plt.show()\n"
   ]
  },
  {
   "cell_type": "code",
   "execution_count": null,
   "metadata": {},
   "outputs": [],
   "source": [
    "G.copy()\n",
    "\n",
    "\n",
    "edge_cut_prop = np.linspace(0.01, 1.0, num=10)\n",
    "true_ratio = []\n",
    "false_ratio = []\n",
    "true_count = []\n",
    "false_count = []\n",
    "total_count = []\n",
    "for prop in edge_cut_prop:\n",
    "    true = 0\n",
    "    false = 0\n",
    "    count = 0\n",
    "    for i, j in G.edges():\n",
    "        func = i if G.nodes[i][\"group\"] == \"function\" else j\n",
    "        pham = i if G.nodes[i][\"group\"] == \"pham\" else j\n",
    "        num_pham_members = G.nodes[pham][\"freq\"]\n",
    "        if G.edges[i,j][\"weight\"]/num_pham_members < prop:\n",
    "            if func.lower() in funcList:\n",
    "                true += 1\n",
    "            else:\n",
    "                false += 1\n",
    "            count += 1\n",
    "\n",
    "    true_ratio += [true/count]\n",
    "    false_ratio += [false/count]\n",
    "    true_count += [true]\n",
    "    false_count += [false]\n",
    "    total_count += [count]"
   ]
  },
  {
   "cell_type": "code",
   "execution_count": null,
   "metadata": {},
   "outputs": [],
   "source": [
    "n = G.number_of_nodes()#function for number of nodes\n",
    "m = G.size() #function for number of edges\n",
    "kmean = m*2/n #mean of in directed degree is edges/number of nodes\n",
    "\n",
    "print(f'number of nodes, n  = {n}')\n",
    "print(f'number of edges, m  = {m}')\n",
    "print(f'mean degree,    <k> = %5.2f' % kmean)"
   ]
  },
  {
   "cell_type": "code",
   "execution_count": null,
   "metadata": {},
   "outputs": [],
   "source": [
    "fig, ax = plt.subplots(figsize = (10,6))\n",
    "\n",
    "plt.plot(edge_cut_prop, false_ratio)\n",
    "\n",
    "plt.fill_between(edge_cut_prop, false_ratio, [1]*len(edge_cut_prop),\n",
    "                 facecolor=\"green\", # The fill color\n",
    "                 color='green',       # The outline color\n",
    "                 alpha=0.2,          # Transparency of the fill\n",
    "                 label = \"Edges to approved functions\")\n",
    "\n",
    "plt.fill_between(edge_cut_prop, [0]*len(edge_cut_prop), false_ratio,\n",
    "                 facecolor=\"red\", # The fill color\n",
    "                 color='red',       # The outline color\n",
    "                 alpha=0.2,          # Transparency of the fill\n",
    "                 label = \"Edges to unapproved functions\")\n",
    "\n",
    "\n",
    "plt.ylabel(\"proportion\")\n",
    "plt.xlabel(\"proportion threshold to cut an edge\")\n",
    "plt.legend()\n",
    "\n",
    "\n",
    "plt.title(\"Edge Cutting\")\n",
    "plt.show()"
   ]
  },
  {
   "cell_type": "code",
   "execution_count": null,
   "metadata": {},
   "outputs": [],
   "source": [
    "fig, ax = plt.subplots(figsize = (10,6))\n",
    "\n",
    "plt.plot(edge_cut_prop, false_count)\n",
    "\n",
    "plt.fill_between(edge_cut_prop, false_count, total_count,\n",
    "                 facecolor=\"green\", # The fill color\n",
    "                 color='green',       # The outline color\n",
    "                 alpha=0.2,          # Transparency of the fill\n",
    "                 label = \"Edges to approved functions\")\n",
    "\n",
    "plt.fill_between(edge_cut_prop, [0]*len(edge_cut_prop), false_count,\n",
    "                 facecolor=\"red\", # The fill color\n",
    "                 color='red',       # The outline color\n",
    "                 alpha=0.2,          # Transparency of the fill\n",
    "                 label = \"Edges to unapproved functions\")\n",
    "\n",
    "\n",
    "plt.ylabel(\"count of cut edges\")\n",
    "plt.xlabel(\"proportion threshold to cut an edge (weight of edge(pham member of a func)/total number of pham members)\")\n",
    "plt.legend()\n",
    "\n",
    "plt.title(\"Edge Cutting\")\n",
    "plt.show()"
   ]
  },
  {
   "cell_type": "markdown",
   "metadata": {},
   "source": [
    "### Faulty Visualizations"
   ]
  },
  {
   "cell_type": "code",
   "execution_count": 17,
   "metadata": {},
   "outputs": [
    {
     "name": "stdout",
     "output_type": "stream",
     "text": [
      "23208\n",
      "274\n"
     ]
    }
   ],
   "source": [
    "cat = \"Pham\"\n",
    "phams = sorted(list(df_genes[cat].unique()))\n",
    "clusters = sorted(list(df_genes[\"Cluster\"].unique()))\n",
    "\n",
    "# empty array for results\n",
    "a = [0]*df_genes[\"Cluster\"].nunique()\n",
    "pham_cluster = [a for _ in phams]\n",
    "\n",
    "print(len(pham_cluster))\n",
    "print(len(pham_cluster[0]))\n",
    "#make a dict for clusters\n",
    "for p in range(len(phams)):\n",
    "    total = len(G.nodes[phams[p]][\"clusters\"])\n",
    "    for c in range(len(clusters)):\n",
    "        pham_cluster[p][c] = G.nodes[phams[p]][\"clusters\"].count(clusters[c])/total\n",
    "\n"
   ]
  },
  {
   "cell_type": "code",
   "execution_count": 18,
   "metadata": {},
   "outputs": [
    {
     "name": "stderr",
     "output_type": "stream",
     "text": [
      "/Users/skymartin/opt/anaconda3/lib/python3.7/site-packages/seaborn/matrix.py:302: MatplotlibDeprecationWarning: Passing parameters norm and vmin/vmax simultaneously is deprecated since 3.3 and will become an error two minor releases later. Please pass vmin/vmax directly to the norm when creating it.\n",
      "  cmap=self.cmap, **kws)\n"
     ]
    },
    {
     "data": {
      "text/plain": [
       "<AxesSubplot:>"
      ]
     },
     "execution_count": 18,
     "metadata": {},
     "output_type": "execute_result"
    },
    {
     "data": {
      "image/png": "[encoded data removed]",
      "text/plain": [
       "<Figure size 432x288 with 2 Axes>"
      ]
     },
     "metadata": {
      "needs_background": "light"
     },
     "output_type": "display_data"
    }
   ],
   "source": [
    "import matplotlib.pyplot as plt\n",
    "from matplotlib.colors import LogNorm\n",
    "import numpy as np\n",
    "import seaborn as sn\n",
    "import matplotlib.colors as colors\n",
    "\n",
    "import math\n",
    "data =  np.array(pham_cluster) + 0.0001\n",
    "\n",
    "log_norm = LogNorm(vmin=data.min().min(), vmax=data.max().max())\n",
    "cbar_ticks = [math.pow(10, i) for i in range(math.floor(math.log10(data.min().min())), 1+math.ceil(math.log10(data.max().max())))]\n",
    "\n",
    "sn.heatmap(\n",
    "    data,\n",
    "    norm=log_norm,\n",
    "    cbar_kws={\"ticks\": cbar_ticks}\n",
    ")"
   ]
  },
  {
   "cell_type": "code",
   "execution_count": 19,
   "metadata": {},
   "outputs": [
    {
     "data": {
      "image/png": "[encoded data removed]",
      "text/plain": [
       "<Figure size 1080x1080 with 1 Axes>"
      ]
     },
     "metadata": {
      "needs_background": "light"
     },
     "output_type": "display_data"
    }
   ],
   "source": [
    "fig, ax = plt.subplots(figsize=(15,15))\n",
    "im = ax.imshow(pham_cluster)\n",
    "\n",
    "# We want to show all ticks...\n",
    "ax.set_xticks(np.arange(len(clusters)))\n",
    "# ax.set_yticks(np.arange(len(pham)))\n",
    "# ... and label them with the respective list entries\n",
    "ax.set_xticklabels(clusters)\n",
    "# ax.set_yticklabels(pham)\n",
    "\n",
    "# Rotate the tick labels and set their alignment.\n",
    "plt.setp(ax.get_xticklabels(), rotation=45, ha=\"right\",\n",
    "         rotation_mode=\"anchor\")\n",
    "\n",
    "# Loop over data dimensions and create text annotations.\n",
    "# for i in range(len(pham)):\n",
    "#     for j in range(len(clusters)):\n",
    "#         text = ax.text(j, i, pham_cluster[i, j],\n",
    "#                        ha=\"center\", va=\"center\", color=\"w\")\n",
    "\n",
    "ax.set_title(\"Clusters of phams\")\n",
    "fig.tight_layout()\n",
    "plt.show()"
   ]
  },
  {
   "cell_type": "code",
   "execution_count": null,
   "metadata": {},
   "outputs": [],
   "source": []
  },
  {
   "cell_type": "code",
   "execution_count": 20,
   "metadata": {},
   "outputs": [],
   "source": [
    "# https://networkx.github.io/documentation/stable/reference/generated/networkx.convert.from_dict_of_dicts.html#networkx.convert.from_dict_of_dicts\n",
    "# dod = {0: {1: {\"weight\": 1}}}  # single edge (0,1)\n",
    "# G = nx.from_dict_of_dicts(dod)"
   ]
  },
  {
   "cell_type": "code",
   "execution_count": 21,
   "metadata": {},
   "outputs": [],
   "source": [
    "# DICT OF DICT APPROACH, DIDN'T WORK AS DESIRED BECAUSE IT ASSUMES DIRECTION\n",
    "# dod = {}\n",
    "# i = 0\n",
    "# for _, row in df.iterrows(): \n",
    "#     if row[\"Pham\"] in dod.keys() and row[\"Function\"] in dod[row[\"Pham\"]].keys():\n",
    "#         dod[row[\"Pham\"]][row[\"Function\"]][\"weight\"] += 1\n",
    "#         if row[\"Cluster\"] in dod[row[\"Pham\"]][row[\"Function\"]][\"clusters\"].keys():\n",
    "#             dod[row[\"Pham\"]][row[\"Function\"]][\"clusters\"][row[\"Cluster\"]] += 1\n",
    "#         else:\n",
    "#             dod[row[\"Pham\"]][row[\"Function\"]][\"clusters\"][row[\"Cluster\"]] = 1\n",
    "        \n",
    "#     elif row[\"Pham\"] in dod.keys():\n",
    "#         dod[row[\"Pham\"]][row[\"Function\"]] = {\"weight\":1, \"clusters\": {row[\"Cluster\"]:1}}\n",
    "#     else:\n",
    "#         dod[row[\"Pham\"]] = {row[\"Function\"]:{\"weight\":1, \"clusters\": {row[\"Cluster\"]:1}}}\n",
    "#     i += 1\n",
    "#     if i>3:\n",
    "#         break\n",
    "# print(dod)\n",
    "# G = nx.from_dict_of_dicts(dod)\n",
    "# nx.draw_networkx(G, node_size=2)"
   ]
  },
  {
   "cell_type": "code",
   "execution_count": 22,
   "metadata": {},
   "outputs": [],
   "source": [
    "# nx.write_gexf(G, \"Bipartite_Gene_Graph.gexf\")"
   ]
  },
  {
   "cell_type": "code",
   "execution_count": 23,
   "metadata": {},
   "outputs": [],
   "source": [
    "# make a mapping for ability to add values in matrix {value: index,...}\n",
    "# pham_mapping = {}\n",
    "# for p in range(len(phams)):\n",
    "#     pham_mapping[phams[p]] = p\n",
    "    \n",
    "# cluster_mapping = {}\n",
    "# for c in range(len(clusters)):\n",
    "#     cluster_mapping[clusters[c]] = c"
   ]
  }
 ],
 "metadata": {
  "kernelspec": {
   "display_name": "Python 3",
   "language": "python",
   "name": "python3"
  },
  "language_info": {
   "codemirror_mode": {
    "name": "ipython",
    "version": 3
   },
   "file_extension": ".py",
   "mimetype": "text/x-python",
   "name": "python",
   "nbconvert_exporter": "python",
   "pygments_lexer": "ipython3",
   "version": "3.7.6"
  }
 },
 "nbformat": 4,
 "nbformat_minor": 4
}
