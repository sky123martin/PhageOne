{
 "cells": [
  {
   "cell_type": "markdown",
   "metadata": {},
   "source": [
    "Date Created: 01/26/21\n",
    "## Goal of Notebook: Retrieve Substrate and Primer Sequences for BRED"
   ]
  },
  {
   "cell_type": "code",
   "execution_count": 22,
   "metadata": {},
   "outputs": [],
   "source": [
    "# import libraries\n",
    "import requests \n",
    "import pandas as pd\n",
    "import numpy as np\n",
    "import matplotlib.pyplot as plt\n",
    "import re"
   ]
  },
  {
   "cell_type": "code",
   "execution_count": 23,
   "metadata": {},
   "outputs": [],
   "source": [
    "### USER CONFIG VARS\n",
    "target_phage = \"D29\"\n",
    "target_gp = \"25\""
   ]
  },
  {
   "cell_type": "code",
   "execution_count": 24,
   "metadata": {},
   "outputs": [],
   "source": [
    "# retrieve all phages names from phagesDB\n",
    "query_url = \"https://phagesdb.org/api/phages/{}/\".format(target_phage)\n",
    "out = requests.get(url = query_url).json()#[\"results\"]\n",
    "\n",
    "genome_length = out['genome_length']\n",
    "fasta_file = out[\"fasta_file\"]"
   ]
  },
  {
   "cell_type": "code",
   "execution_count": 25,
   "metadata": {},
   "outputs": [
    {
     "data": {
      "text/html": [
       "<div>\n",
       "<style scoped>\n",
       "    .dataframe tbody tr th:only-of-type {\n",
       "        vertical-align: middle;\n",
       "    }\n",
       "\n",
       "    .dataframe tbody tr th {\n",
       "        vertical-align: top;\n",
       "    }\n",
       "\n",
       "    .dataframe thead th {\n",
       "        text-align: right;\n",
       "    }\n",
       "</style>\n",
       "<table border=\"1\" class=\"dataframe\">\n",
       "  <thead>\n",
       "    <tr style=\"text-align: right;\">\n",
       "      <th></th>\n",
       "      <th>GeneID</th>\n",
       "      <th>PhageID</th>\n",
       "      <th>phams</th>\n",
       "      <th>Start</th>\n",
       "      <th>Stop</th>\n",
       "      <th>Length</th>\n",
       "      <th>Name</th>\n",
       "      <th>translation</th>\n",
       "      <th>Orientation</th>\n",
       "      <th>Notes</th>\n",
       "    </tr>\n",
       "  </thead>\n",
       "  <tbody>\n",
       "    <tr>\n",
       "      <th>0</th>\n",
       "      <td>D29_CDS_1</td>\n",
       "      <td>{'PhageID': 'D29', 'Accession': 'AF022214', 'N...</td>\n",
       "      <td>[48212]</td>\n",
       "      <td>400</td>\n",
       "      <td>1213</td>\n",
       "      <td>813</td>\n",
       "      <td>1</td>\n",
       "      <td>MYGTRSSAYWSTQPGKFDVLNLRMTFPSSSAYEIPDLRPTTYVPAN...</td>\n",
       "      <td>F</td>\n",
       "      <td>b''</td>\n",
       "    </tr>\n",
       "    <tr>\n",
       "      <th>1</th>\n",
       "      <td>D29_CDS_2</td>\n",
       "      <td>{'PhageID': 'D29', 'Accession': 'AF022214', 'N...</td>\n",
       "      <td>[14135]</td>\n",
       "      <td>1326</td>\n",
       "      <td>2106</td>\n",
       "      <td>780</td>\n",
       "      <td>2</td>\n",
       "      <td>MDPAQKRAAFNALAVAARDQHSPSDAKRIAKRDQMLGYVRGPWEQL...</td>\n",
       "      <td>F</td>\n",
       "      <td>b''</td>\n",
       "    </tr>\n",
       "    <tr>\n",
       "      <th>2</th>\n",
       "      <td>D29_CDS_3</td>\n",
       "      <td>{'PhageID': 'D29', 'Accession': 'AF022214', 'N...</td>\n",
       "      <td>[9720]</td>\n",
       "      <td>2105</td>\n",
       "      <td>2357</td>\n",
       "      <td>252</td>\n",
       "      <td>3</td>\n",
       "      <td>MALMQATHTIEGFLAVETHPRAFVAENGHVITRLSATKWGGWEGLE...</td>\n",
       "      <td>F</td>\n",
       "      <td>b''</td>\n",
       "    </tr>\n",
       "    <tr>\n",
       "      <th>3</th>\n",
       "      <td>D29_CDS_4</td>\n",
       "      <td>{'PhageID': 'D29', 'Accession': 'AF022214', 'N...</td>\n",
       "      <td>[52081]</td>\n",
       "      <td>2353</td>\n",
       "      <td>2650</td>\n",
       "      <td>297</td>\n",
       "      <td>4</td>\n",
       "      <td>MSWAGSKRRQELPEDWELNYRLPVLSAAGWLCEVDGPGCVRAATDV...</td>\n",
       "      <td>F</td>\n",
       "      <td>b''</td>\n",
       "    </tr>\n",
       "    <tr>\n",
       "      <th>4</th>\n",
       "      <td>D29_CDS_5</td>\n",
       "      <td>{'PhageID': 'D29', 'Accession': 'AF022214', 'N...</td>\n",
       "      <td>[7918]</td>\n",
       "      <td>2685</td>\n",
       "      <td>3153</td>\n",
       "      <td>468</td>\n",
       "      <td>5</td>\n",
       "      <td>MGTRGPIGKRDEERVRRNTPENPTETISMIGTVEIPELGDMSYMGE...</td>\n",
       "      <td>F</td>\n",
       "      <td>b''</td>\n",
       "    </tr>\n",
       "  </tbody>\n",
       "</table>\n",
       "</div>"
      ],
      "text/plain": [
       "      GeneID                                            PhageID    phams  \\\n",
       "0  D29_CDS_1  {'PhageID': 'D29', 'Accession': 'AF022214', 'N...  [48212]   \n",
       "1  D29_CDS_2  {'PhageID': 'D29', 'Accession': 'AF022214', 'N...  [14135]   \n",
       "2  D29_CDS_3  {'PhageID': 'D29', 'Accession': 'AF022214', 'N...   [9720]   \n",
       "3  D29_CDS_4  {'PhageID': 'D29', 'Accession': 'AF022214', 'N...  [52081]   \n",
       "4  D29_CDS_5  {'PhageID': 'D29', 'Accession': 'AF022214', 'N...   [7918]   \n",
       "\n",
       "   Start  Stop  Length Name  \\\n",
       "0    400  1213     813    1   \n",
       "1   1326  2106     780    2   \n",
       "2   2105  2357     252    3   \n",
       "3   2353  2650     297    4   \n",
       "4   2685  3153     468    5   \n",
       "\n",
       "                                         translation Orientation Notes  \n",
       "0  MYGTRSSAYWSTQPGKFDVLNLRMTFPSSSAYEIPDLRPTTYVPAN...           F   b''  \n",
       "1  MDPAQKRAAFNALAVAARDQHSPSDAKRIAKRDQMLGYVRGPWEQL...           F   b''  \n",
       "2  MALMQATHTIEGFLAVETHPRAFVAENGHVITRLSATKWGGWEGLE...           F   b''  \n",
       "3  MSWAGSKRRQELPEDWELNYRLPVLSAAGWLCEVDGPGCVRAATDV...           F   b''  \n",
       "4  MGTRGPIGKRDEERVRRNTPENPTETISMIGTVEIPELGDMSYMGE...           F   b''  "
      ]
     },
     "execution_count": 25,
     "metadata": {},
     "output_type": "execute_result"
    }
   ],
   "source": [
    "# Retrieve gene info\n",
    "query_url = \"https://phagesdb.org/api/genesbyphage/{}/\".format(target_phage)\n",
    "out = requests.get(url = query_url).json()[\"results\"]\n",
    "genes_df = pd.DataFrame(out)\n",
    "genes_df.head()"
   ]
  },
  {
   "cell_type": "code",
   "execution_count": 26,
   "metadata": {},
   "outputs": [
    {
     "name": "stdout",
     "output_type": "stream",
     "text": [
      "b'' F 16221 16527\n"
     ]
    }
   ],
   "source": [
    "# extract info from gene\n",
    "target_gene_df = genes_df[genes_df[\"Name\"] == str(target_gp)]\n",
    "start_bp = int(target_gene_df[\"Start\"].iloc[0])\n",
    "stop_bp = int(target_gene_df[\"Stop\"].iloc[0])\n",
    "function = target_gene_df[\"Notes\"].iloc[0]\n",
    "orientation = target_gene_df[\"Orientation\"].iloc[0]\n",
    "translation = target_gene_df[\"translation\"].iloc[0]\n",
    "# genome_length = phages_df[phages_df[\"phage_name\"]==target_phage]['genome_length'].iloc[0]\n",
    "\n",
    "\n",
    "print(function, orientation, start_bp, stop_bp)"
   ]
  },
  {
   "cell_type": "markdown",
   "metadata": {},
   "source": [
    "## Substrate Sequence Using Interval Location"
   ]
  },
  {
   "cell_type": "code",
   "execution_count": 27,
   "metadata": {},
   "outputs": [],
   "source": [
    "# https://phagesdb.org/media/fastas/{}.fasta"
   ]
  },
  {
   "cell_type": "markdown",
   "metadata": {},
   "source": [
    "## Substrate Sequence Using GP "
   ]
  },
  {
   "cell_type": "code",
   "execution_count": 28,
   "metadata": {},
   "outputs": [
    {
     "data": {
      "text/plain": [
       "49818"
      ]
     },
     "execution_count": 28,
     "metadata": {},
     "output_type": "execute_result"
    }
   ],
   "source": [
    "# download the fasta file\n",
    "url = \"https://phagesdb.org/media/fastas/{}.fasta\".format(target_phage)\n",
    "r = requests.get(url, allow_redirects=True)\n",
    "open('fasta_files/{}'.format(target_phage), 'wb').write(r.content) # delete the first line"
   ]
  },
  {
   "cell_type": "code",
   "execution_count": 29,
   "metadata": {},
   "outputs": [],
   "source": [
    "f = open('fasta_files/{}'.format(target_phage), \"r\")\n",
    "DNA = ''.join(f.read().split(\"\\n\")[1:])\n",
    "\n",
    "# if orientation == \"R\":\n",
    "gene = DNA[start_bp-1:stop_bp-1] # -1 to account for zero indexing, -4 to account for start site\n",
    "# else:\n",
    "#     gene = DNA[start_bp-1:stop_bp-1] # -1 to account for zero indexing, -4 to account for start site\n",
    "# gene"
   ]
  },
  {
   "cell_type": "code",
   "execution_count": 30,
   "metadata": {},
   "outputs": [
    {
     "data": {
      "text/plain": [
       "'GGTGATTCACCTCCCGAAGACAGGCGCGTTCTACGCGGAGCGTCGAGGTGGTCAGCAGTACCGAGGTTGGGATGAGGACCGGTACGCGCTCGCGGACATCTACGACGCAGTCCAGGCGGGCAACCACATCCTCCTGATGGCCAACCGGGATCCGAAGAAGCCAAAGCCGAAGGCACCCAAGGCATACCCGCGTCCCGACGACTTTGAGAAGACAACGCCGAAGCCAGGTTCGTTCGCCGCGATGGTAGTGGCCGCGAAGAAGGCTGCGCGAGAGAAGAGGGAAAGGGAGGAGGCGAATGCCGAATA'"
      ]
     },
     "execution_count": 30,
     "metadata": {},
     "output_type": "execute_result"
    }
   ],
   "source": [
    "gene"
   ]
  },
  {
   "cell_type": "code",
   "execution_count": 45,
   "metadata": {},
   "outputs": [],
   "source": [
    "table = { \n",
    "        'ATA':'I', 'ATC':'I', 'ATT':'I', 'ATG':'M', \n",
    "        'ACA':'T', 'ACC':'T', 'ACG':'T', 'ACT':'T', \n",
    "        'AAC':'N', 'AAT':'N', 'AAA':'K', 'AAG':'K', \n",
    "        'AGC':'S', 'AGT':'S', 'AGA':'R', 'AGG':'R',                  \n",
    "        'CTA':'L', 'CTC':'L', 'CTG':'L', 'CTT':'L', \n",
    "        'CCA':'P', 'CCC':'P', 'CCG':'P', 'CCT':'P', \n",
    "        'CAC':'H', 'CAT':'H', 'CAA':'Q', 'CAG':'Q', \n",
    "        'CGA':'R', 'CGC':'R', 'CGG':'R', 'CGT':'R', \n",
    "        'GTA':'V', 'GTC':'V', 'GTG':'V', 'GTT':'V',  # GTG in bacteria codes for MET\n",
    "        'GCA':'A', 'GCC':'A', 'GCG':'A', 'GCT':'A', \n",
    "        'GAC':'D', 'GAT':'D', 'GAA':'E', 'GAG':'E', \n",
    "        'GGA':'G', 'GGC':'G', 'GGG':'G', 'GGT':'G', \n",
    "        'TCA':'S', 'TCC':'S', 'TCG':'S', 'TCT':'S', \n",
    "        'TTC':'F', 'TTT':'F', 'TTA':'L', 'TTG':'L', \n",
    "        'TAC':'Y', 'TAT':'Y', 'TAA':'_', 'TAG':'_', \n",
    "        'TGC':'C', 'TGT':'C', 'TGA':'_', 'TGG':'W', \n",
    "    }\n",
    "\n",
    "comp_table = {\"A\":\"T\", \"T\":\"A\", \"C\":\"G\", \"G\":\"C\"}\n",
    "\n",
    "def translate(seq):\n",
    "    protein = \"\" \n",
    "    num_codons = len(seq)-len(seq)%3\n",
    "    for i in range(0, num_codons, 3): \n",
    "        codon = seq[i:i + 3] \n",
    "        #print(codon, table[codon])\n",
    "        protein += table[codon] \n",
    "            \n",
    "    return protein\n",
    "\n",
    "def complementation(seq):\n",
    "    comp_seq = \"\"\n",
    "    for bp in seq:\n",
    "        comp_seq += comp_table[bp]\n",
    "    return comp_seq\n",
    "    \n",
    "def reverse(seq):\n",
    "    return seq[::-1]"
   ]
  },
  {
   "cell_type": "code",
   "execution_count": 46,
   "metadata": {},
   "outputs": [
    {
     "data": {
      "text/plain": [
       "'MIHLPKTGAFYAERRGGQQYRGWDEDRYALADIYDAVQAGNHILLMANRDPKKPKPKAPKAYPRPDDFEKTTPKPGSFAAMVVAAKKAAREKREREEANAE'"
      ]
     },
     "execution_count": 46,
     "metadata": {},
     "output_type": "execute_result"
    }
   ],
   "source": [
    "translation"
   ]
  },
  {
   "cell_type": "code",
   "execution_count": 47,
   "metadata": {},
   "outputs": [
    {
     "data": {
      "text/plain": [
       "'MIHLPKTGAFYAERRGGQQYRGWDEDRYALADIYDAVQAGNHILLMANRDPKKPKPKAPKAYPRPDDFEKTTPKPGSFAAMVMAAKKAAREKREREEANAE'"
      ]
     },
     "execution_count": 47,
     "metadata": {},
     "output_type": "execute_result"
    }
   ],
   "source": [
    "'MIHLPKTGAFYAERRGGQQYRGWDEDRYALADIYDAVQAGNHILLMANRDPKKPKPKAPKAYPRPDDFEKTTPKPGSFAAMVMAAKKAAREKREREEANAE'"
   ]
  },
  {
   "cell_type": "code",
   "execution_count": 48,
   "metadata": {},
   "outputs": [
    {
     "data": {
      "text/plain": [
       "False"
      ]
     },
     "execution_count": 48,
     "metadata": {},
     "output_type": "execute_result"
    }
   ],
   "source": [
    "'MIHLPKTGAFYAERRGGQQYRGWDEDRYALADIYDAVQAGNHILLMANRDPKKPKPKAPKAYPRPDDFEKTTPKPGSFAAMVMAAKKAAREKREREEANAE'==translation"
   ]
  },
  {
   "cell_type": "code",
   "execution_count": 49,
   "metadata": {},
   "outputs": [
    {
     "name": "stdout",
     "output_type": "stream",
     "text": [
      "82 M V\n"
     ]
    }
   ],
   "source": [
    "t = [i for i in 'MIHLPKTGAFYAERRGGQQYRGWDEDRYALADIYDAVQAGNHILLMANRDPKKPKPKAPKAYPRPDDFEKTTPKPGSFAAMVMAAKKAAREKREREEANAE']\n",
    "arr = [i for i in translation]\n",
    "for i in range(len(arr)):\n",
    "    if t[i]!=arr[i]:\n",
    "        print(i, t[i], arr[i])"
   ]
  },
  {
   "cell_type": "code",
   "execution_count": 44,
   "metadata": {},
   "outputs": [
    {
     "data": {
      "text/plain": [
       "101"
      ]
     },
     "execution_count": 44,
     "metadata": {},
     "output_type": "execute_result"
    }
   ],
   "source": [
    "len(t)"
   ]
  },
  {
   "cell_type": "code",
   "execution_count": 41,
   "metadata": {},
   "outputs": [
    {
     "ename": "IndexError",
     "evalue": "list index out of range",
     "output_type": "error",
     "traceback": [
      "\u001b[0;31m---------------------------------------------------------------------------\u001b[0m",
      "\u001b[0;31mIndexError\u001b[0m                                Traceback (most recent call last)",
      "\u001b[0;32m<ipython-input-41-5d5f13465c83>\u001b[0m in \u001b[0;36m<module>\u001b[0;34m\u001b[0m\n\u001b[0;32m----> 1\u001b[0;31m \u001b[0mt\u001b[0m\u001b[0;34m[\u001b[0m\u001b[0;36m2\u001b[0m\u001b[0;34m]\u001b[0m\u001b[0;34m\u001b[0m\u001b[0;34m\u001b[0m\u001b[0m\n\u001b[0m",
      "\u001b[0;31mIndexError\u001b[0m: list index out of range"
     ]
    }
   ],
   "source": [
    "t[2]"
   ]
  },
  {
   "cell_type": "markdown",
   "metadata": {},
   "source": [
    "Transcribe the gene"
   ]
  },
  {
   "cell_type": "code",
   "execution_count": 53,
   "metadata": {
    "scrolled": false
   },
   "outputs": [
    {
     "name": "stdout",
     "output_type": "stream",
     "text": [
      "No Alterations\n",
      "VIHLPKTGAFYAERRGGQQYRGWDEDRYALADIYDAVQAGNHILLMANRDPKKPKPKAPKAYPRPDDFEKTTPKPGSFAAMVVAAKKAAREKREREEANAE\n",
      "MIHLPKTGAFYAERRGGQQYRGWDEDRYALADIYDAVQAGNHILLMANRDPKKPKPKAPKAYPRPDDFEKTTPKPGSFAAMVVAAKKAAREKREREEANAE\n",
      "\n",
      "\n",
      "Reverse Complementation\n"
     ]
    }
   ],
   "source": [
    "# CHECK IF Nucleotide sequence in any of the 6 reading frames lines up with protien\n",
    "print(\"No Alterations\")\n",
    "for reading_frame in range(3): # iterate through forward reading frames\n",
    "    protien = translate(gene[reading_frame:])\n",
    "    if translation[1:] == protien[1:]:\n",
    "        print(protien)\n",
    "        print(translation)\n",
    "        \n",
    "print(\"\\n\")\n",
    "print(\"Reverse Complementation\")\n",
    "for reading_frame in range(3): # iterate through reverse reading frames\n",
    "    protien = translate(complementation(reverse(gene))[reading_frame:])\n",
    "    if translation[1:] == protien[1:]:\n",
    "        print(protien)\n",
    "        print(translation)\n"
   ]
  },
  {
   "cell_type": "code",
   "execution_count": 57,
   "metadata": {},
   "outputs": [
    {
     "name": "stdout",
     "output_type": "stream",
     "text": [
      "Substrate w/ homologous ends: GCGGGGCGATTCTCTCCGACTTGTCCGAGTACCACGGGGTCGACCTGCGCGATCTGTTCAGAGATGAAGATCCGCTGTCCCCCAGGTACGTCCTGAATCTGGTGATTCACCTCCCGAAGACAGGCGCGTTCTACGCGGAGCGTCGAGGTGGTCAGCAGTACCGAGGTTGGGATGAGGACCGGTACGCGCTCGCGGACATCTACGACGCAGTCCAGGCGGGCAACCACATCCTCCTGATGGCCAACCGGGATCCGAAGAAGCCAAAGCCGAAGGCACCCAAGGCATACCCGCGTCCCGACGACTTTGAGAAGACAACGCCGAAGCCAGGTTCGTTCGCCGCGATGGTAGTGGCCGCGAAGAAGGCTGCGCGAGAGAAGAGGGAAAGGGAGGAGGCGAATGCCGAATAGTGCTGGCGTAGAGGTCGCACGGATCTCCGTCAAGGTCAGCCCCAACACCAAAGAGTTCCGTCGTGAGCTGAAGACCGATCTGGAGAAGATCGAGCGGGA \n",
      "\n",
      "Forward Primer: CGAGCTGATCGACAAGTTCG \n",
      "\n",
      "Reverse Primer: CCGGAACGTCGGCCGACAGC \n",
      "\n"
     ]
    }
   ],
   "source": [
    "substrate = DNA[start_bp-1-100:stop_bp-1+100]\n",
    "primer_F = DNA[start_bp-1-100-20:start_bp-1-100]\n",
    "primer_R = reverse(complementation(DNA[stop_bp-1+100:stop_bp-1+100+20]))\n",
    "                   \n",
    "print(\"Substrate w/ homologous ends:\", substrate, \"\\n\")\n",
    "print(\"Forward Primer:\", primer_F, \"\\n\")\n",
    "print(\"Reverse Primer:\", primer_R, \"\\n\")\n",
    "\n",
    "# biopython Melting tempatures, self/homo diamorization\n",
    "# Unique binding site\n",
    "# Primer3 https://pypi.org/project/primer3-py/\n",
    "#.        https://www.biostars.org/p/99865/ https://libnano.github.io/primer3-py/quickstart.html\n",
    "# attttt-gggg-ctctctc\n",
    "# attt-...-ttctc-...-tctc 20 bp"
   ]
  },
  {
   "cell_type": "markdown",
   "metadata": {},
   "source": [
    "Transcribe the entire DNA sequence"
   ]
  },
  {
   "cell_type": "markdown",
   "metadata": {},
   "source": [
    "Double check FASTA belongs to D29"
   ]
  },
  {
   "cell_type": "code",
   "execution_count": 92,
   "metadata": {},
   "outputs": [
    {
     "data": {
      "text/plain": [
       "True"
      ]
     },
     "execution_count": 92,
     "metadata": {},
     "output_type": "execute_result"
    }
   ],
   "source": [
    "len(DNA) == genome_length"
   ]
  },
  {
   "cell_type": "code",
   "execution_count": 93,
   "metadata": {},
   "outputs": [],
   "source": [
    "for i in np.unique(list(translation)):\n",
    "    if i not in table.values():\n",
    "        print(i)"
   ]
  },
  {
   "cell_type": "code",
   "execution_count": 94,
   "metadata": {},
   "outputs": [
    {
     "data": {
      "text/plain": [
       "'MQASYVSPIDGQRYFGPRNYDNRMDAEAWLASEKRLIDNEEWTPPAEREKKAAASAITVEEYTKKWIAERDLAGGTKDLYSTHARKRIYPVLGDTPVAEMTPALVRAWWAGMGKQYPTARRHAYNVLRAVMNTAVEDKLVSENPCRIEQKAPAERDVEALTPEELDVVAGEVFEHYRVAVYILAWTSLRFGELIEIRRKDIVDDGETMKLRVRRGAARVGEKIVVGNTKTVRSKRPVTVPPHVAAMIREHMADRTKMNKGPEALLVTTTRGQRLSKSAFTRSLKKGYAKIGRPDLRIHDLRAVGATLAAQAGATTKELMVRLGHTTPRMAMKYQMASAARDEEIARRMSELAGITP'"
      ]
     },
     "execution_count": 94,
     "metadata": {},
     "output_type": "execute_result"
    }
   ],
   "source": [
    "translation"
   ]
  },
  {
   "cell_type": "code",
   "execution_count": null,
   "metadata": {},
   "outputs": [],
   "source": []
  }
 ],
 "metadata": {
  "kernelspec": {
   "display_name": "Python 3",
   "language": "python",
   "name": "python3"
  },
  "language_info": {
   "codemirror_mode": {
    "name": "ipython",
    "version": 3
   },
   "file_extension": ".py",
   "mimetype": "text/x-python",
   "name": "python",
   "nbconvert_exporter": "python",
   "pygments_lexer": "ipython3",
   "version": "3.7.6"
  }
 },
 "nbformat": 4,
 "nbformat_minor": 4
}
