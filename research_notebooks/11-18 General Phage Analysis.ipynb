{
 "cells": [
  {
   "cell_type": "markdown",
   "metadata": {},
   "source": [
    "Date Created: 11/18/20\n",
    "## Goal of Notebook: General Phage Analysis\n",
    "For this notebook I want to understand the sample of sequenced phages in the phagesDB dataset. This is important because we have an unequal characteristics among the phages."
   ]
  },
  {
   "cell_type": "code",
   "execution_count": 1,
   "metadata": {},
   "outputs": [],
   "source": [
    "import requests \n",
    "import pandas as pd\n",
    "from random import sample \n",
    "import numpy as np\n",
    "import networkx as nx\n",
    "import matplotlib.pyplot as plt\n",
    "import seaborn as sns                                                             \n",
    "import sys \n",
    "from networkx.algorithms import bipartite\n"
   ]
  },
  {
   "cell_type": "code",
   "execution_count": 98,
   "metadata": {},
   "outputs": [
    {
     "data": {
      "text/html": [
       "<div>\n",
       "<style scoped>\n",
       "    .dataframe tbody tr th:only-of-type {\n",
       "        vertical-align: middle;\n",
       "    }\n",
       "\n",
       "    .dataframe tbody tr th {\n",
       "        vertical-align: top;\n",
       "    }\n",
       "\n",
       "    .dataframe thead th {\n",
       "        text-align: right;\n",
       "    }\n",
       "</style>\n",
       "<table border=\"1\" class=\"dataframe\">\n",
       "  <thead>\n",
       "    <tr style=\"text-align: right;\">\n",
       "      <th></th>\n",
       "      <th>gene ID</th>\n",
       "      <th>pham</th>\n",
       "      <th>function</th>\n",
       "      <th>translation</th>\n",
       "      <th>orientation</th>\n",
       "      <th>phage</th>\n",
       "      <th>gene number</th>\n",
       "      <th>uncleaned function</th>\n",
       "    </tr>\n",
       "  </thead>\n",
       "  <tbody>\n",
       "    <tr>\n",
       "      <th>0</th>\n",
       "      <td>20ES_CDS_1</td>\n",
       "      <td>36676</td>\n",
       "      <td>NKF</td>\n",
       "      <td>MYGTRSSAFWASQPGKFDVLNLRMTFPSTSAHEIPDLTATDFVPEN...</td>\n",
       "      <td>F</td>\n",
       "      <td>20ES</td>\n",
       "      <td>1</td>\n",
       "      <td>NaN</td>\n",
       "    </tr>\n",
       "    <tr>\n",
       "      <th>1</th>\n",
       "      <td>20ES_CDS_10</td>\n",
       "      <td>39578</td>\n",
       "      <td>lysin b</td>\n",
       "      <td>MSLQVGSSGELVNRWIRVMKARFASYAGKLKEDGYFGLDDKAVQQE...</td>\n",
       "      <td>F</td>\n",
       "      <td>20ES</td>\n",
       "      <td>10</td>\n",
       "      <td>lysin b</td>\n",
       "    </tr>\n",
       "    <tr>\n",
       "      <th>2</th>\n",
       "      <td>20ES_CDS_11</td>\n",
       "      <td>34196</td>\n",
       "      <td>terminase</td>\n",
       "      <td>MSLENHHPELAPSPPHIIGPSWQRTVDGSWHLPDPKMTLGWGVLKW...</td>\n",
       "      <td>F</td>\n",
       "      <td>20ES</td>\n",
       "      <td>11</td>\n",
       "      <td>terminase</td>\n",
       "    </tr>\n",
       "    <tr>\n",
       "      <th>3</th>\n",
       "      <td>20ES_CDS_12</td>\n",
       "      <td>39511</td>\n",
       "      <td>portal protein</td>\n",
       "      <td>MTAPLPGQEEIPDPAIARDEMISAFDDAVKNLKINTSYYEAERRPE...</td>\n",
       "      <td>F</td>\n",
       "      <td>20ES</td>\n",
       "      <td>12</td>\n",
       "      <td>portal protein</td>\n",
       "    </tr>\n",
       "    <tr>\n",
       "      <th>4</th>\n",
       "      <td>20ES_CDS_13</td>\n",
       "      <td>21454</td>\n",
       "      <td>capsid maturation protease</td>\n",
       "      <td>MITAAVAAYVQRFASMFTGPALSLGEWARFLQTLFPEVQRRYAQAA...</td>\n",
       "      <td>F</td>\n",
       "      <td>20ES</td>\n",
       "      <td>13</td>\n",
       "      <td>capsid maturation protease</td>\n",
       "    </tr>\n",
       "  </tbody>\n",
       "</table>\n",
       "</div>"
      ],
      "text/plain": [
       "       gene ID   pham                    function  \\\n",
       "0   20ES_CDS_1  36676                         NKF   \n",
       "1  20ES_CDS_10  39578                     lysin b   \n",
       "2  20ES_CDS_11  34196                   terminase   \n",
       "3  20ES_CDS_12  39511              portal protein   \n",
       "4  20ES_CDS_13  21454  capsid maturation protease   \n",
       "\n",
       "                                         translation orientation phage  \\\n",
       "0  MYGTRSSAFWASQPGKFDVLNLRMTFPSTSAHEIPDLTATDFVPEN...           F  20ES   \n",
       "1  MSLQVGSSGELVNRWIRVMKARFASYAGKLKEDGYFGLDDKAVQQE...           F  20ES   \n",
       "2  MSLENHHPELAPSPPHIIGPSWQRTVDGSWHLPDPKMTLGWGVLKW...           F  20ES   \n",
       "3  MTAPLPGQEEIPDPAIARDEMISAFDDAVKNLKINTSYYEAERRPE...           F  20ES   \n",
       "4  MITAAVAAYVQRFASMFTGPALSLGEWARFLQTLFPEVQRRYAQAA...           F  20ES   \n",
       "\n",
       "   gene number          uncleaned function  \n",
       "0            1                         NaN  \n",
       "1           10                     lysin b  \n",
       "2           11                   terminase  \n",
       "3           12              portal protein  \n",
       "4           13  capsid maturation protease  "
      ]
     },
     "execution_count": 98,
     "metadata": {},
     "output_type": "execute_result"
    }
   ],
   "source": [
    "df_genes = pd.read_csv(\"data/cleaned_gene_list.csv\")\n",
    "df_genes.head()"
   ]
  },
  {
   "cell_type": "code",
   "execution_count": 102,
   "metadata": {},
   "outputs": [
    {
     "data": {
      "text/plain": [
       "348734"
      ]
     },
     "execution_count": 102,
     "metadata": {},
     "output_type": "execute_result"
    }
   ],
   "source": [
    "df_genes[\"gene ID\"].nunique()"
   ]
  },
  {
   "cell_type": "code",
   "execution_count": 99,
   "metadata": {},
   "outputs": [
    {
     "data": {
      "text/plain": [
       "155704"
      ]
     },
     "execution_count": 99,
     "metadata": {},
     "output_type": "execute_result"
    }
   ],
   "source": [
    "df_genes[\"translation\"].nunique()"
   ]
  },
  {
   "cell_type": "code",
   "execution_count": 100,
   "metadata": {},
   "outputs": [
    {
     "data": {
      "text/plain": [
       "196"
      ]
     },
     "execution_count": 100,
     "metadata": {},
     "output_type": "execute_result"
    }
   ],
   "source": [
    "df_genes[\"function\"].nunique()"
   ]
  },
  {
   "cell_type": "code",
   "execution_count": 103,
   "metadata": {},
   "outputs": [
    {
     "data": {
      "text/plain": [
       "1668"
      ]
     },
     "execution_count": 103,
     "metadata": {},
     "output_type": "execute_result"
    }
   ],
   "source": [
    "df_genes[\"uncleaned function\"].nunique()"
   ]
  },
  {
   "cell_type": "code",
   "execution_count": 101,
   "metadata": {},
   "outputs": [
    {
     "data": {
      "text/plain": [
       "23224"
      ]
     },
     "execution_count": 101,
     "metadata": {},
     "output_type": "execute_result"
    }
   ],
   "source": [
    "df_genes[\"pham\"].nunique()"
   ]
  },
  {
   "cell_type": "code",
   "execution_count": 2,
   "metadata": {},
   "outputs": [
    {
     "data": {
      "text/html": [
       "<div>\n",
       "<style scoped>\n",
       "    .dataframe tbody tr th:only-of-type {\n",
       "        vertical-align: middle;\n",
       "    }\n",
       "\n",
       "    .dataframe tbody tr th {\n",
       "        vertical-align: top;\n",
       "    }\n",
       "\n",
       "    .dataframe thead th {\n",
       "        text-align: right;\n",
       "    }\n",
       "</style>\n",
       "<table border=\"1\" class=\"dataframe\">\n",
       "  <thead>\n",
       "    <tr style=\"text-align: right;\">\n",
       "      <th></th>\n",
       "      <th>phage</th>\n",
       "      <th>temperate</th>\n",
       "      <th>cluster</th>\n",
       "      <th>subcluster</th>\n",
       "      <th>morphotype</th>\n",
       "      <th>host genus</th>\n",
       "      <th>host species</th>\n",
       "      <th>genome length</th>\n",
       "      <th>is annotated</th>\n",
       "      <th>is phamerated</th>\n",
       "      <th>gcpercent</th>\n",
       "    </tr>\n",
       "  </thead>\n",
       "  <tbody>\n",
       "    <tr>\n",
       "      <th>0</th>\n",
       "      <td>20ES</td>\n",
       "      <td>True</td>\n",
       "      <td>A</td>\n",
       "      <td>A2</td>\n",
       "      <td>SIPHO</td>\n",
       "      <td>Mycobacterium</td>\n",
       "      <td>smegmatis</td>\n",
       "      <td>53124.0</td>\n",
       "      <td>False</td>\n",
       "      <td>True</td>\n",
       "      <td>63.4</td>\n",
       "    </tr>\n",
       "    <tr>\n",
       "      <th>1</th>\n",
       "      <td>244</td>\n",
       "      <td>True</td>\n",
       "      <td>E</td>\n",
       "      <td>NaN</td>\n",
       "      <td>SIPHO</td>\n",
       "      <td>Mycobacterium</td>\n",
       "      <td>smegmatis</td>\n",
       "      <td>74483.0</td>\n",
       "      <td>True</td>\n",
       "      <td>True</td>\n",
       "      <td>63.4</td>\n",
       "    </tr>\n",
       "    <tr>\n",
       "      <th>2</th>\n",
       "      <td>32HC</td>\n",
       "      <td>True</td>\n",
       "      <td>Z</td>\n",
       "      <td>NaN</td>\n",
       "      <td>SIPHO</td>\n",
       "      <td>Mycobacterium</td>\n",
       "      <td>smegmatis</td>\n",
       "      <td>50781.0</td>\n",
       "      <td>False</td>\n",
       "      <td>True</td>\n",
       "      <td>65.7</td>\n",
       "    </tr>\n",
       "    <tr>\n",
       "      <th>3</th>\n",
       "      <td>39HC</td>\n",
       "      <td>False</td>\n",
       "      <td>B</td>\n",
       "      <td>B6</td>\n",
       "      <td>SIPHO</td>\n",
       "      <td>Mycobacterium</td>\n",
       "      <td>smegmatis</td>\n",
       "      <td>71565.0</td>\n",
       "      <td>False</td>\n",
       "      <td>True</td>\n",
       "      <td>70.0</td>\n",
       "    </tr>\n",
       "    <tr>\n",
       "      <th>4</th>\n",
       "      <td>40AC</td>\n",
       "      <td>True</td>\n",
       "      <td>A</td>\n",
       "      <td>A17</td>\n",
       "      <td>SIPHO</td>\n",
       "      <td>Mycobacterium</td>\n",
       "      <td>smegmatis</td>\n",
       "      <td>53396.0</td>\n",
       "      <td>False</td>\n",
       "      <td>True</td>\n",
       "      <td>63.3</td>\n",
       "    </tr>\n",
       "  </tbody>\n",
       "</table>\n",
       "</div>"
      ],
      "text/plain": [
       "  phage temperate cluster subcluster morphotype     host genus host species  \\\n",
       "0  20ES      True       A         A2      SIPHO  Mycobacterium    smegmatis   \n",
       "1   244      True       E        NaN      SIPHO  Mycobacterium    smegmatis   \n",
       "2  32HC      True       Z        NaN      SIPHO  Mycobacterium    smegmatis   \n",
       "3  39HC     False       B         B6      SIPHO  Mycobacterium    smegmatis   \n",
       "4  40AC      True       A        A17      SIPHO  Mycobacterium    smegmatis   \n",
       "\n",
       "   genome length is annotated is phamerated  gcpercent  \n",
       "0        53124.0        False          True       63.4  \n",
       "1        74483.0         True          True       63.4  \n",
       "2        50781.0        False          True       65.7  \n",
       "3        71565.0        False          True       70.0  \n",
       "4        53396.0        False          True       63.3  "
      ]
     },
     "execution_count": 2,
     "metadata": {},
     "output_type": "execute_result"
    }
   ],
   "source": [
    "df_phages = pd.read_csv(\"data/phage_metadata.csv\")\n",
    "df_phages.head()"
   ]
  },
  {
   "cell_type": "code",
   "execution_count": 3,
   "metadata": {},
   "outputs": [
    {
     "data": {
      "text/html": [
       "<div>\n",
       "<style scoped>\n",
       "    .dataframe tbody tr th:only-of-type {\n",
       "        vertical-align: middle;\n",
       "    }\n",
       "\n",
       "    .dataframe tbody tr th {\n",
       "        vertical-align: top;\n",
       "    }\n",
       "\n",
       "    .dataframe thead th {\n",
       "        text-align: right;\n",
       "    }\n",
       "</style>\n",
       "<table border=\"1\" class=\"dataframe\">\n",
       "  <thead>\n",
       "    <tr style=\"text-align: right;\">\n",
       "      <th></th>\n",
       "      <th>phage</th>\n",
       "      <th>temperate</th>\n",
       "      <th>cluster</th>\n",
       "      <th>subcluster</th>\n",
       "      <th>morphotype</th>\n",
       "      <th>host genus</th>\n",
       "      <th>host species</th>\n",
       "      <th>genome length</th>\n",
       "      <th>is annotated</th>\n",
       "      <th>is phamerated</th>\n",
       "      <th>gcpercent</th>\n",
       "    </tr>\n",
       "  </thead>\n",
       "  <tbody>\n",
       "    <tr>\n",
       "      <th>1</th>\n",
       "      <td>244</td>\n",
       "      <td>True</td>\n",
       "      <td>E</td>\n",
       "      <td>NaN</td>\n",
       "      <td>SIPHO</td>\n",
       "      <td>Mycobacterium</td>\n",
       "      <td>smegmatis</td>\n",
       "      <td>74483.0</td>\n",
       "      <td>True</td>\n",
       "      <td>True</td>\n",
       "      <td>63.4</td>\n",
       "    </tr>\n",
       "    <tr>\n",
       "      <th>6</th>\n",
       "      <td>Aaronocolus</td>\n",
       "      <td>True</td>\n",
       "      <td>BD</td>\n",
       "      <td>BD1</td>\n",
       "      <td>NaN</td>\n",
       "      <td>Streptomyces</td>\n",
       "      <td>griseus</td>\n",
       "      <td>49562.0</td>\n",
       "      <td>True</td>\n",
       "      <td>True</td>\n",
       "      <td>66.2</td>\n",
       "    </tr>\n",
       "    <tr>\n",
       "      <th>8</th>\n",
       "      <td>AbbeyMikolon</td>\n",
       "      <td>True</td>\n",
       "      <td>BL</td>\n",
       "      <td>NaN</td>\n",
       "      <td>SIPHO</td>\n",
       "      <td>Streptomyces</td>\n",
       "      <td>lividans</td>\n",
       "      <td>42551.0</td>\n",
       "      <td>True</td>\n",
       "      <td>True</td>\n",
       "      <td>66.8</td>\n",
       "    </tr>\n",
       "    <tr>\n",
       "      <th>11</th>\n",
       "      <td>ABCat</td>\n",
       "      <td>True</td>\n",
       "      <td>E</td>\n",
       "      <td>NaN</td>\n",
       "      <td>SIPHO</td>\n",
       "      <td>Mycobacterium</td>\n",
       "      <td>smegmatis</td>\n",
       "      <td>76131.0</td>\n",
       "      <td>True</td>\n",
       "      <td>True</td>\n",
       "      <td>63.0</td>\n",
       "    </tr>\n",
       "    <tr>\n",
       "      <th>12</th>\n",
       "      <td>Abdiel</td>\n",
       "      <td>True</td>\n",
       "      <td>A</td>\n",
       "      <td>A4</td>\n",
       "      <td>SIPHO</td>\n",
       "      <td>Mycobacterium</td>\n",
       "      <td>smegmatis</td>\n",
       "      <td>51381.0</td>\n",
       "      <td>True</td>\n",
       "      <td>True</td>\n",
       "      <td>63.9</td>\n",
       "    </tr>\n",
       "  </tbody>\n",
       "</table>\n",
       "</div>"
      ],
      "text/plain": [
       "           phage temperate cluster subcluster morphotype     host genus  \\\n",
       "1            244      True       E        NaN      SIPHO  Mycobacterium   \n",
       "6    Aaronocolus      True      BD        BD1        NaN   Streptomyces   \n",
       "8   AbbeyMikolon      True      BL        NaN      SIPHO   Streptomyces   \n",
       "11         ABCat      True       E        NaN      SIPHO  Mycobacterium   \n",
       "12        Abdiel      True       A         A4      SIPHO  Mycobacterium   \n",
       "\n",
       "   host species  genome length is annotated is phamerated  gcpercent  \n",
       "1     smegmatis        74483.0         True          True       63.4  \n",
       "6       griseus        49562.0         True          True       66.2  \n",
       "8      lividans        42551.0         True          True       66.8  \n",
       "11    smegmatis        76131.0         True          True       63.0  \n",
       "12    smegmatis        51381.0         True          True       63.9  "
      ]
     },
     "execution_count": 3,
     "metadata": {},
     "output_type": "execute_result"
    }
   ],
   "source": [
    "df_annotated_phages = df_phages[df_phages[\"is annotated\"]==True]\n",
    "df_annotated_phages.head()"
   ]
  },
  {
   "cell_type": "code",
   "execution_count": 4,
   "metadata": {},
   "outputs": [
    {
     "data": {
      "text/plain": [
       "3501"
      ]
     },
     "execution_count": 4,
     "metadata": {},
     "output_type": "execute_result"
    }
   ],
   "source": [
    "df_phages[\"phage\"].nunique()"
   ]
  },
  {
   "cell_type": "code",
   "execution_count": 5,
   "metadata": {},
   "outputs": [
    {
     "data": {
      "text/plain": [
       "phage            661\n",
       "temperate          1\n",
       "cluster            1\n",
       "subcluster        20\n",
       "morphotype         1\n",
       "host genus         2\n",
       "host species       6\n",
       "genome length    547\n",
       "is annotated       2\n",
       "is phamerated      1\n",
       "gcpercent         46\n",
       "dtype: int64"
      ]
     },
     "execution_count": 5,
     "metadata": {},
     "output_type": "execute_result"
    }
   ],
   "source": [
    "df_phages[df_phages[\"cluster\"]==\"A\"].nunique()"
   ]
  },
  {
   "cell_type": "code",
   "execution_count": 96,
   "metadata": {},
   "outputs": [
    {
     "data": {
      "image/png": "[encoded data removed]",
      "text/plain": [
       "<Figure size 360x288 with 1 Axes>"
      ]
     },
     "metadata": {
      "needs_background": "light"
     },
     "output_type": "display_data"
    }
   ],
   "source": [
    "colors = [\"#83c5be\",\"#006d77\"]\n",
    "arr = [df_annotated_phages[\"genome length\"].to_numpy(),df_phages[df_phages[\"is annotated\"]==False][\"genome length\"].to_numpy()]\n",
    "fig = plt.figure(figsize = (5,4))\n",
    "\n",
    "plt.hist(arr, 20, stacked=True, color=colors)\n",
    "#plt.xlabel(\"Genome Length\", fontsize = 16)\n",
    "plt.xticks(rotation='vertical', fontsize = 9)\n",
    "plt.ylabel(\"freq\", fontsize = 16)\n",
    "plt.title(\"Genome Length\", fontsize = 25)\n",
    "sns.despine()\n",
    "plt.show()"
   ]
  },
  {
   "cell_type": "code",
   "execution_count": 108,
   "metadata": {},
   "outputs": [
    {
     "data": {
      "image/png": "[encoded data removed]",
      "text/plain": [
       "<Figure size 360x1080 with 1 Axes>"
      ]
     },
     "metadata": {
      "needs_background": "light"
     },
     "output_type": "display_data"
    }
   ],
   "source": [
    "annotated_clusters = list(df_annotated_phages[\"cluster\"].values)\n",
    "all_clusters = list(df_phages[\"cluster\"].values)\n",
    "\n",
    "unique_clusters = [i for i in df_phages[\"cluster\"].unique() if all_clusters.count(i)>5]\n",
    "single_letter_cluster = list(sorted([i for i in unique_clusters if str(i) != 'nan' and len(i)==1],reverse=True))\n",
    "double_letter_cluster = list(sorted([i for i in unique_clusters if str(i) != 'nan' and len(i)==2],reverse=True))\n",
    "\n",
    "\n",
    "unique_clusters = double_letter_cluster + single_letter_cluster \n",
    "\n",
    "\n",
    "fig = plt.figure(figsize = (5,15))\n",
    "ax = fig.add_axes([0,0,1,1])\n",
    "\n",
    "#annotated\n",
    "\n",
    "cluster_counts = [all_clusters.count(i) for i in unique_clusters]\n",
    "ax.barh(unique_clusters, cluster_counts, color =\"#006d77\", label = \"unannotated\", height=0.8)\n",
    "\n",
    "# total \n",
    "cluster_counts = [annotated_clusters.count(i) for i in unique_clusters]\n",
    "ax.barh(unique_clusters, cluster_counts, color =\"#83c5be\", alpha = 1, label = \"annotated\", height=0.8)\n",
    "plt.xticks(rotation='vertical', fontsize = 9)\n",
    "plt.xlabel(\"Freq\", fontsize = 16)\n",
    "plt.title(\"Cluster\", fontsize = 18)\n",
    "ax.margins(0.04, 0)  \n",
    "sns.despine()\n",
    "plt.show()"
   ]
  },
  {
   "cell_type": "code",
   "execution_count": null,
   "metadata": {},
   "outputs": [],
   "source": []
  },
  {
   "cell_type": "code",
   "execution_count": 91,
   "metadata": {},
   "outputs": [
    {
     "data": {
      "image/png": "[encoded data removed]",
      "text/plain": [
       "<Figure size 360x288 with 1 Axes>"
      ]
     },
     "metadata": {
      "needs_background": "light"
     },
     "output_type": "display_data"
    }
   ],
   "source": [
    "annotated_morphotypes = list(df_annotated_phages[\"morphotype\"].values)\n",
    "all_morphotypes = list(df_phages[\"morphotype\"].values)\n",
    "\n",
    "unique_morphotypes = np.sort([x for x in df_phages[\"morphotype\"].unique() if str(x) != 'nan'])[:-1]\n",
    "\n",
    "fig = plt.figure(figsize = (5,4))\n",
    "ax = fig.add_axes([0,0,1,1])\n",
    "\n",
    "#annotated\n",
    "\n",
    "morphotype_counts = [all_morphotypes.count(i) for i in unique_morphotypes]\n",
    "ax.bar(unique_morphotypes, morphotype_counts, color =\"#006d77\", label = \"unannotated\", width = 0.8)\n",
    "\n",
    "# total \n",
    "morphotype_counts = [annotated_morphotypes.count(i) for i in unique_morphotypes]\n",
    "ax.bar(unique_morphotypes, morphotype_counts, color =\"#83c5be\", alpha = 1, label = \"annotated\", width = 0.8)\n",
    "\n",
    "plt.xticks( fontsize = 16)\n",
    "# plt.xlabel(\"Morphotype\", fontsize = 16)\n",
    "plt.ylabel(\"freq\", fontsize = 16)\n",
    "plt.title(\"Physical Morphotype\", fontsize = 25)\n",
    "plt.legend(fontsize = 14)\n",
    "sns.despine()\n",
    "\n",
    "plt.show()"
   ]
  },
  {
   "cell_type": "code",
   "execution_count": 92,
   "metadata": {},
   "outputs": [
    {
     "data": {
      "image/png": "[encoded data removed]",
      "text/plain": [
       "<Figure size 360x288 with 1 Axes>"
      ]
     },
     "metadata": {
      "needs_background": "light"
     },
     "output_type": "display_data"
    }
   ],
   "source": [
    "annotated_morphotypes = list(df_annotated_phages[\"temperate\"].values)\n",
    "all_morphotypes = list(df_phages[\"temperate\"].values)\n",
    "\n",
    "unique_morphotypes = ['True', 'False']\n",
    "\n",
    "fig = plt.figure(figsize = (5,4))\n",
    "ax = fig.add_axes([0,0,1,1])\n",
    "\n",
    "#annotated\n",
    "\n",
    "morphotype_counts = [all_morphotypes .count(i) for i in unique_morphotypes]\n",
    "ax.bar(unique_morphotypes, morphotype_counts, color =\"#006d77\", label = \"unannotated\", width = 0.8)\n",
    "\n",
    "# total \n",
    "morphotype_counts = [annotated_morphotypes.count(i) for i in unique_morphotypes]\n",
    "ax.bar(unique_morphotypes, morphotype_counts, color =\"#83c5be\", alpha = 1, label = \"annotated\", width = 0.8)\n",
    "\n",
    "plt.xticks( fontsize = 16)\n",
    "# plt.xlabel(\"Temperate?\", fontsize = 16)\n",
    "plt.ylabel(\"freq\", fontsize = 16)\n",
    "plt.title(\"Lifecycle Morphotype\", fontsize = 25)\n",
    "plt.xticks(np.arange(2), ('Temperate', 'Lytic'))\n",
    "sns.despine()\n",
    "\n",
    "plt.show()"
   ]
  },
  {
   "cell_type": "code",
   "execution_count": 95,
   "metadata": {},
   "outputs": [
    {
     "data": {
      "image/png": "[encoded data removed]",
      "text/plain": [
       "<Figure size 360x288 with 1 Axes>"
      ]
     },
     "metadata": {
      "needs_background": "light"
     },
     "output_type": "display_data"
    }
   ],
   "source": [
    "fig = plt.figure(figsize = (5,4))\n",
    "ax = fig.add_axes([0,0,1,1])\n",
    "\n",
    "#annotated\n",
    "\n",
    "morphotype_counts = [all_morphotypes .count(i) for i in unique_morphotypes]\n",
    "ax.bar([\"Sequenced Phages\",\" \"], [sum(morphotype_counts),0], color =\"#006d77\", label = \"unannotated\", width = 0.8)\n",
    "\n",
    "# total \n",
    "morphotype_counts = [annotated_morphotypes.count(i) for i in unique_morphotypes]\n",
    "ax.bar([\"Sequenced Phages\",\" \"], [sum(morphotype_counts),1], color =\"#83c5be\", alpha = 1, label = \"annotated\", width = 0.8)\n",
    "\n",
    "plt.xticks( fontsize = 16)\n",
    "plt.ylabel(\"freq\", fontsize = 16)\n",
    "plt.xlabel(\"\\n\", fontsize = 16)\n",
    "plt.title(\"Annotation Coverage\", fontsize = 25)\n",
    "sns.despine()\n",
    "\n",
    "plt.show()"
   ]
  },
  {
   "cell_type": "code",
   "execution_count": null,
   "metadata": {},
   "outputs": [],
   "source": []
  }
 ],
 "metadata": {
  "kernelspec": {
   "display_name": "Python 3",
   "language": "python",
   "name": "python3"
  },
  "language_info": {
   "codemirror_mode": {
    "name": "ipython",
    "version": 3
   },
   "file_extension": ".py",
   "mimetype": "text/x-python",
   "name": "python",
   "nbconvert_exporter": "python",
   "pygments_lexer": "ipython3",
   "version": "3.7.6"
  }
 },
 "nbformat": 4,
 "nbformat_minor": 4
}
