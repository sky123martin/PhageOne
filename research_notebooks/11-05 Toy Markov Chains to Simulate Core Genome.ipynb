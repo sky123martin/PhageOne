{
 "cells": [
  {
   "cell_type": "code",
   "execution_count": 1,
   "metadata": {},
   "outputs": [],
   "source": [
    "import requests \n",
    "import pandas as pd\n",
    "from random import sample \n",
    "import numpy as np\n",
    "import networkx as nx\n",
    "import matplotlib.pyplot as plt\n",
    "import seaborn as sns                                                             \n",
    "import sys \n",
    "import math\n",
    "from networkx.algorithms.community import greedy_modularity_communities"
   ]
  },
  {
   "cell_type": "markdown",
   "metadata": {},
   "source": [
    "### Generating Data from Transition Matrix"
   ]
  },
  {
   "cell_type": "code",
   "execution_count": 2,
   "metadata": {},
   "outputs": [],
   "source": [
    "# Arbitrary chosen params\n",
    "states = [\"a\",\"b\",\"c\",\"d\"]\n",
    "state_to_index = {\"a\":0,\"b\":1,\"c\":2,\"d\":3}\n",
    "initial_probabilties = [0.1, 0.3, 0.5, 0.1]\n",
    "transition_matrix = np.asarray([\n",
    "                                [0.1, 0.9, 0.0, 0.0],\n",
    "                                [0.5, 0.2, 0.2, 0.1],\n",
    "                                [0.3, 0.3, 0.3, 0.1],\n",
    "                                [0.2, 0.2, 0.2, 0.4]\n",
    "                              ])"
   ]
  },
  {
   "cell_type": "code",
   "execution_count": 3,
   "metadata": {},
   "outputs": [
    {
     "name": "stdout",
     "output_type": "stream",
     "text": [
      "generated state set: ['c', 'a', 'b', 'b', 'b', 'c', 'a', 'b', 'a', 'b']\n"
     ]
    }
   ],
   "source": [
    "# arbitraily decide length of produced sequence\n",
    "path_length = 10\n",
    "\n",
    "# generate start state\n",
    "current_index = np.random.choice(list(range(len(states))), p=initial_probabilties)\n",
    "current_state = states[current_index]\n",
    "\n",
    "generated_state_set = [current_state]\n",
    "\n",
    "# generate sequential states\n",
    "for _ in range(path_length-1):\n",
    "    next_index = np.random.choice(list(range(len(states))), p=transition_matrix[current_index])\n",
    "    next_state = states[next_index]\n",
    "    generated_state_set.append(next_state)\n",
    "    current_index = next_index\n",
    "    \n",
    "print(\"generated state set:\", generated_state_set)"
   ]
  },
  {
   "cell_type": "markdown",
   "metadata": {},
   "source": [
    "### Calculate LL of Given Sequence"
   ]
  },
  {
   "cell_type": "code",
   "execution_count": 4,
   "metadata": {},
   "outputs": [
    {
     "name": "stdout",
     "output_type": "stream",
     "text": [
      "LL = -10.14260805837348\n"
     ]
    }
   ],
   "source": [
    "LL_i = 0\n",
    "\n",
    "# calculate LL of initial state\n",
    "prev_state = generated_state_set[0]\n",
    "prev_index = state_to_index[prev_state]\n",
    "LL_i += math.log(initial_probabilties[prev_index])\n",
    "\n",
    "# calculate entire sequence probabilty\n",
    "for current_state in generated_state_set:\n",
    "    current_index = state_to_index[current_state]\n",
    "    LL_i += math.log(transition_matrix[prev_index][current_index])\n",
    "    prev_index = current_index\n",
    "\n",
    "print(\"LL =\", LL_i)"
   ]
  },
  {
   "cell_type": "markdown",
   "metadata": {},
   "source": [
    "### Generate Transition Matrix from Data\n",
    "#### Generate Data"
   ]
  },
  {
   "cell_type": "code",
   "execution_count": 5,
   "metadata": {},
   "outputs": [
    {
     "name": "stdout",
     "output_type": "stream",
     "text": [
      "[['c', 'c', 'd', 'b', 'a', 'b', 'b', 'd', 'c', 'b'], ['c', 'c', 'a', 'b', 'a', 'b', 'c', 'b', 'a', 'a'], ['b', 'a', 'b', 'a', 'b', 'c', 'a', 'b', 'b', 'b'], ['a', 'b', 'b', 'b', 'a', 'b', 'a', 'b', 'd', 'd'], ['c', 'b', 'a', 'b', 'a', 'b', 'a', 'b', 'a', 'b']]\n"
     ]
    }
   ],
   "source": [
    "# arbitraily decide length of produced sequence\n",
    "path_length = 10\n",
    "number_data_sets = 10000\n",
    "generated_sets = []\n",
    "\n",
    "for _ in range(number_data_sets):\n",
    "    # generate start state\n",
    "    current_index = np.random.choice(list(range(len(states))), p=initial_probabilties)\n",
    "    current_state = states[current_index]\n",
    "\n",
    "    generated_state_set = [current_state]\n",
    "\n",
    "    # generate sequential states\n",
    "    for _ in range(path_length-1):\n",
    "        next_index = np.random.choice(list(range(len(states))), p=transition_matrix[current_index])\n",
    "        next_state = states[next_index]\n",
    "        generated_state_set.append(next_state)\n",
    "        current_index = next_index\n",
    "    \n",
    "    generated_sets.append(generated_state_set)\n",
    "\n",
    "print(generated_sets[:5])"
   ]
  },
  {
   "cell_type": "markdown",
   "metadata": {},
   "source": [
    "note: I think it makes sense to do lapace smoothing for seq length generation, due to dynamics of inserting a gene"
   ]
  },
  {
   "cell_type": "markdown",
   "metadata": {},
   "source": [
    "#### Generate Transition Matrix for 1st order MC from Data"
   ]
  },
  {
   "cell_type": "code",
   "execution_count": 6,
   "metadata": {},
   "outputs": [
    {
     "name": "stdout",
     "output_type": "stream",
     "text": [
      "[0.1012 0.3047 0.4939 0.1002]\n",
      "[[0.09878058 0.90121942 0.         0.        ]\n",
      " [0.49952369 0.19915081 0.20064778 0.10067772]\n",
      " [0.30263962 0.30036121 0.29663795 0.10036121]\n",
      " [0.19616808 0.20291748 0.2045504  0.39636403]]\n"
     ]
    }
   ],
   "source": [
    "observed_states = np.sort(np.unique(np.concatenate(generated_sets)))\n",
    "state_to_index = {observed_states[i]: i for i in range(len(observed_states))}\n",
    "estimated_transition_matrix = np.asarray([[0.0]*len(observed_states)]*len(observed_states))\n",
    "estimated_intial_states = np.asarray([0.0]*len(observed_states))\n",
    "\n",
    "for generated_set in generated_sets:\n",
    "    current_index = state_to_index[generated_set[0]]\n",
    "    estimated_intial_states[current_index] += 1.0\n",
    "    \n",
    "    for next_state in generated_set[1:]:\n",
    "        next_index = state_to_index[next_state]\n",
    "        estimated_transition_matrix[current_index][next_index] += 1.0\n",
    "        current_index = next_index\n",
    "        \n",
    "estimated_intial_states = estimated_intial_states/sum(estimated_intial_states)    \n",
    "for i in range(len(estimated_transition_matrix)):\n",
    "    estimated_transition_matrix[i] = estimated_transition_matrix[i]/(sum(estimated_transition_matrix[i]) if sum(estimated_transition_matrix[i])>0 else 1)\n",
    "    \n",
    "print(estimated_intial_states)\n",
    "print(estimated_transition_matrix)"
   ]
  },
  {
   "cell_type": "code",
   "execution_count": 7,
   "metadata": {},
   "outputs": [
    {
     "name": "stdout",
     "output_type": "stream",
     "text": [
      "Difference Between Observed and Estimated Initial State Probabilties\n",
      "[-0.0012 -0.0047  0.0061 -0.0002]\n",
      "Difference Between Observed and Estimated Transition Matrix\n",
      "[[ 0.00121942 -0.00121942  0.          0.        ]\n",
      " [ 0.00047631  0.00084919 -0.00064778 -0.00067772]\n",
      " [-0.00263962 -0.00036121  0.00336205 -0.00036121]\n",
      " [ 0.00383192 -0.00291748 -0.0045504   0.00363597]]\n"
     ]
    }
   ],
   "source": [
    "print(\"Difference Between Observed and Estimated Initial State Probabilties\")\n",
    "print(initial_probabilties - estimated_intial_states)\n",
    "\n",
    "print(\"Difference Between Observed and Estimated Transition Matrix\")\n",
    "print(transition_matrix - estimated_transition_matrix)"
   ]
  },
  {
   "cell_type": "markdown",
   "metadata": {},
   "source": [
    "#### Calculate LL of Transition Matrix for all Observed Sequences Against the Estimated Markov Chain"
   ]
  },
  {
   "cell_type": "code",
   "execution_count": 8,
   "metadata": {},
   "outputs": [
    {
     "name": "stdout",
     "output_type": "stream",
     "text": [
      "-100923.81605560696\n"
     ]
    }
   ],
   "source": [
    "LL = 0\n",
    "\n",
    "for generated_set in generated_sets:\n",
    "    LL_i = 0\n",
    "    current_index = state_to_index[generated_set[0]]\n",
    "    LL_i += math.log(estimated_intial_states[current_index])\n",
    "    \n",
    "    for next_state in generated_set[1:]:\n",
    "        next_index = state_to_index[next_state]\n",
    "        LL_i += math.log(estimated_transition_matrix[current_index][next_index])\n",
    "        current_index = next_index\n",
    "        \n",
    "    LL += LL_i\n",
    "print(LL)"
   ]
  },
  {
   "cell_type": "markdown",
   "metadata": {},
   "source": [
    "### Generate Sequences that have Conserved Core Regions\n"
   ]
  },
  {
   "cell_type": "code",
   "execution_count": 66,
   "metadata": {},
   "outputs": [],
   "source": [
    "core_region_1 = ['a1','a2','a3','a4']\n",
    "core_region_2 = ['b1','b2','b3','b4']\n",
    "core_region_3 = ['c1','c2','c3','c4']\n",
    "variable_elements = ['d','e','f','g','h','i','j','k','l','m','n','o','p','q','r','s','t','u','v','w','x','y','z']\n",
    "\n",
    "genome_length = 60\n",
    "number_genomes = 1000\n",
    "generated_sets = []\n",
    "\n",
    "for _ in range(number_genomes):\n",
    "    # 1. randomly pick subset of and mix up variable elements\n",
    "    genome_template = []\n",
    "\n",
    "    # 2. insert mixed up core elements\n",
    "#     mixed_core_1 = np.random.choice(core_region_1, len(core_region_1), replace = False)\n",
    "#     mixed_core_2 = np.random.choice(core_region_2, len(core_region_2), replace = False)\n",
    "#     mixed_core_3 = np.random.choice(core_region_3, len(core_region_3), replace = False)\n",
    "    \n",
    "    mixed_core_1 = core_region_1\n",
    "    mixed_core_2 = core_region_2\n",
    "    mixed_core_3 = core_region_3\n",
    "    \n",
    "    insertion_range = np.array(range(genome_length-len(core_region_1)))\n",
    "    insertion_locations = np.random.choice(insertion_range, 3)\n",
    "    \n",
    "    # 3. chose where to insert core genomes\n",
    "    while len(genome_template) <= genome_length:\n",
    "    \n",
    "        if len(genome_template) == insertion_locations[0]:\n",
    "            genome_template = genome_template + core_region_1\n",
    "        elif len(genome_template) == insertion_locations[1]:\n",
    "            genome_template = genome_template + core_region_2\n",
    "        elif len(genome_template) == insertion_locations[2]:\n",
    "            genome_template = genome_template + core_region_3\n",
    "        else:\n",
    "            genome_template = genome_template + [np.random.choice(variable_elements)]\n",
    "    \n",
    "\n",
    "    generated_sets.append(genome_template)\n"
   ]
  },
  {
   "cell_type": "code",
   "execution_count": 67,
   "metadata": {},
   "outputs": [
    {
     "data": {
      "text/plain": [
       "[['z',\n",
       "  'g',\n",
       "  'n',\n",
       "  'l',\n",
       "  'q',\n",
       "  'r',\n",
       "  'q',\n",
       "  'z',\n",
       "  'x',\n",
       "  'e',\n",
       "  'j',\n",
       "  'n',\n",
       "  'n',\n",
       "  'x',\n",
       "  'h',\n",
       "  'a1',\n",
       "  'a2',\n",
       "  'a3',\n",
       "  'a4',\n",
       "  'h',\n",
       "  'j',\n",
       "  'b1',\n",
       "  'b2',\n",
       "  'b3',\n",
       "  'b4',\n",
       "  'x',\n",
       "  'p',\n",
       "  'p',\n",
       "  'p',\n",
       "  'q',\n",
       "  'l',\n",
       "  'l',\n",
       "  'x',\n",
       "  'r',\n",
       "  'f',\n",
       "  'h',\n",
       "  'q',\n",
       "  'e',\n",
       "  'k',\n",
       "  'i',\n",
       "  'r',\n",
       "  'l',\n",
       "  'm',\n",
       "  'f',\n",
       "  'm',\n",
       "  'v',\n",
       "  'y',\n",
       "  'g',\n",
       "  'd',\n",
       "  'r',\n",
       "  'g',\n",
       "  'h',\n",
       "  'j',\n",
       "  'f',\n",
       "  'q',\n",
       "  'c1',\n",
       "  'c2',\n",
       "  'c3',\n",
       "  'c4',\n",
       "  'f',\n",
       "  'l'],\n",
       " ['k',\n",
       "  's',\n",
       "  'g',\n",
       "  'v',\n",
       "  'q',\n",
       "  'k',\n",
       "  'x',\n",
       "  'w',\n",
       "  'y',\n",
       "  'j',\n",
       "  'k',\n",
       "  't',\n",
       "  'b1',\n",
       "  'b2',\n",
       "  'b3',\n",
       "  'b4',\n",
       "  'q',\n",
       "  'n',\n",
       "  'd',\n",
       "  'r',\n",
       "  't',\n",
       "  'c1',\n",
       "  'c2',\n",
       "  'c3',\n",
       "  'c4',\n",
       "  'l',\n",
       "  'q',\n",
       "  'z',\n",
       "  't',\n",
       "  'u',\n",
       "  'p',\n",
       "  't',\n",
       "  'u',\n",
       "  'w',\n",
       "  'z',\n",
       "  'i',\n",
       "  'p',\n",
       "  't',\n",
       "  'h',\n",
       "  's',\n",
       "  'p',\n",
       "  's',\n",
       "  'k',\n",
       "  'g',\n",
       "  'a1',\n",
       "  'a2',\n",
       "  'a3',\n",
       "  'a4',\n",
       "  'd',\n",
       "  'r',\n",
       "  'z',\n",
       "  'z',\n",
       "  'g',\n",
       "  'p',\n",
       "  'h',\n",
       "  'i',\n",
       "  'k',\n",
       "  'k',\n",
       "  'v',\n",
       "  'u',\n",
       "  'm']]"
      ]
     },
     "execution_count": 67,
     "metadata": {},
     "output_type": "execute_result"
    }
   ],
   "source": [
    "generated_sets[:2]"
   ]
  },
  {
   "cell_type": "markdown",
   "metadata": {},
   "source": [
    "#### First order markov chain"
   ]
  },
  {
   "cell_type": "code",
   "execution_count": 68,
   "metadata": {},
   "outputs": [],
   "source": [
    "def first_order_markov(data):\n",
    "    observed_states = np.sort(np.unique(np.concatenate(generated_sets)))\n",
    "    state_to_index = {observed_states[i]: i for i in range(len(observed_states))}\n",
    "    estimated_transition_matrix = np.asarray([[0.0]*len(observed_states)]*len(observed_states))\n",
    "    estimated_intial_states = np.asarray([0.0]*len(observed_states))\n",
    "\n",
    "    for generated_set in data:\n",
    "        current_index = state_to_index[generated_set[0]]\n",
    "        estimated_intial_states[current_index] += 1.0\n",
    "\n",
    "        for next_state in generated_set[1:]:\n",
    "            next_index = state_to_index[next_state]\n",
    "            estimated_transition_matrix[current_index][next_index] += 1.0\n",
    "            current_index = next_index\n",
    "\n",
    "    estimated_intial_states = estimated_intial_states/sum(estimated_intial_states)    \n",
    "    for i in range(len(estimated_transition_matrix)):\n",
    "        estimated_transition_matrix[i] = estimated_transition_matrix[i]/(sum(estimated_transition_matrix[i]) if sum(estimated_transition_matrix[i])>0 else 1)\n",
    "    \n",
    "    return observed_states, estimated_intial_states, estimated_transition_matrix"
   ]
  },
  {
   "cell_type": "code",
   "execution_count": 69,
   "metadata": {},
   "outputs": [],
   "source": [
    "observed_states, estimated_intial_states, estimated_transition_matrix = first_order_markov(generated_sets)"
   ]
  },
  {
   "cell_type": "markdown",
   "metadata": {},
   "source": [
    "Log Likelihood of 1st order markov chain"
   ]
  },
  {
   "cell_type": "code",
   "execution_count": 70,
   "metadata": {},
   "outputs": [],
   "source": [
    "def calculate_first_order_LL(data, transition_matrix, initial_states, states):\n",
    "    LL = 0\n",
    "    \n",
    "    state_to_index = {}\n",
    "    for i in range(len(states)):\n",
    "        state_to_index[states[i]] = i\n",
    "        \n",
    "        \n",
    "    for generated_set in generated_sets:\n",
    "        LL_i = 0\n",
    "        current_index = state_to_index[generated_set[0]]\n",
    "        LL_i += math.log(initial_states[current_index])\n",
    "\n",
    "        for next_state in generated_set[1:]:\n",
    "            next_index = state_to_index[next_state]\n",
    "            LL_i += math.log(transition_matrix[current_index][next_index])\n",
    "            current_index = next_index\n",
    "\n",
    "        LL += LL_i\n",
    "    return LL"
   ]
  },
  {
   "cell_type": "code",
   "execution_count": 71,
   "metadata": {},
   "outputs": [
    {
     "name": "stdout",
     "output_type": "stream",
     "text": [
      "-170797.50658551778\n"
     ]
    }
   ],
   "source": [
    "print(calculate_first_order_LL(generated_sets, estimated_transition_matrix, estimated_intial_states, observed_states))"
   ]
  },
  {
   "cell_type": "markdown",
   "metadata": {},
   "source": [
    "Trying greedy clustering algorithm"
   ]
  },
  {
   "cell_type": "code",
   "execution_count": 72,
   "metadata": {},
   "outputs": [
    {
     "name": "stdout",
     "output_type": "stream",
     "text": [
      "GROUP  0\n",
      "a2\n",
      "a3\n",
      "\n",
      "\n",
      "GROUP  1\n",
      "b2\n",
      "b3\n",
      "\n",
      "\n",
      "GROUP  2\n",
      "c2\n",
      "c3\n",
      "\n",
      "\n",
      "GROUP  3\n",
      "a1\n",
      "\n",
      "\n",
      "GROUP  4\n",
      "a4\n",
      "\n",
      "\n",
      "GROUP  5\n",
      "b1\n",
      "\n",
      "\n",
      "GROUP  6\n",
      "b4\n",
      "\n",
      "\n",
      "GROUP  7\n",
      "c1\n",
      "\n",
      "\n",
      "GROUP  8\n",
      "c4\n",
      "\n",
      "\n",
      "GROUP  9\n",
      "d\n",
      "\n",
      "\n",
      "GROUP  10\n",
      "e\n",
      "\n",
      "\n",
      "GROUP  11\n",
      "f\n",
      "\n",
      "\n",
      "GROUP  12\n",
      "g\n",
      "\n",
      "\n",
      "GROUP  13\n",
      "h\n",
      "\n",
      "\n",
      "GROUP  14\n",
      "i\n",
      "\n",
      "\n",
      "GROUP  15\n",
      "j\n",
      "\n",
      "\n",
      "GROUP  16\n",
      "k\n",
      "\n",
      "\n",
      "GROUP  17\n",
      "l\n",
      "\n",
      "\n",
      "GROUP  18\n",
      "m\n",
      "\n",
      "\n",
      "GROUP  19\n",
      "n\n",
      "\n",
      "\n",
      "GROUP  20\n",
      "o\n",
      "\n",
      "\n",
      "GROUP  21\n",
      "p\n",
      "\n",
      "\n",
      "GROUP  22\n",
      "q\n",
      "\n",
      "\n",
      "GROUP  23\n",
      "r\n",
      "\n",
      "\n",
      "GROUP  24\n",
      "s\n",
      "\n",
      "\n",
      "GROUP  25\n",
      "t\n",
      "\n",
      "\n",
      "GROUP  26\n",
      "u\n",
      "\n",
      "\n",
      "GROUP  27\n",
      "v\n",
      "\n",
      "\n",
      "GROUP  28\n",
      "w\n",
      "\n",
      "\n",
      "GROUP  29\n",
      "x\n",
      "\n",
      "\n"
     ]
    }
   ],
   "source": [
    "G_markov = nx.from_numpy_matrix(estimated_transition_matrix)\n",
    "groupings = greedy_modularity_communities(G_markov, weight=None)\n",
    "\n",
    "for g in range(30):\n",
    "    print(\"GROUP \",g)\n",
    "    for i in groupings[g]:\n",
    "        print(observed_states[i])\n",
    "    print()\n",
    "    print()"
   ]
  },
  {
   "cell_type": "code",
   "execution_count": 73,
   "metadata": {},
   "outputs": [
    {
     "data": {
      "image/png": "[encoded data removed]",
      "text/plain": [
       "<Figure size 432x288 with 1 Axes>"
      ]
     },
     "metadata": {},
     "output_type": "display_data"
    }
   ],
   "source": [
    "G_markov = nx.from_numpy_matrix(estimated_transition_matrix)\n",
    "nx.draw(G_markov, with_labels = True, labels = {i:observed_states[i] for i in list(G_markov.nodes())})"
   ]
  },
  {
   "cell_type": "markdown",
   "metadata": {},
   "source": [
    "Generating a Sequence using First Order Markov Chain"
   ]
  },
  {
   "cell_type": "code",
   "execution_count": 20,
   "metadata": {},
   "outputs": [
    {
     "name": "stdout",
     "output_type": "stream",
     "text": [
      "generated state set: ['m', 'h', 'f', 'n', 'b1', 'b2', 'b3', 'b4', 'a1', 'a2', 'a3', 'a4', 's', 'x', 'n', 'z', 'd', 'p', 's', 's', 'h', 'o', 'q', 'z', 'x', 'b1', 'b2', 'b3', 'b4', 's', 'p', 'u', 'w', 'g', 'x', 'z', 'l', 's', 'r', 'w']\n"
     ]
    }
   ],
   "source": [
    "# arbitraily decide length of produced sequence\n",
    "path_length = 40\n",
    "\n",
    "# generate start state\n",
    "current_index = np.random.choice(list(range(len(observed_states))), p=estimated_intial_states)\n",
    "current_state = observed_states[current_index]\n",
    "\n",
    "generated_state_set = [current_state]\n",
    "\n",
    "# generate sequential states\n",
    "for _ in range(path_length-1):\n",
    "    next_index = np.random.choice(list(range(len(observed_states))), p=estimated_transition_matrix[current_index])\n",
    "    next_state = observed_states[next_index]\n",
    "    generated_state_set.append(next_state)\n",
    "    current_index = next_index\n",
    "    \n",
    "print(\"generated state set:\", generated_state_set)"
   ]
  },
  {
   "cell_type": "code",
   "execution_count": 96,
   "metadata": {},
   "outputs": [],
   "source": [
    "core_region_1 = ['a1','a2','a3','a4']\n",
    "core_region_2 = ['b1','b2','b3','b4']\n",
    "core_region_3 = ['c1','c2','c3','c4','c5']\n",
    "variable_elements = ['d','e','f','g','h','i','j','k','l','m','n','o','p','q','r','s','t','u','v','w','x','y','z']\n",
    "\n",
    "genome_length = 60\n",
    "number_genomes = 1000\n",
    "generated_sets = []\n",
    "\n",
    "for _ in range(number_genomes):\n",
    "    # 1. randomly pick subset of and mix up variable elements\n",
    "    genome_template = []\n",
    "\n",
    "    # 2. insert mixed up core elements\n",
    "    mixed_core_1 = np.random.shuffle(core_region_1)\n",
    "    mixed_core_2 = np.random.shuffle(core_region_2)\n",
    "    mixed_core_3 = np.random.shuffle(core_region_3)\n",
    "    \n",
    "    mixed_core_1 = core_region_1\n",
    "    mixed_core_2 = core_region_2\n",
    "    mixed_core_3 = core_region_3\n",
    "    \n",
    "    insertion_range = np.array(range(genome_length-3*len(core_region_1)))\n",
    "    insertion_locations = np.random.choice(insertion_range, 3, replace = False)\n",
    "    \n",
    "    # 3. chose where to insert core genomes\n",
    "    position = 0\n",
    "    while len(genome_template) <= genome_length:\n",
    "    \n",
    "        if position == insertion_locations[0]:\n",
    "            genome_template = genome_template + core_region_1\n",
    "        if position == insertion_locations[1]:\n",
    "            genome_template = genome_template + core_region_2\n",
    "        if position == insertion_locations[2]:\n",
    "            genome_template = genome_template + core_region_3\n",
    "        else:\n",
    "            genome_template = genome_template + [np.random.choice(variable_elements)]\n",
    "    \n",
    "        position += 1\n",
    "    generated_sets.append(genome_template)\n"
   ]
  },
  {
   "cell_type": "code",
   "execution_count": 97,
   "metadata": {},
   "outputs": [
    {
     "data": {
      "text/plain": [
       "[['o',\n",
       "  'w',\n",
       "  'c2',\n",
       "  'c3',\n",
       "  'c1',\n",
       "  'c4',\n",
       "  'c5',\n",
       "  'g',\n",
       "  'p',\n",
       "  'k',\n",
       "  'n',\n",
       "  'g',\n",
       "  'p',\n",
       "  'p',\n",
       "  'v',\n",
       "  'y',\n",
       "  'v',\n",
       "  'o',\n",
       "  'g',\n",
       "  'b4',\n",
       "  'b1',\n",
       "  'b2',\n",
       "  'b3',\n",
       "  'o',\n",
       "  'h',\n",
       "  'l',\n",
       "  'o',\n",
       "  'r',\n",
       "  'k',\n",
       "  'e',\n",
       "  'u',\n",
       "  'f',\n",
       "  'a4',\n",
       "  'a2',\n",
       "  'a1',\n",
       "  'a3',\n",
       "  'n',\n",
       "  'w',\n",
       "  'y',\n",
       "  's',\n",
       "  'r',\n",
       "  'i',\n",
       "  'w',\n",
       "  'm',\n",
       "  'w',\n",
       "  'z',\n",
       "  'h',\n",
       "  'm',\n",
       "  'd',\n",
       "  'l',\n",
       "  'u',\n",
       "  'h',\n",
       "  'e',\n",
       "  'n',\n",
       "  'm',\n",
       "  'd',\n",
       "  'l',\n",
       "  'k',\n",
       "  'i',\n",
       "  'p',\n",
       "  'y'],\n",
       " ['a3',\n",
       "  'a4',\n",
       "  'a1',\n",
       "  'a2',\n",
       "  'p',\n",
       "  'k',\n",
       "  'v',\n",
       "  't',\n",
       "  'q',\n",
       "  'o',\n",
       "  'd',\n",
       "  'n',\n",
       "  'w',\n",
       "  't',\n",
       "  'i',\n",
       "  'k',\n",
       "  's',\n",
       "  's',\n",
       "  'd',\n",
       "  'j',\n",
       "  'w',\n",
       "  'l',\n",
       "  'j',\n",
       "  'z',\n",
       "  'v',\n",
       "  'v',\n",
       "  'g',\n",
       "  'm',\n",
       "  'x',\n",
       "  'm',\n",
       "  'x',\n",
       "  'z',\n",
       "  's',\n",
       "  's',\n",
       "  'l',\n",
       "  'j',\n",
       "  'p',\n",
       "  'f',\n",
       "  'w',\n",
       "  'f',\n",
       "  'w',\n",
       "  'q',\n",
       "  'u',\n",
       "  'p',\n",
       "  'z',\n",
       "  'b2',\n",
       "  'b3',\n",
       "  'b1',\n",
       "  'b4',\n",
       "  'e',\n",
       "  'i',\n",
       "  'h',\n",
       "  'm',\n",
       "  'j',\n",
       "  'c3',\n",
       "  'c5',\n",
       "  'c1',\n",
       "  'c2',\n",
       "  'c4',\n",
       "  'f',\n",
       "  'j']]"
      ]
     },
     "execution_count": 97,
     "metadata": {},
     "output_type": "execute_result"
    }
   ],
   "source": [
    "generated_sets[:2]"
   ]
  },
  {
   "cell_type": "code",
   "execution_count": 98,
   "metadata": {},
   "outputs": [],
   "source": [
    "observed_states, estimated_intial_states, estimated_transition_matrix = first_order_markov(generated_sets)"
   ]
  },
  {
   "cell_type": "code",
   "execution_count": 104,
   "metadata": {},
   "outputs": [
    {
     "data": {
      "image/png": "[encoded data removed]",
      "text/plain": [
       "<Figure size 432x288 with 1 Axes>"
      ]
     },
     "metadata": {},
     "output_type": "display_data"
    }
   ],
   "source": [
    "G_markov = nx.from_numpy_matrix(estimated_transition_matrix)\n",
    "nx.draw(G_markov, with_labels = True, labels = {i:observed_states[i] for i in list(G_markov.nodes())},\n",
    "       width= [G_markov[u][v]['weight'] for u,v in G_markov.edges()])\n"
   ]
  },
  {
   "cell_type": "code",
   "execution_count": null,
   "metadata": {},
   "outputs": [],
   "source": []
  }
 ],
 "metadata": {
  "kernelspec": {
   "display_name": "Python 3",
   "language": "python",
   "name": "python3"
  },
  "language_info": {
   "codemirror_mode": {
    "name": "ipython",
    "version": 3
   },
   "file_extension": ".py",
   "mimetype": "text/x-python",
   "name": "python",
   "nbconvert_exporter": "python",
   "pygments_lexer": "ipython3",
   "version": "3.7.6"
  }
 },
 "nbformat": 4,
 "nbformat_minor": 4
}
