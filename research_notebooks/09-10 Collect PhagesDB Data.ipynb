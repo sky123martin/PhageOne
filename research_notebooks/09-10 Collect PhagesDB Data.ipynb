{
 "cells": [
  {
   "cell_type": "markdown",
   "metadata": {},
   "source": [
    "Date Created: 09/10/20\n",
    "## Goal of Notebook: Collect and Clean Phages DB Data"
   ]
  },
  {
   "cell_type": "markdown",
   "metadata": {},
   "source": [
    "To gather phagesDB data we are going to use the swagger API.\n",
    "\n",
    "The API has the followings options...\n",
    "- \"phages\": \"https://phagesdb.org/api/phages/\",\n",
    "- \"clusters\": \"https://phagesdb.org/api/clusters/\",\n",
    "- \"subclusters\": \"https://phagesdb.org/api/subclusters/\",\n",
    "- \"institutions\": \"https://phagesdb.org/api/institutions/\",\n",
    "- \"host_strains\": \"https://phagesdb.org/api/host_strains/\",\n",
    "- \"host_species\": \"https://phagesdb.org/api/host_species/\",\n",
    "- \"host_genera\": \"https://phagesdb.org/api/host_genera/\",\n",
    "- \"publications\": \"https://phagesdb.org/api/publications/\",\n",
    "- \"genes\": \"https://phagesdb.org/api/genes/\",\n",
    "- \"pham_phages\": \"https://phagesdb.org/api/pham_phages/\"\n",
    "\n",
    "For our use case we want to gather sequenced phage metadata and their respective genes. Therefore we will utilize \"phages\" and \"genes\"."
   ]
  },
  {
   "cell_type": "code",
   "execution_count": 1,
   "metadata": {},
   "outputs": [],
   "source": [
    "# import libraries\n",
    "import requests \n",
    "import pandas as pd\n",
    "from random import sample \n",
    "import numpy as np\n",
    "import matplotlib.pyplot as plt\n",
    "import sys \n",
    "from multiprocessing.pool import Pool\n",
    "import multiprocessing "
   ]
  },
  {
   "cell_type": "markdown",
   "metadata": {},
   "source": [
    "## 1. Downloading Genes"
   ]
  },
  {
   "cell_type": "markdown",
   "metadata": {},
   "source": [
    "Download all the genes from a specific page number. This helps because then I can thread by page"
   ]
  },
  {
   "cell_type": "code",
   "execution_count": 2,
   "metadata": {},
   "outputs": [],
   "source": [
    "def download_page(page_number):\n",
    "    ''' \n",
    "    Download page number from https://phagesdb.org/api/genes/?page= given global param\n",
    "    '''\n",
    "    query_url = \"https://phagesdb.org/api/genes/?page=\" + str(page_number) + \"&page_size=\" + str(page_size)\n",
    "\n",
    "    response = requests.get(url = query_url).json()\n",
    "    list_of_genes = []\n",
    "    for gene in response[\"results\"]:\n",
    "        info = gene[\"GeneID\"].split(\"_\")\n",
    "        list_of_genes.append([gene[\"GeneID\"],\n",
    "                              gene[\"phams\"][0],\n",
    "                              gene[\"Notes\"].lower(),\n",
    "                              gene[\"translation\"],\n",
    "                              gene[\"Orientation\"],\n",
    "                              gene[\"PhageID\"][\"Name\"] if \"PhageID\" in gene.keys() and \"Name\" in gene[\"PhageID\"].keys() else gene[\"GeneID\"].split(\"_\")[0],\n",
    "                              gene[\"GeneID\"].split(\"_\")[-1],\n",
    "                              gene[\"Start\"],\n",
    "                              gene[\"Stop\"]\n",
    "                             ])\n",
    "    return list_of_genes"
   ]
  },
  {
   "cell_type": "code",
   "execution_count": 3,
   "metadata": {},
   "outputs": [],
   "source": [
    "# define size of pages globally so it can be used in above function\n",
    "global page_size\n",
    "page_size = 1000\n",
    "\n",
    "# if page size is 1 then the number of pages is equal to total number of genes\n",
    "query_url = \"https://phagesdb.org/api/genes/?page=1&page_size=\" + str(page_size)\n",
    "total_num_genes = int(requests.get(url = query_url).json()[\"count\"])\n",
    "\n",
    "# determine number of pages based on page size\n",
    "pages = int(np.ceil(total_num_genes/page_size))\n",
    "\n",
    "# use multiproccesing to query and proccess each page in paralel\n",
    "with Pool(multiprocessing.cpu_count()) as p:\n",
    "    genes = p.map(download_page, list(range(1,pages+1)))"
   ]
  },
  {
   "cell_type": "code",
   "execution_count": 4,
   "metadata": {},
   "outputs": [
    {
     "name": "stdout",
     "output_type": "stream",
     "text": [
      "Finished download... Found  348734 genes\n"
     ]
    }
   ],
   "source": [
    "combined_genes = [gene for genes_groups in genes for gene in genes_groups]\n",
    "\n",
    "print(\"Finished download... Found \", len(combined_genes),\"genes\")"
   ]
  },
  {
   "cell_type": "markdown",
   "metadata": {},
   "source": [
    "SANITY CHECK"
   ]
  },
  {
   "cell_type": "code",
   "execution_count": 5,
   "metadata": {},
   "outputs": [
    {
     "data": {
      "text/plain": [
       "['20ES_CDS_1',\n",
       " '36676',\n",
       " '',\n",
       " 'MYGTRSSAFWASQPGKFDVLNLRMTFPSTSAHEIPDLTATDFVPENLAAWNMPRHREYAAHTGGALHFFLDDYRFETVWSSPERLLDRVKAVGAALTPDFSLWKDMPRAAQVWNTYRSRWCGAYWQSEGIEVIPTVGWGTPDTYDFCFDGLPTGGNVAISCLTLRAKQEDRELFTRGVQELVWRTQPKTLLVYGRLRFCEDIDLPEVREYPTYWDRRRKRLEEQWESAGAAVEAVEPPAPRPETKEPQLQAVDLD',\n",
       " 'F',\n",
       " '20ES',\n",
       " '1',\n",
       " 568,\n",
       " 1336]"
      ]
     },
     "execution_count": 5,
     "metadata": {},
     "output_type": "execute_result"
    }
   ],
   "source": [
    "combined_genes[0]"
   ]
  },
  {
   "cell_type": "code",
   "execution_count": 6,
   "metadata": {},
   "outputs": [
    {
     "data": {
      "text/plain": [
       "True"
      ]
     },
     "execution_count": 6,
     "metadata": {},
     "output_type": "execute_result"
    }
   ],
   "source": [
    "len(combined_genes) == total_num_genes"
   ]
  },
  {
   "cell_type": "markdown",
   "metadata": {},
   "source": [
    "### Clean Gene Functions"
   ]
  },
  {
   "cell_type": "code",
   "execution_count": 7,
   "metadata": {},
   "outputs": [],
   "source": [
    "# ADDED 09/28 TO DISAMBIGUATE FUNCTIONS\n",
    "# Open conversion dict\n",
    "import pickle\n",
    "a_file = open(\"data/conversion_table.pkl\", \"rb\")\n",
    "conversion_table = pickle.load(a_file)\n",
    "\n",
    "# load in approved functions list (taken from https://seaphages.org/blog/2017/10/30/official-function-list/ version 5/2020)\n",
    "df_approved_functions = pd.read_csv(\"data/Approved_Functions.csv\")\n",
    "df_approved_functions = df_approved_functions.dropna(subset=[\"Approved Function\"])\n",
    "df_approved_functions.head()\n",
    "\n",
    "# clean approved functions to lower case\n",
    "approved_functions = list(df_approved_functions[\"Approved Function\"])\n",
    "approved_functions = [i.lower() for i in approved_functions]\n",
    "\n",
    "# for each gene check if it's function is valid, if not use conversion list to correct or NKF\n",
    "for i in combined_genes:\n",
    "    function = i[2] # uncleaned function\n",
    "    i.append(function) # save uncleaned function\n",
    "    if function in approved_functions:\n",
    "        continue\n",
    "    elif function in conversion_table.keys() and conversion_table[function] != -1:\n",
    "        i[2] = conversion_table[function]\n",
    "    else: \n",
    "        i[2] = \"NKF\""
   ]
  },
  {
   "cell_type": "code",
   "execution_count": 8,
   "metadata": {},
   "outputs": [
    {
     "data": {
      "text/plain": [
       "['20ES_CDS_1',\n",
       " '36676',\n",
       " 'NKF',\n",
       " 'MYGTRSSAFWASQPGKFDVLNLRMTFPSTSAHEIPDLTATDFVPENLAAWNMPRHREYAAHTGGALHFFLDDYRFETVWSSPERLLDRVKAVGAALTPDFSLWKDMPRAAQVWNTYRSRWCGAYWQSEGIEVIPTVGWGTPDTYDFCFDGLPTGGNVAISCLTLRAKQEDRELFTRGVQELVWRTQPKTLLVYGRLRFCEDIDLPEVREYPTYWDRRRKRLEEQWESAGAAVEAVEPPAPRPETKEPQLQAVDLD',\n",
       " 'F',\n",
       " '20ES',\n",
       " '1',\n",
       " 568,\n",
       " 1336,\n",
       " '']"
      ]
     },
     "execution_count": 8,
     "metadata": {},
     "output_type": "execute_result"
    }
   ],
   "source": [
    "combined_genes[0]"
   ]
  },
  {
   "cell_type": "markdown",
   "metadata": {},
   "source": [
    "### Create Genes DF"
   ]
  },
  {
   "cell_type": "code",
   "execution_count": 9,
   "metadata": {},
   "outputs": [
    {
     "data": {
      "text/html": [
       "<div>\n",
       "<style scoped>\n",
       "    .dataframe tbody tr th:only-of-type {\n",
       "        vertical-align: middle;\n",
       "    }\n",
       "\n",
       "    .dataframe tbody tr th {\n",
       "        vertical-align: top;\n",
       "    }\n",
       "\n",
       "    .dataframe thead th {\n",
       "        text-align: right;\n",
       "    }\n",
       "</style>\n",
       "<table border=\"1\" class=\"dataframe\">\n",
       "  <thead>\n",
       "    <tr style=\"text-align: right;\">\n",
       "      <th></th>\n",
       "      <th>gene ID</th>\n",
       "      <th>pham</th>\n",
       "      <th>function</th>\n",
       "      <th>translation</th>\n",
       "      <th>orientation</th>\n",
       "      <th>phage</th>\n",
       "      <th>gene number</th>\n",
       "      <th>start</th>\n",
       "      <th>stop</th>\n",
       "      <th>uncleaned function</th>\n",
       "    </tr>\n",
       "  </thead>\n",
       "  <tbody>\n",
       "    <tr>\n",
       "      <th>0</th>\n",
       "      <td>20ES_CDS_1</td>\n",
       "      <td>36676</td>\n",
       "      <td>NKF</td>\n",
       "      <td>MYGTRSSAFWASQPGKFDVLNLRMTFPSTSAHEIPDLTATDFVPEN...</td>\n",
       "      <td>F</td>\n",
       "      <td>20ES</td>\n",
       "      <td>1</td>\n",
       "      <td>568</td>\n",
       "      <td>1336</td>\n",
       "      <td></td>\n",
       "    </tr>\n",
       "    <tr>\n",
       "      <th>1</th>\n",
       "      <td>20ES_CDS_10</td>\n",
       "      <td>39578</td>\n",
       "      <td>lysin b</td>\n",
       "      <td>MSLQVGSSGELVNRWIRVMKARFASYAGKLKEDGYFGLDDKAVQQE...</td>\n",
       "      <td>F</td>\n",
       "      <td>20ES</td>\n",
       "      <td>10</td>\n",
       "      <td>6442</td>\n",
       "      <td>7420</td>\n",
       "      <td>lysin b</td>\n",
       "    </tr>\n",
       "    <tr>\n",
       "      <th>2</th>\n",
       "      <td>20ES_CDS_11</td>\n",
       "      <td>34196</td>\n",
       "      <td>terminase</td>\n",
       "      <td>MSLENHHPELAPSPPHIIGPSWQRTVDGSWHLPDPKMTLGWGVLKW...</td>\n",
       "      <td>F</td>\n",
       "      <td>20ES</td>\n",
       "      <td>11</td>\n",
       "      <td>7442</td>\n",
       "      <td>9233</td>\n",
       "      <td>terminase</td>\n",
       "    </tr>\n",
       "    <tr>\n",
       "      <th>3</th>\n",
       "      <td>20ES_CDS_12</td>\n",
       "      <td>39511</td>\n",
       "      <td>portal protein</td>\n",
       "      <td>MTAPLPGQEEIPDPAIARDEMISAFDDAVKNLKINTSYYEAERRPE...</td>\n",
       "      <td>F</td>\n",
       "      <td>20ES</td>\n",
       "      <td>12</td>\n",
       "      <td>9229</td>\n",
       "      <td>10690</td>\n",
       "      <td>portal protein</td>\n",
       "    </tr>\n",
       "    <tr>\n",
       "      <th>4</th>\n",
       "      <td>20ES_CDS_13</td>\n",
       "      <td>21454</td>\n",
       "      <td>capsid maturation protease</td>\n",
       "      <td>MITAAVAAYVQRFASMFTGPALSLGEWARFLQTLFPEVQRRYAQAA...</td>\n",
       "      <td>F</td>\n",
       "      <td>20ES</td>\n",
       "      <td>13</td>\n",
       "      <td>10719</td>\n",
       "      <td>11583</td>\n",
       "      <td>capsid maturation protease</td>\n",
       "    </tr>\n",
       "  </tbody>\n",
       "</table>\n",
       "</div>"
      ],
      "text/plain": [
       "       gene ID   pham                    function  \\\n",
       "0   20ES_CDS_1  36676                         NKF   \n",
       "1  20ES_CDS_10  39578                     lysin b   \n",
       "2  20ES_CDS_11  34196                   terminase   \n",
       "3  20ES_CDS_12  39511              portal protein   \n",
       "4  20ES_CDS_13  21454  capsid maturation protease   \n",
       "\n",
       "                                         translation orientation phage  \\\n",
       "0  MYGTRSSAFWASQPGKFDVLNLRMTFPSTSAHEIPDLTATDFVPEN...           F  20ES   \n",
       "1  MSLQVGSSGELVNRWIRVMKARFASYAGKLKEDGYFGLDDKAVQQE...           F  20ES   \n",
       "2  MSLENHHPELAPSPPHIIGPSWQRTVDGSWHLPDPKMTLGWGVLKW...           F  20ES   \n",
       "3  MTAPLPGQEEIPDPAIARDEMISAFDDAVKNLKINTSYYEAERRPE...           F  20ES   \n",
       "4  MITAAVAAYVQRFASMFTGPALSLGEWARFLQTLFPEVQRRYAQAA...           F  20ES   \n",
       "\n",
       "  gene number  start   stop          uncleaned function  \n",
       "0           1    568   1336                              \n",
       "1          10   6442   7420                     lysin b  \n",
       "2          11   7442   9233                   terminase  \n",
       "3          12   9229  10690              portal protein  \n",
       "4          13  10719  11583  capsid maturation protease  "
      ]
     },
     "execution_count": 9,
     "metadata": {},
     "output_type": "execute_result"
    }
   ],
   "source": [
    "df_genes = pd.DataFrame( combined_genes, columns = ['gene ID',\n",
    "                                                    'pham',\n",
    "                                                    'function',\n",
    "                                                    'translation',\n",
    "                                                    'orientation',\n",
    "                                                    'phage',\n",
    "                                                    'gene number',\n",
    "                                                    'start',\n",
    "                                                    'stop',\n",
    "                                                    'uncleaned function'\n",
    "                                                   ]) \n",
    "\n",
    "df_genes.head()"
   ]
  },
  {
   "cell_type": "markdown",
   "metadata": {},
   "source": [
    "## 2. Phage Metadata"
   ]
  },
  {
   "cell_type": "code",
   "execution_count": 10,
   "metadata": {},
   "outputs": [],
   "source": [
    "def collect_phage_metadata(phage_info):\n",
    "    (phage, phage_from_geneid) = phage_info\n",
    "    query_url = \"https://phagesdb.org/api/phages/\"+ str(phage)\n",
    "    response = requests.get(url = query_url).json()\n",
    "    \n",
    "    if len(response.keys()) < 5:\n",
    "        query_url = \"https://phagesdb.org/api/phages/\"+ str(phage.split(\"_\")[0]) #sometimes they are drafts\n",
    "        response = requests.get(url = query_url).json()\n",
    "        \n",
    "    if len(response.keys()) < 5:\n",
    "        query_url = \"https://phagesdb.org/api/phages/\"+ str(phage_from_geneid) #sometimes they are drafts\n",
    "        response = requests.get(url = query_url).json()\n",
    "        \n",
    "    if len(response.keys())>5:\n",
    "        return [\n",
    "                response['phage_name'],\n",
    "                response[\"pcluster\"][\"temperate\"]  if \"pcluster\" in response.keys() and response[\"pcluster\"]  != None else \"\",\n",
    "                response[\"pcluster\"][\"cluster\"] if \"pcluster\" in response.keys() and response[\"pcluster\"] != None else response[\"pcluster\"],\n",
    "                response[\"psubcluster\"][\"subcluster\"] if \"psubcluster\" in response.keys() and response[\"psubcluster\"] != None else response[\"psubcluster\"],\n",
    "                response[\"morphotype\"],\n",
    "                response[\"isolation_host\"][\"genus\"],\n",
    "                response[\"isolation_host\"][\"species\"],\n",
    "                response[\"genome_length\"],\n",
    "                response['is_annotated'],\n",
    "                response['is_phamerated'],\n",
    "                response[\"gcpercent\"]\n",
    "               ]\n",
    "    else:\n",
    "        return [phage, \"-1\"]\n",
    "    "
   ]
  },
  {
   "cell_type": "code",
   "execution_count": 11,
   "metadata": {},
   "outputs": [],
   "source": [
    "phages_from_genes = []\n",
    "for phage in df_genes['phage'].unique():\n",
    "    phages_from_genes.append((phage, list(df_genes[df_genes['phage']==phage][\"gene ID\"].values)[0].split(\"_\")[0]))"
   ]
  },
  {
   "cell_type": "code",
   "execution_count": 12,
   "metadata": {},
   "outputs": [
    {
     "data": {
      "text/plain": [
       "3513"
      ]
     },
     "execution_count": 12,
     "metadata": {},
     "output_type": "execute_result"
    }
   ],
   "source": [
    "len(phages_from_genes)"
   ]
  },
  {
   "cell_type": "code",
   "execution_count": 13,
   "metadata": {
    "scrolled": true
   },
   "outputs": [],
   "source": [
    "# use multiproccesing to query and proccess each page in paralell\n",
    "with Pool(multiprocessing.cpu_count()-1) as p:\n",
    "    phage_metadata = p.map(collect_phage_metadata, phages_from_genes)"
   ]
  },
  {
   "cell_type": "code",
   "execution_count": 14,
   "metadata": {},
   "outputs": [],
   "source": [
    "phage_metadata = [i for i in phage_metadata]"
   ]
  },
  {
   "cell_type": "code",
   "execution_count": 15,
   "metadata": {},
   "outputs": [
    {
     "name": "stdout",
     "output_type": "stream",
     "text": [
      "['B5', '-1']\n",
      "['BFK20', '-1']\n",
      "['CMP1', '-1']\n",
      "['ISF9', '-1']\n",
      "['P1.1', '-1']\n",
      "['P1201', '-1']\n",
      "['P9.1', '-1']\n",
      "['PHL010M04', '-1']\n",
      "['PHL060L00', '-1']\n",
      "['PHL071N05', '-1']\n",
      "['PHL112N00', '-1']\n",
      "['PHL114L00', '-1']\n"
     ]
    }
   ],
   "source": [
    "temp = phage_metadata\n",
    "for i in temp:\n",
    "    if i[1] == \"-1\":\n",
    "        print(i)\n",
    "        phage_metadata.remove(i)\n",
    "        df_genes = df_genes[df_genes[\"phage\"]!=i[0]]"
   ]
  },
  {
   "cell_type": "code",
   "execution_count": 16,
   "metadata": {},
   "outputs": [
    {
     "name": "stdout",
     "output_type": "stream",
     "text": [
      "Unique # Sequenced Phages: 3501\n"
     ]
    }
   ],
   "source": [
    "print(\"Unique # Sequenced Phages:\", len(phage_metadata))"
   ]
  },
  {
   "cell_type": "markdown",
   "metadata": {},
   "source": [
    "SANITY CHECK"
   ]
  },
  {
   "cell_type": "code",
   "execution_count": 17,
   "metadata": {},
   "outputs": [
    {
     "data": {
      "text/plain": [
       "False"
      ]
     },
     "execution_count": 17,
     "metadata": {},
     "output_type": "execute_result"
    }
   ],
   "source": [
    "len(phage_metadata) == len(df_genes['phage'].unique())"
   ]
  },
  {
   "cell_type": "code",
   "execution_count": 18,
   "metadata": {},
   "outputs": [
    {
     "data": {
      "text/plain": [
       "False"
      ]
     },
     "execution_count": 18,
     "metadata": {},
     "output_type": "execute_result"
    }
   ],
   "source": [
    "len(phage_metadata)==len(df_genes['phage'].unique())"
   ]
  },
  {
   "cell_type": "markdown",
   "metadata": {},
   "source": [
    "Some phages are not present in metadata that are found in gene data"
   ]
  },
  {
   "cell_type": "markdown",
   "metadata": {},
   "source": [
    "### Parse Response Data"
   ]
  },
  {
   "cell_type": "code",
   "execution_count": 19,
   "metadata": {},
   "outputs": [
    {
     "data": {
      "text/html": [
       "<div>\n",
       "<style scoped>\n",
       "    .dataframe tbody tr th:only-of-type {\n",
       "        vertical-align: middle;\n",
       "    }\n",
       "\n",
       "    .dataframe tbody tr th {\n",
       "        vertical-align: top;\n",
       "    }\n",
       "\n",
       "    .dataframe thead th {\n",
       "        text-align: right;\n",
       "    }\n",
       "</style>\n",
       "<table border=\"1\" class=\"dataframe\">\n",
       "  <thead>\n",
       "    <tr style=\"text-align: right;\">\n",
       "      <th></th>\n",
       "      <th>phage</th>\n",
       "      <th>temperate</th>\n",
       "      <th>cluster</th>\n",
       "      <th>subcluster</th>\n",
       "      <th>morphotype</th>\n",
       "      <th>host genus</th>\n",
       "      <th>host species</th>\n",
       "      <th>genome length</th>\n",
       "      <th>is annotated</th>\n",
       "      <th>is phamerated</th>\n",
       "      <th>gcpercent</th>\n",
       "    </tr>\n",
       "  </thead>\n",
       "  <tbody>\n",
       "    <tr>\n",
       "      <th>0</th>\n",
       "      <td>20ES</td>\n",
       "      <td>True</td>\n",
       "      <td>A</td>\n",
       "      <td>A2</td>\n",
       "      <td>SIPHO</td>\n",
       "      <td>Mycobacterium</td>\n",
       "      <td>smegmatis</td>\n",
       "      <td>53124.0</td>\n",
       "      <td>False</td>\n",
       "      <td>True</td>\n",
       "      <td>63.4</td>\n",
       "    </tr>\n",
       "    <tr>\n",
       "      <th>1</th>\n",
       "      <td>244</td>\n",
       "      <td>True</td>\n",
       "      <td>E</td>\n",
       "      <td>None</td>\n",
       "      <td>SIPHO</td>\n",
       "      <td>Mycobacterium</td>\n",
       "      <td>smegmatis</td>\n",
       "      <td>74483.0</td>\n",
       "      <td>True</td>\n",
       "      <td>True</td>\n",
       "      <td>63.4</td>\n",
       "    </tr>\n",
       "    <tr>\n",
       "      <th>2</th>\n",
       "      <td>32HC</td>\n",
       "      <td>True</td>\n",
       "      <td>Z</td>\n",
       "      <td>None</td>\n",
       "      <td>SIPHO</td>\n",
       "      <td>Mycobacterium</td>\n",
       "      <td>smegmatis</td>\n",
       "      <td>50781.0</td>\n",
       "      <td>False</td>\n",
       "      <td>True</td>\n",
       "      <td>65.7</td>\n",
       "    </tr>\n",
       "    <tr>\n",
       "      <th>3</th>\n",
       "      <td>39HC</td>\n",
       "      <td>False</td>\n",
       "      <td>B</td>\n",
       "      <td>B6</td>\n",
       "      <td>SIPHO</td>\n",
       "      <td>Mycobacterium</td>\n",
       "      <td>smegmatis</td>\n",
       "      <td>71565.0</td>\n",
       "      <td>False</td>\n",
       "      <td>True</td>\n",
       "      <td>70.0</td>\n",
       "    </tr>\n",
       "    <tr>\n",
       "      <th>4</th>\n",
       "      <td>40AC</td>\n",
       "      <td>True</td>\n",
       "      <td>A</td>\n",
       "      <td>A17</td>\n",
       "      <td>SIPHO</td>\n",
       "      <td>Mycobacterium</td>\n",
       "      <td>smegmatis</td>\n",
       "      <td>53396.0</td>\n",
       "      <td>False</td>\n",
       "      <td>True</td>\n",
       "      <td>63.3</td>\n",
       "    </tr>\n",
       "  </tbody>\n",
       "</table>\n",
       "</div>"
      ],
      "text/plain": [
       "  phage temperate cluster subcluster morphotype     host genus host species  \\\n",
       "0  20ES      True       A         A2      SIPHO  Mycobacterium    smegmatis   \n",
       "1   244      True       E       None      SIPHO  Mycobacterium    smegmatis   \n",
       "2  32HC      True       Z       None      SIPHO  Mycobacterium    smegmatis   \n",
       "3  39HC     False       B         B6      SIPHO  Mycobacterium    smegmatis   \n",
       "4  40AC      True       A        A17      SIPHO  Mycobacterium    smegmatis   \n",
       "\n",
       "   genome length is annotated is phamerated gcpercent  \n",
       "0        53124.0        False          True      63.4  \n",
       "1        74483.0         True          True      63.4  \n",
       "2        50781.0        False          True      65.7  \n",
       "3        71565.0        False          True      70.0  \n",
       "4        53396.0        False          True      63.3  "
      ]
     },
     "execution_count": 19,
     "metadata": {},
     "output_type": "execute_result"
    }
   ],
   "source": [
    "df_phage = pd.DataFrame(phage_metadata, columns =['phage',\n",
    "                                                  'temperate',\n",
    "                                                  'cluster',\n",
    "                                                  'subcluster',\n",
    "                                                  'morphotype',\n",
    "                                                  'host genus',\n",
    "                                                  'host species',\n",
    "                                                  'genome length',\n",
    "                                                  'is annotated',\n",
    "                                                  'is phamerated', \n",
    "                                                  'gcpercent'\n",
    "                                               ]) \n",
    "\n",
    "df_phage.to_csv(\"data/phage_metadata.csv\",index=False)\n",
    "df_phage.head()"
   ]
  },
  {
   "cell_type": "markdown",
   "metadata": {},
   "source": [
    "Some phages from the genes API have no metadata associated with them, therefore we must drop these phages from our list"
   ]
  },
  {
   "cell_type": "markdown",
   "metadata": {},
   "source": [
    "### Save df_genes to .CSV"
   ]
  },
  {
   "cell_type": "code",
   "execution_count": 20,
   "metadata": {},
   "outputs": [],
   "source": [
    "df_genes.to_csv(\"data/cleaned_gene_list.csv\",index=False)"
   ]
  },
  {
   "cell_type": "code",
   "execution_count": null,
   "metadata": {},
   "outputs": [],
   "source": []
  },
  {
   "cell_type": "code",
   "execution_count": null,
   "metadata": {},
   "outputs": [],
   "source": []
  },
  {
   "cell_type": "code",
   "execution_count": null,
   "metadata": {},
   "outputs": [],
   "source": []
  }
 ],
 "metadata": {
  "kernelspec": {
   "display_name": "Python 3",
   "language": "python",
   "name": "python3"
  },
  "language_info": {
   "codemirror_mode": {
    "name": "ipython",
    "version": 3
   },
   "file_extension": ".py",
   "mimetype": "text/x-python",
   "name": "python",
   "nbconvert_exporter": "python",
   "pygments_lexer": "ipython3",
   "version": "3.7.6"
  }
 },
 "nbformat": 4,
 "nbformat_minor": 4
}
