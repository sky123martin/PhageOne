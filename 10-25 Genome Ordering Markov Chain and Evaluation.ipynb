{
 "cells": [
  {
   "cell_type": "markdown",
   "metadata": {},
   "source": [
    "Date Created: 10/25/20\n",
    "## Goal of Notebook: Create Markov Chain of Genome Ordering\n",
    "Build a markov of genome ordering. Where states are genes and state transition represent adjancenies"
   ]
  },
  {
   "cell_type": "code",
   "execution_count": 1,
   "metadata": {},
   "outputs": [],
   "source": [
    "import requests \n",
    "import pandas as pd\n",
    "from random import sample \n",
    "import numpy as np\n",
    "import networkx as nx\n",
    "import matplotlib.pyplot as plt\n",
    "import seaborn as sns                                                             \n",
    "import sys \n",
    "from networkx.algorithms import bipartite\n",
    "from networkx.algorithms.community import greedy_modularity_communities"
   ]
  },
  {
   "cell_type": "markdown",
   "metadata": {},
   "source": [
    "Load in phage dataframes"
   ]
  },
  {
   "cell_type": "code",
   "execution_count": 2,
   "metadata": {},
   "outputs": [
    {
     "data": {
      "text/html": [
       "<div>\n",
       "<style scoped>\n",
       "    .dataframe tbody tr th:only-of-type {\n",
       "        vertical-align: middle;\n",
       "    }\n",
       "\n",
       "    .dataframe tbody tr th {\n",
       "        vertical-align: top;\n",
       "    }\n",
       "\n",
       "    .dataframe thead th {\n",
       "        text-align: right;\n",
       "    }\n",
       "</style>\n",
       "<table border=\"1\" class=\"dataframe\">\n",
       "  <thead>\n",
       "    <tr style=\"text-align: right;\">\n",
       "      <th></th>\n",
       "      <th>phage</th>\n",
       "      <th>temperate</th>\n",
       "      <th>cluster</th>\n",
       "      <th>subcluster</th>\n",
       "      <th>morphotype</th>\n",
       "      <th>host genus</th>\n",
       "      <th>host species</th>\n",
       "      <th>genome length</th>\n",
       "      <th>is annotated</th>\n",
       "      <th>is phamerated</th>\n",
       "      <th>gcpercent</th>\n",
       "    </tr>\n",
       "  </thead>\n",
       "  <tbody>\n",
       "    <tr>\n",
       "      <th>0</th>\n",
       "      <td>20ES</td>\n",
       "      <td>True</td>\n",
       "      <td>A</td>\n",
       "      <td>A2</td>\n",
       "      <td>SIPHO</td>\n",
       "      <td>Mycobacterium</td>\n",
       "      <td>smegmatis</td>\n",
       "      <td>53124.0</td>\n",
       "      <td>False</td>\n",
       "      <td>True</td>\n",
       "      <td>63.4</td>\n",
       "    </tr>\n",
       "    <tr>\n",
       "      <th>1</th>\n",
       "      <td>244</td>\n",
       "      <td>True</td>\n",
       "      <td>E</td>\n",
       "      <td>NaN</td>\n",
       "      <td>SIPHO</td>\n",
       "      <td>Mycobacterium</td>\n",
       "      <td>smegmatis</td>\n",
       "      <td>74483.0</td>\n",
       "      <td>True</td>\n",
       "      <td>True</td>\n",
       "      <td>63.4</td>\n",
       "    </tr>\n",
       "    <tr>\n",
       "      <th>2</th>\n",
       "      <td>32HC</td>\n",
       "      <td>True</td>\n",
       "      <td>Z</td>\n",
       "      <td>NaN</td>\n",
       "      <td>SIPHO</td>\n",
       "      <td>Mycobacterium</td>\n",
       "      <td>smegmatis</td>\n",
       "      <td>50781.0</td>\n",
       "      <td>False</td>\n",
       "      <td>True</td>\n",
       "      <td>65.7</td>\n",
       "    </tr>\n",
       "    <tr>\n",
       "      <th>3</th>\n",
       "      <td>39HC</td>\n",
       "      <td>False</td>\n",
       "      <td>B</td>\n",
       "      <td>B6</td>\n",
       "      <td>SIPHO</td>\n",
       "      <td>Mycobacterium</td>\n",
       "      <td>smegmatis</td>\n",
       "      <td>71565.0</td>\n",
       "      <td>False</td>\n",
       "      <td>True</td>\n",
       "      <td>70.0</td>\n",
       "    </tr>\n",
       "    <tr>\n",
       "      <th>4</th>\n",
       "      <td>40AC</td>\n",
       "      <td>True</td>\n",
       "      <td>A</td>\n",
       "      <td>A17</td>\n",
       "      <td>SIPHO</td>\n",
       "      <td>Mycobacterium</td>\n",
       "      <td>smegmatis</td>\n",
       "      <td>53396.0</td>\n",
       "      <td>False</td>\n",
       "      <td>True</td>\n",
       "      <td>63.3</td>\n",
       "    </tr>\n",
       "  </tbody>\n",
       "</table>\n",
       "</div>"
      ],
      "text/plain": [
       "  phage temperate cluster subcluster morphotype     host genus host species  \\\n",
       "0  20ES      True       A         A2      SIPHO  Mycobacterium    smegmatis   \n",
       "1   244      True       E        NaN      SIPHO  Mycobacterium    smegmatis   \n",
       "2  32HC      True       Z        NaN      SIPHO  Mycobacterium    smegmatis   \n",
       "3  39HC     False       B         B6      SIPHO  Mycobacterium    smegmatis   \n",
       "4  40AC      True       A        A17      SIPHO  Mycobacterium    smegmatis   \n",
       "\n",
       "   genome length is annotated is phamerated  gcpercent  \n",
       "0        53124.0        False          True       63.4  \n",
       "1        74483.0         True          True       63.4  \n",
       "2        50781.0        False          True       65.7  \n",
       "3        71565.0        False          True       70.0  \n",
       "4        53396.0        False          True       63.3  "
      ]
     },
     "execution_count": 2,
     "metadata": {},
     "output_type": "execute_result"
    }
   ],
   "source": [
    "df_phages = pd.read_csv(\"data/phage_metadata.csv\")\n",
    "df_phages.head()"
   ]
  },
  {
   "cell_type": "code",
   "execution_count": 3,
   "metadata": {},
   "outputs": [
    {
     "data": {
      "text/html": [
       "<div>\n",
       "<style scoped>\n",
       "    .dataframe tbody tr th:only-of-type {\n",
       "        vertical-align: middle;\n",
       "    }\n",
       "\n",
       "    .dataframe tbody tr th {\n",
       "        vertical-align: top;\n",
       "    }\n",
       "\n",
       "    .dataframe thead th {\n",
       "        text-align: right;\n",
       "    }\n",
       "</style>\n",
       "<table border=\"1\" class=\"dataframe\">\n",
       "  <thead>\n",
       "    <tr style=\"text-align: right;\">\n",
       "      <th></th>\n",
       "      <th>gene ID</th>\n",
       "      <th>pham</th>\n",
       "      <th>function</th>\n",
       "      <th>translation</th>\n",
       "      <th>orientation</th>\n",
       "      <th>phage</th>\n",
       "      <th>gene number</th>\n",
       "      <th>uncleaned function</th>\n",
       "    </tr>\n",
       "  </thead>\n",
       "  <tbody>\n",
       "    <tr>\n",
       "      <th>0</th>\n",
       "      <td>20ES_CDS_1</td>\n",
       "      <td>36676</td>\n",
       "      <td>NKF</td>\n",
       "      <td>MYGTRSSAFWASQPGKFDVLNLRMTFPSTSAHEIPDLTATDFVPEN...</td>\n",
       "      <td>F</td>\n",
       "      <td>20ES</td>\n",
       "      <td>1</td>\n",
       "      <td>NaN</td>\n",
       "    </tr>\n",
       "    <tr>\n",
       "      <th>1</th>\n",
       "      <td>20ES_CDS_10</td>\n",
       "      <td>39578</td>\n",
       "      <td>lysin b</td>\n",
       "      <td>MSLQVGSSGELVNRWIRVMKARFASYAGKLKEDGYFGLDDKAVQQE...</td>\n",
       "      <td>F</td>\n",
       "      <td>20ES</td>\n",
       "      <td>10</td>\n",
       "      <td>lysin b</td>\n",
       "    </tr>\n",
       "    <tr>\n",
       "      <th>2</th>\n",
       "      <td>20ES_CDS_11</td>\n",
       "      <td>34196</td>\n",
       "      <td>terminase</td>\n",
       "      <td>MSLENHHPELAPSPPHIIGPSWQRTVDGSWHLPDPKMTLGWGVLKW...</td>\n",
       "      <td>F</td>\n",
       "      <td>20ES</td>\n",
       "      <td>11</td>\n",
       "      <td>terminase</td>\n",
       "    </tr>\n",
       "    <tr>\n",
       "      <th>3</th>\n",
       "      <td>20ES_CDS_12</td>\n",
       "      <td>39511</td>\n",
       "      <td>portal protein</td>\n",
       "      <td>MTAPLPGQEEIPDPAIARDEMISAFDDAVKNLKINTSYYEAERRPE...</td>\n",
       "      <td>F</td>\n",
       "      <td>20ES</td>\n",
       "      <td>12</td>\n",
       "      <td>portal protein</td>\n",
       "    </tr>\n",
       "    <tr>\n",
       "      <th>4</th>\n",
       "      <td>20ES_CDS_13</td>\n",
       "      <td>21454</td>\n",
       "      <td>capsid maturation protease</td>\n",
       "      <td>MITAAVAAYVQRFASMFTGPALSLGEWARFLQTLFPEVQRRYAQAA...</td>\n",
       "      <td>F</td>\n",
       "      <td>20ES</td>\n",
       "      <td>13</td>\n",
       "      <td>capsid maturation protease</td>\n",
       "    </tr>\n",
       "  </tbody>\n",
       "</table>\n",
       "</div>"
      ],
      "text/plain": [
       "       gene ID   pham                    function  \\\n",
       "0   20ES_CDS_1  36676                         NKF   \n",
       "1  20ES_CDS_10  39578                     lysin b   \n",
       "2  20ES_CDS_11  34196                   terminase   \n",
       "3  20ES_CDS_12  39511              portal protein   \n",
       "4  20ES_CDS_13  21454  capsid maturation protease   \n",
       "\n",
       "                                         translation orientation phage  \\\n",
       "0  MYGTRSSAFWASQPGKFDVLNLRMTFPSTSAHEIPDLTATDFVPEN...           F  20ES   \n",
       "1  MSLQVGSSGELVNRWIRVMKARFASYAGKLKEDGYFGLDDKAVQQE...           F  20ES   \n",
       "2  MSLENHHPELAPSPPHIIGPSWQRTVDGSWHLPDPKMTLGWGVLKW...           F  20ES   \n",
       "3  MTAPLPGQEEIPDPAIARDEMISAFDDAVKNLKINTSYYEAERRPE...           F  20ES   \n",
       "4  MITAAVAAYVQRFASMFTGPALSLGEWARFLQTLFPEVQRRYAQAA...           F  20ES   \n",
       "\n",
       "   gene number          uncleaned function  \n",
       "0            1                         NaN  \n",
       "1           10                     lysin b  \n",
       "2           11                   terminase  \n",
       "3           12              portal protein  \n",
       "4           13  capsid maturation protease  "
      ]
     },
     "execution_count": 3,
     "metadata": {},
     "output_type": "execute_result"
    }
   ],
   "source": [
    "df_genes = pd.read_csv(\"data/cleaned_gene_list.csv\")\n",
    "df_genes.head()"
   ]
  },
  {
   "cell_type": "markdown",
   "metadata": {},
   "source": [
    "Create markov chain where states are the \"gene identifier\" is function of the gene, making NKF genes one node"
   ]
  },
  {
   "cell_type": "code",
   "execution_count": 36,
   "metadata": {},
   "outputs": [],
   "source": [
    "gene_identifier = \"pham\" # identify what makes a gene unique"
   ]
  },
  {
   "cell_type": "code",
   "execution_count": 37,
   "metadata": {},
   "outputs": [],
   "source": [
    "phages = df_phages[\"phage\"].unique()\n",
    "\n",
    "# all unique labels, ie functions or phams\n",
    "labels = [\"5' start\"] + [ident for ident in np.sort(df_genes[gene_identifier].unique())] + [\"3' end\"]\n",
    "label_to_index = { labels[i]:i for i in range(len(labels))} # coversion to index for transition matrix\n",
    "\n",
    "# initialize transition matrix for counts\n",
    "transition_counts = np.zeros((len(labels),len(labels)))\n",
    "\n",
    "# for all phages, then for all genes in the phage add counts\n",
    "for phage in phages:\n",
    "    phage_df = df_genes[df_genes[\"phage\"] == phage].sort_values(by=['gene number'])\n",
    "    i = label_to_index[\"5' start\"]\n",
    "    for index, row in phage_df.iterrows(): \n",
    "        j = label_to_index[row[gene_identifier]]\n",
    "        transition_counts[i][j] += 1\n",
    "        i = j\n",
    "    transition_counts[i][label_to_index[\"3' end\"]] += 1\n",
    "    \n",
    "# use count matrix to probabilties by dividing by row\n",
    "transition_matrix = np.zeros((len(labels),len(labels)))\n",
    "for i in range(len(labels)):\n",
    "    sum_row = np.sum(transition_counts[i][:])\n",
    "    transition_matrix[i][:] = transition_counts[i][:]/(sum_row if sum_row > 0 else 1)"
   ]
  },
  {
   "cell_type": "markdown",
   "metadata": {},
   "source": [
    "Relabel nodes into pham instead of their indices"
   ]
  },
  {
   "cell_type": "code",
   "execution_count": 38,
   "metadata": {},
   "outputs": [],
   "source": [
    "# create a network from the transition matrix\n",
    "G_markov = nx.from_numpy_matrix(transition_matrix, create_using=nx.DiGraph)\n",
    "index_to_label = {j:str(i) for i,j in label_to_index.items()}\n",
    "G_markov = nx.relabel_nodes(G_markov, index_to_label)"
   ]
  },
  {
   "cell_type": "markdown",
   "metadata": {},
   "source": [
    "Add node counts, ie the amount of apperance of that gene in the dataset"
   ]
  },
  {
   "cell_type": "code",
   "execution_count": 39,
   "metadata": {},
   "outputs": [],
   "source": [
    "\n",
    "if gene_identifier == \"pham\":\n",
    "    df_pham_counts = df_genes.groupby(\"pham\",as_index=False).count()\n",
    "\n",
    "    for pham in G_markov.nodes():\n",
    "        #G_markov.nodes[pham] = df_pham_counts[df_pham_counts[\"pham\"]==int(pham)].values\n",
    "        if pham.isnumeric():\n",
    "            G_markov.nodes[pham][\"count\"] = df_pham_counts[df_pham_counts[\"pham\"]==int(pham)][\"gene ID\"].values[0]\n",
    "            \n",
    "else:\n",
    "    df_function_counts = df_genes.groupby(\"function\",as_index=False).count()\n",
    "    for fun in G_markov.nodes():\n",
    "        if fun not in [\"5' start\",\"3' end\"]:\n",
    "            G_markov.nodes[fun][\"count\"] = df_function_counts[df_function_counts[\"function\"]==fun][\"gene ID\"].values[0]\n",
    "        else:\n",
    "            G_markov.nodes[fun][\"count\"] = 1\n",
    "            "
   ]
  },
  {
   "cell_type": "code",
   "execution_count": 49,
   "metadata": {},
   "outputs": [],
   "source": [
    "if gene_identifier == \"function\":\n",
    "    pos = nx.random_layout(G_markov)\n",
    "    node_size = [G_markov.nodes[i][\"count\"]**0.5 if i not in [\"5' start\",\"3' end\"] else 1 for i in G_markov.nodes()]\n",
    "    plt.figure(figsize=(15,15))\n",
    "\n",
    "    nx.draw_networkx_nodes(G_markov,\n",
    "                           pos = pos,\n",
    "                           node_size = node_size\n",
    "                            )\n",
    "    nx.draw_networkx_edges(G_markov,\n",
    "                           pos = pos,\n",
    "                           node_size = node_size,\n",
    "                           alpha = 0.1\n",
    "                           )\n",
    "    sns.despine(bottom=True, left = True)\n",
    "    plt.show()"
   ]
  },
  {
   "cell_type": "code",
   "execution_count": 45,
   "metadata": {},
   "outputs": [
    {
     "name": "stdout",
     "output_type": "stream",
     "text": [
      "mean degree: 3.8706621889262034\n",
      "# edges: 44950\n",
      "# nodes: 23226\n"
     ]
    }
   ],
   "source": [
    "print(\"mean degree:\", G_markov.size()*2/len(G_markov.nodes()))\n",
    "print(\"# edges:\", G_markov.size())\n",
    "print(\"# nodes:\", len(G_markov.nodes()))"
   ]
  },
  {
   "cell_type": "code",
   "execution_count": 48,
   "metadata": {},
   "outputs": [
    {
     "data": {
      "image/png": "[encoded data removed]",
      "text/plain": [
       "<Figure size 432x288 with 1 Axes>"
      ]
     },
     "metadata": {
      "needs_background": "light"
     },
     "output_type": "display_data"
    }
   ],
   "source": [
    "degs = [j for i,j in G_markov.degree()]\n",
    "plt.hist(degs , bins = 1000, density = True, cumulative=True, alpha = 0.5, color = \"cadetblue\", label = \"degree\")\n",
    "plt.xlim(left = 0, right = max(degs))\n",
    "plt.ylim(top=1)\n",
    "plt.xlabel(\"degree\")\n",
    "plt.ylabel(\"P(k>X)\")\n",
    "plt.title(\"Degree Distribution of Genome Ordering Network\")\n",
    "sns.despine()\n",
    "plt.show()"
   ]
  },
  {
   "cell_type": "markdown",
   "metadata": {},
   "source": [
    "save network for use in other notebooks"
   ]
  },
  {
   "cell_type": "code",
   "execution_count": 15,
   "metadata": {},
   "outputs": [],
   "source": [
    "nx.write_gml(G_markov,\"networks/synteny_markov_graph_\"+gene_identifier, stringizer = str)"
   ]
  },
  {
   "cell_type": "markdown",
   "metadata": {},
   "source": [
    "What can we learn from communtity detection on this matricies? Do we pull out core genome regions?"
   ]
  },
  {
   "cell_type": "code",
   "execution_count": 16,
   "metadata": {},
   "outputs": [
    {
     "ename": "KeyError",
     "evalue": "(-0.00502460769409158, 149, 150)",
     "output_type": "error",
     "traceback": [
      "\u001b[0;31m---------------------------------------------------------------------------\u001b[0m",
      "\u001b[0;31mKeyError\u001b[0m                                  Traceback (most recent call last)",
      "\u001b[0;32m<ipython-input-16-e7d515e27c7a>\u001b[0m in \u001b[0;36m<module>\u001b[0;34m\u001b[0m\n\u001b[0;32m----> 1\u001b[0;31m \u001b[0mgroupings\u001b[0m \u001b[0;34m=\u001b[0m \u001b[0mgreedy_modularity_communities\u001b[0m\u001b[0;34m(\u001b[0m\u001b[0mG_markov\u001b[0m\u001b[0;34m,\u001b[0m \u001b[0mweight\u001b[0m\u001b[0;34m=\u001b[0m\u001b[0;32mNone\u001b[0m\u001b[0;34m)\u001b[0m\u001b[0;34m\u001b[0m\u001b[0;34m\u001b[0m\u001b[0m\n\u001b[0m\u001b[1;32m      2\u001b[0m \u001b[0;34m\u001b[0m\u001b[0m\n\u001b[1;32m      3\u001b[0m \u001b[0;32mfor\u001b[0m \u001b[0mg\u001b[0m \u001b[0;32min\u001b[0m \u001b[0mrange\u001b[0m\u001b[0;34m(\u001b[0m\u001b[0;36m30\u001b[0m\u001b[0;34m)\u001b[0m\u001b[0;34m:\u001b[0m\u001b[0;34m\u001b[0m\u001b[0;34m\u001b[0m\u001b[0m\n\u001b[1;32m      4\u001b[0m     \u001b[0mprint\u001b[0m\u001b[0;34m(\u001b[0m\u001b[0;34m\"GROUP \"\u001b[0m\u001b[0;34m,\u001b[0m\u001b[0mg\u001b[0m\u001b[0;34m)\u001b[0m\u001b[0;34m\u001b[0m\u001b[0;34m\u001b[0m\u001b[0m\n\u001b[1;32m      5\u001b[0m     \u001b[0;32mfor\u001b[0m \u001b[0mi\u001b[0m \u001b[0;32min\u001b[0m \u001b[0mgroupings\u001b[0m\u001b[0;34m[\u001b[0m\u001b[0mg\u001b[0m\u001b[0;34m]\u001b[0m\u001b[0;34m:\u001b[0m\u001b[0;34m\u001b[0m\u001b[0;34m\u001b[0m\u001b[0m\n",
      "\u001b[0;32m~/opt/anaconda3/lib/python3.7/site-packages/networkx/algorithms/community/modularity_max.py\u001b[0m in \u001b[0;36mgreedy_modularity_communities\u001b[0;34m(G, weight)\u001b[0m\n\u001b[1;32m    117\u001b[0m         \u001b[0;32melse\u001b[0m\u001b[0;34m:\u001b[0m\u001b[0;34m\u001b[0m\u001b[0;34m\u001b[0m\u001b[0m\n\u001b[1;32m    118\u001b[0m             \u001b[0;31m# Duplicate wasn't in H, just remove from row j heap\u001b[0m\u001b[0;34m\u001b[0m\u001b[0;34m\u001b[0m\u001b[0;34m\u001b[0m\u001b[0m\n\u001b[0;32m--> 119\u001b[0;31m             \u001b[0mdq_heap\u001b[0m\u001b[0;34m[\u001b[0m\u001b[0mj\u001b[0m\u001b[0;34m]\u001b[0m\u001b[0;34m.\u001b[0m\u001b[0mremove\u001b[0m\u001b[0;34m(\u001b[0m\u001b[0;34m(\u001b[0m\u001b[0;34m-\u001b[0m\u001b[0mdq\u001b[0m\u001b[0;34m,\u001b[0m \u001b[0mj\u001b[0m\u001b[0;34m,\u001b[0m \u001b[0mi\u001b[0m\u001b[0;34m)\u001b[0m\u001b[0;34m)\u001b[0m\u001b[0;34m\u001b[0m\u001b[0;34m\u001b[0m\u001b[0m\n\u001b[0m\u001b[1;32m    120\u001b[0m         \u001b[0;31m# Stop when change is non-positive\u001b[0m\u001b[0;34m\u001b[0m\u001b[0;34m\u001b[0m\u001b[0;34m\u001b[0m\u001b[0m\n\u001b[1;32m    121\u001b[0m         \u001b[0;32mif\u001b[0m \u001b[0mdq\u001b[0m \u001b[0;34m<=\u001b[0m \u001b[0;36m0\u001b[0m\u001b[0;34m:\u001b[0m\u001b[0;34m\u001b[0m\u001b[0;34m\u001b[0m\u001b[0m\n",
      "\u001b[0;32m~/opt/anaconda3/lib/python3.7/site-packages/networkx/utils/mapped_queue.py\u001b[0m in \u001b[0;36mremove\u001b[0;34m(self, elt)\u001b[0m\n\u001b[1;32m    113\u001b[0m         \u001b[0;31m# Find and remove element\u001b[0m\u001b[0;34m\u001b[0m\u001b[0;34m\u001b[0m\u001b[0;34m\u001b[0m\u001b[0m\n\u001b[1;32m    114\u001b[0m         \u001b[0;32mtry\u001b[0m\u001b[0;34m:\u001b[0m\u001b[0;34m\u001b[0m\u001b[0;34m\u001b[0m\u001b[0m\n\u001b[0;32m--> 115\u001b[0;31m             \u001b[0mpos\u001b[0m \u001b[0;34m=\u001b[0m \u001b[0mself\u001b[0m\u001b[0;34m.\u001b[0m\u001b[0md\u001b[0m\u001b[0;34m[\u001b[0m\u001b[0melt\u001b[0m\u001b[0;34m]\u001b[0m\u001b[0;34m\u001b[0m\u001b[0;34m\u001b[0m\u001b[0m\n\u001b[0m\u001b[1;32m    116\u001b[0m             \u001b[0;32mdel\u001b[0m \u001b[0mself\u001b[0m\u001b[0;34m.\u001b[0m\u001b[0md\u001b[0m\u001b[0;34m[\u001b[0m\u001b[0melt\u001b[0m\u001b[0;34m]\u001b[0m\u001b[0;34m\u001b[0m\u001b[0;34m\u001b[0m\u001b[0m\n\u001b[1;32m    117\u001b[0m         \u001b[0;32mexcept\u001b[0m \u001b[0mKeyError\u001b[0m\u001b[0;34m:\u001b[0m\u001b[0;34m\u001b[0m\u001b[0;34m\u001b[0m\u001b[0m\n",
      "\u001b[0;31mKeyError\u001b[0m: (-0.00502460769409158, 149, 150)"
     ]
    }
   ],
   "source": [
    "groupings = greedy_modularity_communities(G_markov, weight=None)\n",
    "\n",
    "for g in range(30):\n",
    "    print(\"GROUP \",g)\n",
    "    for i in groupings[g]:\n",
    "        print(labels[i])\n",
    "    print()"
   ]
  },
  {
   "cell_type": "markdown",
   "metadata": {},
   "source": [
    "Creating a new heuristic for synteny. It is not just important that P(i->j) is high but also that it is an observe transition. How do you identify a random insertion versus a unique genome that we haven't seen before?"
   ]
  },
  {
   "cell_type": "code",
   "execution_count": null,
   "metadata": {},
   "outputs": [],
   "source": []
  }
 ],
 "metadata": {
  "kernelspec": {
   "display_name": "Python 3",
   "language": "python",
   "name": "python3"
  },
  "language_info": {
   "codemirror_mode": {
    "name": "ipython",
    "version": 3
   },
   "file_extension": ".py",
   "mimetype": "text/x-python",
   "name": "python",
   "nbconvert_exporter": "python",
   "pygments_lexer": "ipython3",
   "version": "3.7.6"
  }
 },
 "nbformat": 4,
 "nbformat_minor": 4
}
