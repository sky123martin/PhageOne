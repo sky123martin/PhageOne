{
 "cells": [
  {
   "cell_type": "code",
   "execution_count": 1,
   "metadata": {},
   "outputs": [],
   "source": [
    "# importing the requests library \n",
    "import requests \n",
    "import pandas as pd\n",
    "from random import sample \n",
    "import matplotlib\n",
    "import networkx as nx\n",
    "import numpy as np\n",
    "import matplotlib.pyplot as plt\n",
    "import seaborn as sns                                                             \n",
    "import sys\n",
    "import scipy\n",
    "import matplotlib as mpl\n",
    "import math"
   ]
  },
  {
   "cell_type": "code",
   "execution_count": 2,
   "metadata": {
    "scrolled": true
   },
   "outputs": [
    {
     "data": {
      "text/html": [
       "<div>\n",
       "<style scoped>\n",
       "    .dataframe tbody tr th:only-of-type {\n",
       "        vertical-align: middle;\n",
       "    }\n",
       "\n",
       "    .dataframe tbody tr th {\n",
       "        vertical-align: top;\n",
       "    }\n",
       "\n",
       "    .dataframe thead th {\n",
       "        text-align: right;\n",
       "    }\n",
       "</style>\n",
       "<table border=\"1\" class=\"dataframe\">\n",
       "  <thead>\n",
       "    <tr style=\"text-align: right;\">\n",
       "      <th></th>\n",
       "      <th>gene ID</th>\n",
       "      <th>pham</th>\n",
       "      <th>function</th>\n",
       "      <th>translation</th>\n",
       "      <th>orientation</th>\n",
       "      <th>phage</th>\n",
       "      <th>gene number</th>\n",
       "      <th>uncleaned function</th>\n",
       "    </tr>\n",
       "  </thead>\n",
       "  <tbody>\n",
       "    <tr>\n",
       "      <th>0</th>\n",
       "      <td>20ES_CDS_1</td>\n",
       "      <td>36676</td>\n",
       "      <td>NKF</td>\n",
       "      <td>M</td>\n",
       "      <td>F</td>\n",
       "      <td>20ES</td>\n",
       "      <td>1</td>\n",
       "      <td>nan</td>\n",
       "    </tr>\n",
       "    <tr>\n",
       "      <th>1</th>\n",
       "      <td>20ES_CDS_10</td>\n",
       "      <td>34452</td>\n",
       "      <td>lysin b</td>\n",
       "      <td>M</td>\n",
       "      <td>F</td>\n",
       "      <td>20ES</td>\n",
       "      <td>10</td>\n",
       "      <td>lysin b</td>\n",
       "    </tr>\n",
       "    <tr>\n",
       "      <th>2</th>\n",
       "      <td>20ES_CDS_11</td>\n",
       "      <td>34196</td>\n",
       "      <td>terminase</td>\n",
       "      <td>M</td>\n",
       "      <td>F</td>\n",
       "      <td>20ES</td>\n",
       "      <td>11</td>\n",
       "      <td>terminase</td>\n",
       "    </tr>\n",
       "    <tr>\n",
       "      <th>3</th>\n",
       "      <td>20ES_CDS_12</td>\n",
       "      <td>39246</td>\n",
       "      <td>portal protein</td>\n",
       "      <td>M</td>\n",
       "      <td>F</td>\n",
       "      <td>20ES</td>\n",
       "      <td>12</td>\n",
       "      <td>portal protein</td>\n",
       "    </tr>\n",
       "    <tr>\n",
       "      <th>4</th>\n",
       "      <td>20ES_CDS_13</td>\n",
       "      <td>21454</td>\n",
       "      <td>capsid maturation protease</td>\n",
       "      <td>M</td>\n",
       "      <td>F</td>\n",
       "      <td>20ES</td>\n",
       "      <td>13</td>\n",
       "      <td>capsid maturation protease</td>\n",
       "    </tr>\n",
       "  </tbody>\n",
       "</table>\n",
       "</div>"
      ],
      "text/plain": [
       "       gene ID   pham                    function translation orientation  \\\n",
       "0   20ES_CDS_1  36676                         NKF           M           F   \n",
       "1  20ES_CDS_10  34452                     lysin b           M           F   \n",
       "2  20ES_CDS_11  34196                   terminase           M           F   \n",
       "3  20ES_CDS_12  39246              portal protein           M           F   \n",
       "4  20ES_CDS_13  21454  capsid maturation protease           M           F   \n",
       "\n",
       "  phage  gene number          uncleaned function  \n",
       "0  20ES            1                         nan  \n",
       "1  20ES           10                     lysin b  \n",
       "2  20ES           11                   terminase  \n",
       "3  20ES           12              portal protein  \n",
       "4  20ES           13  capsid maturation protease  "
      ]
     },
     "execution_count": 2,
     "metadata": {},
     "output_type": "execute_result"
    }
   ],
   "source": [
    "df_genes = pd.read_csv(\"cleaned_gene_list.csv\")\n",
    "df_genes = df_genes.applymap(str)\n",
    "df_genes[\"gene number\"] = df_genes[\"gene number\"].apply(pd.to_numeric)\n",
    "df_genes.head()"
   ]
  },
  {
   "cell_type": "markdown",
   "metadata": {},
   "source": [
    "Build array with length max gene number"
   ]
  },
  {
   "cell_type": "code",
   "execution_count": 4,
   "metadata": {},
   "outputs": [],
   "source": [
    "max_num_genes = df_genes['gene number'].max()"
   ]
  },
  {
   "cell_type": "code",
   "execution_count": 10,
   "metadata": {},
   "outputs": [],
   "source": [
    "KF_count = (max_num_genes+1) * [0]\n",
    "total_count = (max_num_genes+1) * [0]\n",
    "gene_num = list(range(0,max_num_genes+1))\n",
    "\n",
    "for index, row in df_genes.iterrows():\n",
    "    n = row[\"gene number\"]\n",
    "    if row[\"function\"] != \"NKF\":\n",
    "        KF_count[n] += 1\n",
    "    total_count[n] += 1\n",
    "        "
   ]
  },
  {
   "cell_type": "code",
   "execution_count": 17,
   "metadata": {},
   "outputs": [
    {
     "data": {
      "image/png": "[encoded data removed]",
      "text/plain": [
       "<Figure size 432x288 with 1 Axes>"
      ]
     },
     "metadata": {
      "needs_background": "light"
     },
     "output_type": "display_data"
    }
   ],
   "source": [
    "KF_prop = (max_num_genes+1) * [0]\n",
    "for i in range(len(KF_count)):\n",
    "    if total_count[i]==0:\n",
    "        KF_prop[i] = 0\n",
    "    else:\n",
    "        KF_prop[i] = KF_count[i]/total_count[i]\n",
    "    \n",
    "plt.fill_between(gene_num, [0]*(max_num_genes+1), KF_prop,\n",
    "                 facecolor=\"green\", # The fill color\n",
    "                 color='green',       # The outline color\n",
    "                 alpha=0.2,          # Transparency of the fill\n",
    "                 label = \"Known Function Genes\")\n",
    "\n",
    "plt.fill_between(gene_num, KF_prop,  [1]*(max_num_genes+1),\n",
    "                 facecolor=\"red\", # The fill color\n",
    "                 color='red',       # The outline color\n",
    "                 alpha=0.2,          # Transparency of the fill\n",
    "                 label = \"NKF Genes\")\n",
    "\n",
    "plt.ylabel(\"proportion\")\n",
    "plt.xlabel(\"gene num\")\n",
    "plt.legend()\n",
    "\n",
    "\n",
    "plt.title(\"NKF Genes by Gene Number\")\n",
    "plt.show()"
   ]
  },
  {
   "cell_type": "code",
   "execution_count": 18,
   "metadata": {},
   "outputs": [
    {
     "data": {
      "image/png": "[encoded data removed]",
      "text/plain": [
       "<Figure size 432x288 with 1 Axes>"
      ]
     },
     "metadata": {
      "needs_background": "light"
     },
     "output_type": "display_data"
    }
   ],
   "source": [
    "plt.fill_between(gene_num, [0]*(max_num_genes+1), KF_count,\n",
    "                 facecolor=\"green\", # The fill color\n",
    "                 color='green',       # The outline color\n",
    "                 alpha=0.2,          # Transparency of the fill\n",
    "                 label = \"Known Function Genes\")\n",
    "\n",
    "plt.fill_between(gene_num, KF_count, total_count,\n",
    "                 facecolor=\"red\", # The fill color\n",
    "                 color='red',       # The outline color\n",
    "                 alpha=0.2,          # Transparency of the fill\n",
    "                 label = \"NKF Genes\")\n",
    "\n",
    "plt.ylabel(\"total\")\n",
    "plt.xlabel(\"gene num\")\n",
    "plt.legend()\n",
    "\n",
    "\n",
    "plt.title(\"NKF Genes by Gene Number\")\n",
    "plt.show()"
   ]
  },
  {
   "cell_type": "code",
   "execution_count": 26,
   "metadata": {},
   "outputs": [],
   "source": [
    "functions_per_gene_num = [{} for i in range(max_num_genes+1)]\n",
    "\n",
    "for index, row in df_genes.iterrows():\n",
    "    n = row[\"gene number\"]\n",
    "    if row[\"function\"] != \"NKF\":\n",
    "        if row[\"function\"] in functions_per_gene_num[n].keys():\n",
    "            functions_per_gene_num[n][row[\"function\"]] += 1\n",
    "        else:\n",
    "            functions_per_gene_num[n][row[\"function\"]] = 1\n",
    "        "
   ]
  },
  {
   "cell_type": "code",
   "execution_count": 29,
   "metadata": {},
   "outputs": [
    {
     "data": {
      "text/plain": [
       "{'terminase, large subunit': 96,\n",
       " 'terminase, small subunit': 55,\n",
       " 'portal protein': 587,\n",
       " 'minor tail protein': 120,\n",
       " 'terminase': 128,\n",
       " 'hnh endonuclease': 80,\n",
       " 'nucleotidyl transferase': 78,\n",
       " 'dna primase': 19,\n",
       " 'portal and muf-like fusion protein': 40,\n",
       " '-1': 31,\n",
       " 'methyltransferase': 1,\n",
       " 'endonuclease vii': 2,\n",
       " 'endolysin': 5,\n",
       " 'dna helicase': 8,\n",
       " 'capsid maturation protease': 3,\n",
       " 'dna binding protein': 2,\n",
       " 'aaa-atpase': 9,\n",
       " 'toxin in toxin/antitoxin system, hica-like': 1,\n",
       " 'phosphoribosyl transferase': 1,\n",
       " 'tail fiber': 3,\n",
       " 'lsr2-like dna bridging protein': 8,\n",
       " 'lysin a': 12,\n",
       " 'adp-ribosyltransferase': 5,\n",
       " 'ribonucleotide reductase': 1,\n",
       " 'hydrolase': 7,\n",
       " 'vip2-like adp-ribosyltransferase toxin': 15,\n",
       " 'adenylate kinase': 6,\n",
       " 'parb-like nuclease domain': 5,\n",
       " 'ro-like rna binding protein': 1,\n",
       " 'mazg-like nucleotide pyrophosphohydrolase': 2,\n",
       " 'ribbon-helix-helix dna binding domain': 3,\n",
       " 'helix-turn-helix dna binding domain': 2,\n",
       " 'muf-like minor capsid protein': 3,\n",
       " 'lysin b': 2,\n",
       " 'ruvc-like resolvase': 3,\n",
       " 'glycosyltransferase': 1,\n",
       " 'phosphoesterase': 2,\n",
       " 'peptidase': 1,\n",
       " 'paps reductase-like domain': 4,\n",
       " 'dna methylase': 1,\n",
       " 'nucleotide pyrophosphohydrolase': 1,\n",
       " 'rna binding protein': 1,\n",
       " 'thyx-like thymidylate synthase': 1,\n",
       " 'glycoside hydrolase': 1,\n",
       " 'thymidylate synthase': 1,\n",
       " 'thioredoxin': 1,\n",
       " 'major capsid and protease fusion protein': 2}"
      ]
     },
     "execution_count": 29,
     "metadata": {},
     "output_type": "execute_result"
    }
   ],
   "source": [
    "functions_per_gene_num[3]"
   ]
  }
 ],
 "metadata": {
  "kernelspec": {
   "display_name": "Python 3",
   "language": "python",
   "name": "python3"
  },
  "language_info": {
   "codemirror_mode": {
    "name": "ipython",
    "version": 3
   },
   "file_extension": ".py",
   "mimetype": "text/x-python",
   "name": "python",
   "nbconvert_exporter": "python",
   "pygments_lexer": "ipython3",
   "version": "3.7.6"
  }
 },
 "nbformat": 4,
 "nbformat_minor": 4
}
