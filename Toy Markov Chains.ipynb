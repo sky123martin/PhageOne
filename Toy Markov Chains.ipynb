{
 "cells": [
  {
   "cell_type": "code",
   "execution_count": 166,
   "metadata": {},
   "outputs": [],
   "source": [
    "import requests \n",
    "import pandas as pd\n",
    "from random import sample \n",
    "import numpy as np\n",
    "import networkx as nx\n",
    "import matplotlib.pyplot as plt\n",
    "import seaborn as sns                                                             \n",
    "import sys \n",
    "import math\n",
    "from networkx.algorithms.community import greedy_modularity_communities"
   ]
  },
  {
   "cell_type": "markdown",
   "metadata": {},
   "source": [
    "### Generating Data from Transition Matrix"
   ]
  },
  {
   "cell_type": "code",
   "execution_count": 29,
   "metadata": {},
   "outputs": [],
   "source": [
    "# Arbitrary chosen params\n",
    "states = [\"a\",\"b\",\"c\",\"d\"]\n",
    "state_to_index = {\"a\":0,\"b\":1,\"c\":2,\"d\":3}\n",
    "initial_probabilties = [0.1, 0.3, 0.5, 0.1]\n",
    "transition_matrix = np.asarray([\n",
    "                                [0.1, 0.9, 0.0, 0.0],\n",
    "                                [0.5, 0.2, 0.2, 0.1],\n",
    "                                [0.3, 0.3, 0.3, 0.1],\n",
    "                                [0.2, 0.2, 0.2, 0.4]\n",
    "                              ])"
   ]
  },
  {
   "cell_type": "code",
   "execution_count": 27,
   "metadata": {},
   "outputs": [
    {
     "name": "stdout",
     "output_type": "stream",
     "text": [
      "generated state set: ['a', 'a', 'b', 'a', 'b', 'c', 'c', 'c', 'a', 'a']\n"
     ]
    }
   ],
   "source": [
    "# arbitraily decide length of produced sequence\n",
    "path_length = 10\n",
    "\n",
    "# generate start state\n",
    "current_index = np.random.choice(list(range(len(states))), p=initial_probabilties)\n",
    "current_state = states[index]\n",
    "\n",
    "generated_state_set = [current_state]\n",
    "\n",
    "# generate sequential states\n",
    "for _ in range(path_length-1):\n",
    "    next_index = np.random.choice(list(range(len(states))), p=transition_matrix[current_index])\n",
    "    next_state = states[next_index]\n",
    "    generated_state_set.append(next_state)\n",
    "    current_index = next_index\n",
    "    \n",
    "print(\"generated state set:\", generated_state_set)"
   ]
  },
  {
   "cell_type": "markdown",
   "metadata": {},
   "source": [
    "### Calculate LL of Given Sequence"
   ]
  },
  {
   "cell_type": "code",
   "execution_count": 31,
   "metadata": {},
   "outputs": [
    {
     "name": "stdout",
     "output_type": "stream",
     "text": [
      "LL = -15.335564909263686\n"
     ]
    }
   ],
   "source": [
    "LL_i = 0\n",
    "\n",
    "# calculate LL of initial state\n",
    "prev_state = generated_state_set[0]\n",
    "prev_index = state_to_index[prev_state]\n",
    "LL_i += math.log(initial_probabilties[prev_index])\n",
    "\n",
    "# calculate entire sequence probabilty\n",
    "for current_state in generated_state_set:\n",
    "    current_index = state_to_index[current_state]\n",
    "    LL_i += math.log(transition_matrix[prev_index][current_index])\n",
    "    prev_index = current_index\n",
    "\n",
    "print(\"LL =\", LL_i)"
   ]
  },
  {
   "cell_type": "markdown",
   "metadata": {},
   "source": [
    "### Generate Transition Matrix from Data\n",
    "#### Generate Data"
   ]
  },
  {
   "cell_type": "code",
   "execution_count": 85,
   "metadata": {},
   "outputs": [
    {
     "name": "stdout",
     "output_type": "stream",
     "text": [
      "[['a', 'b', 'a', 'a', 'b', 'a', 'b', 'a', 'b', 'd'], ['b', 'b', 'a', 'b', 'c', 'a', 'b', 'b', 'a', 'b'], ['c', 'c', 'b', 'a', 'b', 'a', 'b', 'c', 'b', 'b'], ['c', 'b', 'b', 'd', 'c', 'c', 'b', 'a', 'b', 'a'], ['c', 'c', 'b', 'c', 'a', 'a', 'b', 'a', 'a', 'b']]\n"
     ]
    }
   ],
   "source": [
    "# arbitraily decide length of produced sequence\n",
    "path_length = 10\n",
    "number_data_sets = 10000\n",
    "generated_sets = []\n",
    "\n",
    "for _ in range(number_data_sets):\n",
    "    # generate start state\n",
    "    current_index = np.random.choice(list(range(len(states))), p=initial_probabilties)\n",
    "    current_state = states[current_index]\n",
    "\n",
    "    generated_state_set = [current_state]\n",
    "\n",
    "    # generate sequential states\n",
    "    for _ in range(path_length-1):\n",
    "        next_index = np.random.choice(list(range(len(states))), p=transition_matrix[current_index])\n",
    "        next_state = states[next_index]\n",
    "        generated_state_set.append(next_state)\n",
    "        current_index = next_index\n",
    "    \n",
    "    generated_sets.append(generated_state_set)\n",
    "\n",
    "print(generated_sets[:5])"
   ]
  },
  {
   "cell_type": "markdown",
   "metadata": {},
   "source": [
    "note: I think it makes sense to do lapace smoothing for seq length generation, due to dynamics of inserting a gene"
   ]
  },
  {
   "cell_type": "markdown",
   "metadata": {},
   "source": [
    "#### Generate Transition Matrix for 1st order MC from Data"
   ]
  },
  {
   "cell_type": "code",
   "execution_count": 86,
   "metadata": {},
   "outputs": [
    {
     "name": "stdout",
     "output_type": "stream",
     "text": [
      "[0.0992 0.2953 0.505  0.1005]\n",
      "[[0.09846978 0.90153022 0.         0.        ]\n",
      " [0.50030027 0.20128842 0.19883169 0.09957963]\n",
      " [0.30027685 0.30188261 0.29784053 0.1       ]\n",
      " [0.20565132 0.19561423 0.1976871  0.40104735]]\n"
     ]
    }
   ],
   "source": [
    "observed_states = np.sort(np.unique(np.concatenate(generated_sets)))\n",
    "state_to_index = {observed_states[i]: i for i in range(len(observed_states))}\n",
    "estimated_transition_matrix = np.asarray([[0.0]*len(observed_states)]*len(observed_states))\n",
    "estimated_intial_states = np.asarray([0.0]*len(observed_states))\n",
    "\n",
    "for generated_set in generated_sets:\n",
    "    current_index = state_to_index[generated_set[0]]\n",
    "    estimated_intial_states[current_index] += 1.0\n",
    "    \n",
    "    for next_state in generated_set[1:]:\n",
    "        next_index = state_to_index[next_state]\n",
    "        estimated_transition_matrix[current_index][next_index] += 1.0\n",
    "        current_index = next_index\n",
    "        \n",
    "estimated_intial_states = estimated_intial_states/sum(estimated_intial_states)    \n",
    "for i in range(len(estimated_transition_matrix)):\n",
    "    estimated_transition_matrix[i] = estimated_transition_matrix[i]/(sum(estimated_transition_matrix[i]) if sum(estimated_transition_matrix[i])>0 else 1)\n",
    "    \n",
    "print(estimated_intial_states)\n",
    "print(estimated_transition_matrix)"
   ]
  },
  {
   "cell_type": "code",
   "execution_count": 92,
   "metadata": {},
   "outputs": [
    {
     "name": "stdout",
     "output_type": "stream",
     "text": [
      "Difference Between Observed and Estimated Transition Matrix\n",
      "[ 0.0008  0.0047 -0.005  -0.0005]\n",
      "[[ 0.00153022 -0.00153022  0.          0.        ]\n",
      " [-0.00030027 -0.00128842  0.00116831  0.00042037]\n",
      " [-0.00027685 -0.00188261  0.00215947  0.        ]\n",
      " [-0.00565132  0.00438577  0.0023129  -0.00104735]]\n"
     ]
    }
   ],
   "source": [
    "print(\"Difference Between Observed and Estimated Initial State Probabilties\")\n",
    "print(initial_probabilties - estimated_intial_states)\n",
    "\n",
    "print(\"Difference Between Observed and Estimated Transition Matrix\")\n",
    "print(transition_matrix - estimated_transition_matrix)"
   ]
  },
  {
   "cell_type": "markdown",
   "metadata": {},
   "source": [
    "#### Calculate LL of Transition Matrix for all Observed Sequences Against the Estimated Markov Chain"
   ]
  },
  {
   "cell_type": "code",
   "execution_count": 90,
   "metadata": {},
   "outputs": [
    {
     "name": "stdout",
     "output_type": "stream",
     "text": [
      "-100687.80941603435\n"
     ]
    }
   ],
   "source": [
    "LL = 0\n",
    "\n",
    "for generated_set in generated_sets:\n",
    "    LL_i = 0\n",
    "    current_index = state_to_index[generated_set[0]]\n",
    "    LL_i += math.log(estimated_intial_states[current_index])\n",
    "    \n",
    "    for next_state in generated_set[1:]:\n",
    "        next_index = state_to_index[next_state]\n",
    "        LL_i += math.log(estimated_transition_matrix[current_index][next_index])\n",
    "        current_index = next_index\n",
    "        \n",
    "    LL += LL_i\n",
    "print(LL)"
   ]
  },
  {
   "cell_type": "markdown",
   "metadata": {},
   "source": [
    "### Generate Sequences that have Conserved Core Regions\n"
   ]
  },
  {
   "cell_type": "code",
   "execution_count": 177,
   "metadata": {},
   "outputs": [],
   "source": [
    "core_region_1 = ['a1','a2','a3','a4']\n",
    "core_region_2 = ['b1','b2','b3','b4']\n",
    "core_region_3 = ['c1','c2','c3','c4']\n",
    "variable_elements = ['d','e','f','g','h','i','j','k','l','m','n','o','p','q','r','s','t','u','v','w','x','y','z']\n",
    "\n",
    "genome_length = 60\n",
    "number_genomes = 1000\n",
    "generated_sets = []\n",
    "\n",
    "for _ in range(number_genomes):\n",
    "    # 1. randomly pick subset of and mix up variable elements\n",
    "    genome_template = np.random.choice(variable_elements, genome_length - (len(core_region_1)+len(core_region_2)+len(core_region_3)))\n",
    "\n",
    "    # 2. insert mixed up core elements\n",
    "    mixed_core_1 = np.random.choice(core_region_1, len(core_region_1), replace = False)\n",
    "    mixed_core_2 = np.random.choice(core_region_2, len(core_region_2), replace = False)\n",
    "    mixed_core_3 = np.random.choice(core_region_3, len(core_region_3), replace = False)\n",
    "    \n",
    "    mixed_core_1 = core_region_1\n",
    "    mixed_core_2 = core_region_2\n",
    "    mixed_core_3 = core_region_3\n",
    "    \n",
    "    # 3. chose where to insert core genomes\n",
    "    insertion_locations = np.array((range(len(genome_template)-1)))\n",
    "\n",
    "    insertion_location = np.random.choice(insertion_locations)\n",
    "    genome_template = np.concatenate([genome_template[:insertion_location],mixed_core_1,genome_template[insertion_location+1:]])\n",
    "    insertion_locations[insertion_location:] += len(mixed_core_1)\n",
    "    #print(genome_template, insertion_locations)\n",
    "\n",
    "    insertion_location = np.random.choice(insertion_locations)\n",
    "    genome_template = np.concatenate([genome_template[:insertion_location],mixed_core_2,genome_template[insertion_location+1:]])\n",
    "    insertion_locations[insertion_location:] += len(mixed_core_2)\n",
    "    #print(genome_template, insertion_locations)\n",
    "\n",
    "    insertion_location = np.random.choice(insertion_locations)\n",
    "    genome_template = np.concatenate([genome_template[:insertion_location],mixed_core_3,genome_template[insertion_location+1:]])\n",
    "    \n",
    "    generated_sets.append(genome_template)\n"
   ]
  },
  {
   "cell_type": "markdown",
   "metadata": {},
   "source": [
    "#### First order markov chain"
   ]
  },
  {
   "cell_type": "code",
   "execution_count": 178,
   "metadata": {},
   "outputs": [
    {
     "name": "stdout",
     "output_type": "stream",
     "text": [
      "[0.022 0.    0.    0.    0.018 0.    0.    0.    0.013 0.    0.    0.\n",
      " 0.039 0.033 0.045 0.032 0.035 0.042 0.025 0.055 0.037 0.035 0.046 0.036\n",
      " 0.043 0.032 0.051 0.048 0.054 0.053 0.036 0.038 0.05  0.033 0.049]\n",
      "[[0.         1.         0.         ... 0.         0.         0.        ]\n",
      " [0.         0.         1.         ... 0.         0.         0.        ]\n",
      " [0.         0.         0.         ... 0.         0.         0.        ]\n",
      " ...\n",
      " [0.02164948 0.         0.         ... 0.04175258 0.04484536 0.03453608]\n",
      " [0.02302459 0.         0.         ... 0.04343276 0.03192046 0.04343276]\n",
      " [0.01715177 0.         0.         ... 0.04365904 0.03846154 0.03898129]]\n"
     ]
    }
   ],
   "source": [
    "observed_states = np.sort(np.unique(np.concatenate(generated_sets)))\n",
    "state_to_index = {observed_states[i]: i for i in range(len(observed_states))}\n",
    "estimated_transition_matrix = np.asarray([[0.0]*len(observed_states)]*len(observed_states))\n",
    "estimated_intial_states = np.asarray([0.0]*len(observed_states))\n",
    "\n",
    "for generated_set in generated_sets:\n",
    "    current_index = state_to_index[generated_set[0]]\n",
    "    estimated_intial_states[current_index] += 1.0\n",
    "    \n",
    "    for next_state in generated_set[1:]:\n",
    "        next_index = state_to_index[next_state]\n",
    "        estimated_transition_matrix[current_index][next_index] += 1.0\n",
    "        current_index = next_index\n",
    "        \n",
    "estimated_intial_states = estimated_intial_states/sum(estimated_intial_states)    \n",
    "for i in range(len(estimated_transition_matrix)):\n",
    "    estimated_transition_matrix[i] = estimated_transition_matrix[i]/(sum(estimated_transition_matrix[i]) if sum(estimated_transition_matrix[i])>0 else 1)\n",
    "    \n",
    "print(estimated_intial_states)\n",
    "print(estimated_transition_matrix)"
   ]
  },
  {
   "cell_type": "code",
   "execution_count": 179,
   "metadata": {},
   "outputs": [
    {
     "name": "stdout",
     "output_type": "stream",
     "text": [
      "-155611.91854683484\n"
     ]
    }
   ],
   "source": [
    "LL = 0\n",
    "\n",
    "for generated_set in generated_sets:\n",
    "    LL_i = 0\n",
    "    current_index = state_to_index[generated_set[0]]\n",
    "    LL_i += math.log(estimated_intial_states[current_index])\n",
    "    \n",
    "    for next_state in generated_set[1:]:\n",
    "        next_index = state_to_index[next_state]\n",
    "        LL_i += math.log(estimated_transition_matrix[current_index][next_index])\n",
    "        current_index = next_index\n",
    "        \n",
    "    LL += LL_i\n",
    "print(LL)"
   ]
  },
  {
   "cell_type": "code",
   "execution_count": 180,
   "metadata": {},
   "outputs": [
    {
     "name": "stdout",
     "output_type": "stream",
     "text": [
      "GROUP  0\n",
      "a2\n",
      "a3\n",
      "\n",
      "\n",
      "GROUP  1\n",
      "b2\n",
      "b3\n",
      "\n",
      "\n",
      "GROUP  2\n",
      "c2\n",
      "c3\n",
      "\n",
      "\n",
      "GROUP  3\n",
      "a1\n",
      "\n",
      "\n",
      "GROUP  4\n",
      "a4\n",
      "\n",
      "\n",
      "GROUP  5\n",
      "b1\n",
      "\n",
      "\n",
      "GROUP  6\n",
      "b4\n",
      "\n",
      "\n",
      "GROUP  7\n",
      "c1\n",
      "\n",
      "\n",
      "GROUP  8\n",
      "c4\n",
      "\n",
      "\n",
      "GROUP  9\n",
      "d\n",
      "\n",
      "\n",
      "GROUP  10\n",
      "e\n",
      "\n",
      "\n",
      "GROUP  11\n",
      "f\n",
      "\n",
      "\n",
      "GROUP  12\n",
      "g\n",
      "\n",
      "\n",
      "GROUP  13\n",
      "h\n",
      "\n",
      "\n",
      "GROUP  14\n",
      "i\n",
      "\n",
      "\n",
      "GROUP  15\n",
      "j\n",
      "\n",
      "\n",
      "GROUP  16\n",
      "k\n",
      "\n",
      "\n",
      "GROUP  17\n",
      "l\n",
      "\n",
      "\n",
      "GROUP  18\n",
      "m\n",
      "\n",
      "\n",
      "GROUP  19\n",
      "n\n",
      "\n",
      "\n",
      "GROUP  20\n",
      "o\n",
      "\n",
      "\n",
      "GROUP  21\n",
      "p\n",
      "\n",
      "\n",
      "GROUP  22\n",
      "q\n",
      "\n",
      "\n",
      "GROUP  23\n",
      "r\n",
      "\n",
      "\n",
      "GROUP  24\n",
      "s\n",
      "\n",
      "\n",
      "GROUP  25\n",
      "t\n",
      "\n",
      "\n",
      "GROUP  26\n",
      "u\n",
      "\n",
      "\n",
      "GROUP  27\n",
      "v\n",
      "\n",
      "\n",
      "GROUP  28\n",
      "w\n",
      "\n",
      "\n",
      "GROUP  29\n",
      "x\n",
      "\n",
      "\n"
     ]
    }
   ],
   "source": [
    "G_markov = nx.from_numpy_matrix(estimated_transition_matrix)\n",
    "groupings = greedy_modularity_communities(G_markov, weight=None)\n",
    "\n",
    "for g in range(30):\n",
    "    print(\"GROUP \",g)\n",
    "    for i in groupings[g]:\n",
    "        print(observed_states[i])\n",
    "    print()\n",
    "    print()"
   ]
  },
  {
   "cell_type": "code",
   "execution_count": null,
   "metadata": {},
   "outputs": [],
   "source": []
  }
 ],
 "metadata": {
  "kernelspec": {
   "display_name": "Python 3",
   "language": "python",
   "name": "python3"
  },
  "language_info": {
   "codemirror_mode": {
    "name": "ipython",
    "version": 3
   },
   "file_extension": ".py",
   "mimetype": "text/x-python",
   "name": "python",
   "nbconvert_exporter": "python",
   "pygments_lexer": "ipython3",
   "version": "3.7.6"
  }
 },
 "nbformat": 4,
 "nbformat_minor": 4
}
