{
 "cells": [
  {
   "cell_type": "code",
   "execution_count": 15,
   "metadata": {},
   "outputs": [],
   "source": [
    "# importing the requests library \n",
    "import requests \n",
    "import pandas as pd\n",
    "from random import sample \n",
    "import numpy as np\n",
    "import matplotlib.pyplot as plt\n",
    "import seaborn as sns                                                             \n",
    "import sys \n",
    "from multiprocessing.pool import Pool\n",
    "import multiprocessing "
   ]
  },
  {
   "cell_type": "markdown",
   "metadata": {},
   "source": [
    "API-Options = { \"phages\": \"https://phagesdb.org/api/phages/\",\n",
    "                \"clusters\": \"https://phagesdb.org/api/clusters/\",\n",
    "                \"subclusters\": \"https://phagesdb.org/api/subclusters/\",\n",
    "                \"institutions\": \"https://phagesdb.org/api/institutions/\",\n",
    "                \"host_strains\": \"https://phagesdb.org/api/host_strains/\",\n",
    "                \"host_species\": \"https://phagesdb.org/api/host_species/\",\n",
    "                \"host_genera\": \"https://phagesdb.org/api/host_genera/\",\n",
    "                \"publications\": \"https://phagesdb.org/api/publications/\",\n",
    "                \"genes\": \"https://phagesdb.org/api/genes/\",\n",
    "                \"pham_phages\": \"https://phagesdb.org/api/pham_phages/\"\n",
    "             }"
   ]
  },
  {
   "cell_type": "markdown",
   "metadata": {},
   "source": [
    "Download all the genes from a specific page number. This helps because then I can thread by "
   ]
  },
  {
   "cell_type": "code",
   "execution_count": 16,
   "metadata": {},
   "outputs": [],
   "source": [
    "def download_all_genes(page_number):\n",
    "    ''' Download page number from https://phagesdb.org/api/genes/?page= given global param\n",
    "    '''\n",
    "    complete_url = \"https://phagesdb.org/api/genes/?page=\" + str(page_number) + \"&page_size=\" + str(page_size)\n",
    "    response = requests.get(url = complete_url).json()\n",
    "    list_of_genes = []\n",
    "    for gene in response[\"results\"]:\n",
    "        list_of_genes.append([gene[\"GeneID\"],\n",
    "#                              gene[\"PhageID\"][\"HostStrain\"],\n",
    "#                              gene[\"PhageID\"][\"Cluster\"],\n",
    "                             gene[\"phams\"][0],\n",
    "                             gene[\"Notes\"].lower(),\n",
    "                             gene[\"translation\"],\n",
    "                             gene[\"Orientation\"]])\n",
    "    \n",
    "    return list_of_genes"
   ]
  },
  {
   "cell_type": "code",
   "execution_count": 17,
   "metadata": {},
   "outputs": [
    {
     "name": "stdout",
     "output_type": "stream",
     "text": [
      "Finished download! Found  348734\n"
     ]
    }
   ],
   "source": [
    "pages = \"all\" # Can download all of genes by using pages = \"all\"\n",
    "global page_size\n",
    "page_size = 100# Equally distribute amount threads page_size = \"optimal\"\n",
    "\n",
    "if page_size == \"optimal\":\n",
    "    complete_url = \"https://phagesdb.org/api/genes/?page=1&page_size=1\"\n",
    "    count = int(requests.get(url = complete_url).json()[\"count\"])\n",
    "    page_size = int(count/multiprocessing.cpu_count())\n",
    "    \n",
    "if pages == \"all\":\n",
    "    complete_url = \"https://phagesdb.org/api/genes/?page=1&page_size=\" + str(page_size)\n",
    "    count = int(requests.get(url = complete_url).json()[\"count\"])\n",
    "    pages = int(np.ceil(count/page_size))\n",
    "    \n",
    "with Pool(multiprocessing.cpu_count()) as p:\n",
    "    genes = p.map(download_all_genes, list(range(1,pages+1))) #, [page_size for _ in range(pages)]\n",
    "\n",
    "combined_genes = [gene for genes_groups in genes for gene in genes_groups]\n",
    "\n",
    "print(\"Finished download! Found \", len(combined_genes))"
   ]
  },
  {
   "cell_type": "code",
   "execution_count": 18,
   "metadata": {},
   "outputs": [
    {
     "data": {
      "text/plain": [
       "['20ES_CDS_1',\n",
       " '36676',\n",
       " '',\n",
       " 'MYGTRSSAFWASQPGKFDVLNLRMTFPSTSAHEIPDLTATDFVPENLAAWNMPRHREYAAHTGGALHFFLDDYRFETVWSSPERLLDRVKAVGAALTPDFSLWKDMPRAAQVWNTYRSRWCGAYWQSEGIEVIPTVGWGTPDTYDFCFDGLPTGGNVAISCLTLRAKQEDRELFTRGVQELVWRTQPKTLLVYGRLRFCEDIDLPEVREYPTYWDRRRKRLEEQWESAGAAVEAVEPPAPRPETKEPQLQAVDLD',\n",
       " 'F']"
      ]
     },
     "execution_count": 18,
     "metadata": {},
     "output_type": "execute_result"
    }
   ],
   "source": [
    "combined_genes[0]"
   ]
  },
  {
   "cell_type": "code",
   "execution_count": 19,
   "metadata": {},
   "outputs": [],
   "source": [
    "# parse out name and gene number from gene id row\n",
    "for i in range(len(combined_genes)):\n",
    "    info = combined_genes[i][0].split(\"_\")\n",
    "    phage_name = info[0]\n",
    "    gene_num = info[-1]\n",
    "#     combined_genes[i][3] = combined_genes[i][3][0]\n",
    "    combined_genes[i].append(phage_name)\n",
    "    combined_genes[i].append(gene_num)\n",
    "    "
   ]
  },
  {
   "cell_type": "code",
   "execution_count": 20,
   "metadata": {},
   "outputs": [
    {
     "data": {
      "text/plain": [
       "['20ES_CDS_1',\n",
       " '36676',\n",
       " '',\n",
       " 'MYGTRSSAFWASQPGKFDVLNLRMTFPSTSAHEIPDLTATDFVPENLAAWNMPRHREYAAHTGGALHFFLDDYRFETVWSSPERLLDRVKAVGAALTPDFSLWKDMPRAAQVWNTYRSRWCGAYWQSEGIEVIPTVGWGTPDTYDFCFDGLPTGGNVAISCLTLRAKQEDRELFTRGVQELVWRTQPKTLLVYGRLRFCEDIDLPEVREYPTYWDRRRKRLEEQWESAGAAVEAVEPPAPRPETKEPQLQAVDLD',\n",
       " 'F',\n",
       " '20ES',\n",
       " '1']"
      ]
     },
     "execution_count": 20,
     "metadata": {},
     "output_type": "execute_result"
    }
   ],
   "source": [
    "# Lets check out one of the genes collected\n",
    "combined_genes[0]"
   ]
  },
  {
   "cell_type": "code",
   "execution_count": 21,
   "metadata": {},
   "outputs": [
    {
     "name": "stdout",
     "output_type": "stream",
     "text": [
      "[['20ES_CDS_1', '36676', 'NKF', 'MYGTRSSAFWASQPGKFDVLNLRMTFPSTSAHEIPDLTATDFVPENLAAWNMPRHREYAAHTGGALHFFLDDYRFETVWSSPERLLDRVKAVGAALTPDFSLWKDMPRAAQVWNTYRSRWCGAYWQSEGIEVIPTVGWGTPDTYDFCFDGLPTGGNVAISCLTLRAKQEDRELFTRGVQELVWRTQPKTLLVYGRLRFCEDIDLPEVREYPTYWDRRRKRLEEQWESAGAAVEAVEPPAPRPETKEPQLQAVDLD', 'F', '20ES', '1', ''], ['20ES_CDS_10', '39578', 'lysin b', 'MSLQVGSSGELVNRWIRVMKARFASYAGKLKEDGYFGLDDKAVQQEYETRTHQTPDGIVTDGDLAYLLPRKPWLFTVHGTGMPDPLGPGLPADVARDVLDIYNWQPIGNYPAAAFPMKPSYDKAIAELVLQIDQKLAGNNDEFSMAGYSQGAIAVAYVLKHEILDPKGRLHKYVRRLKKVVMWGNPMRQKGFAHFDEWIHPVAAPDTMGILEDRLENLEWAMQEYGFEVRDYAHDGDMYASIKEDDMHEYEVAIGRIVMTVKGFYGGKDSVVAQLGELAGHPLRESIAMARAIIDAISFLAKSTQGEKWPHLYNRYPAVAFLRQP', 'F', '20ES', '10', 'lysin b'], ['20ES_CDS_11', '34196', 'terminase', 'MSLENHHPELAPSPPHIIGPSWQRTVDGSWHLPDPKMTLGWGVLKWLSDYVNTPGGHDDPARLKFLIELSEAGLLENENMFIPTDEQVRLVLWWYAVDEKGQYVYREGVIRRLKGWGKDPFTAALCLAELCGPVAFSHFDRETGQAIGKRRPAPWVTVAAVSQDQTKNTFSLFPVMISKKLKAEFKLEVNRFIIYAEGGGRIEAATSSPASMEGNRPTFVVQNETQWWGQGPDGKVNEGHSMAETIEGNMTKVEGARTLSICNAHIPGTETVGEKAYVSWQKIQSGEDVDTGLMYDALEAPADTPISEIPSQKEDPEGFEKGIAKLRQGLYIARGDSTWLPIEDIIKSILSTKNPITESRRKFLNQVNASEDSWLAPREWDRCYADAKKYLEKMGYEFTPPARGEKIALGFDGSKSNDWTALVGCRISDGFLFVIKIWDPQKYGGQVPREDVDATVHSTFKHYDVVAFRADVKEFEAYVDQWGRTYKKKLKVNASPNNPVAFDMRGQQKRFAFDCERLEDAVLEGEVWHDNDQTLRQHVLNAKRHPTTYDAIAIRKVTKDSSKKIDAAVCAVLAFGARQDYLMSKKARTGRVVAVR', 'F', '20ES', '11', 'terminase'], ['20ES_CDS_12', '39511', 'portal protein', 'MTAPLPGQEEIPDPAIARDEMISAFDDAVKNLKINTSYYEAERRPEAIGVTVPQQMQSLLAHVGYPRLYVDSIAERQAVEGFRLGDADEADEELWQWWQANDLDIEAPLGYTDAYVHGRSYITISRPDPTLDIGWDPNTPIIRVEPPTRMFAKIDPRINRVSQAIRVAYDESGNEIQAATLYTLNETFGWFKQDGEWVEWFNDPHGLGVVPVVPLPNRNRLSDLYGTSQITPELRSLTDAAARILMLMQATAELMGVPQRLIFGIKPEEIGVDPETGQTLFDAYLARILAFEDAEGKIQQFSAAELANFVAALDAISGQVCSYTGLPPHYLNTNSANPASSEAIDGSESRLVKTVERKNLIFGGAWEEAMRIAYRMMKGGDVPPDMLRMETIWRDPSTPTYASKADAATKLYGNGQGVIPRERARKDMGYSIMEREEMRRWDEEEAAMGLGLIGTMVDPNPTVPGSPSPTAPPKPEQPAIEGGGAA', 'F', '20ES', '12', 'portal protein']]\n"
     ]
    }
   ],
   "source": [
    "# Clean Function Names\n",
    "import pickle\n",
    "a_file = open(\"data/new_conversion_table.pkl\", \"rb\")\n",
    "conversion_table = pickle.load(a_file)\n",
    "\n",
    "df_approved_functions = pd.read_csv(\"data/Approved_Functions.csv\")\n",
    "df_approved_functions = df_approved_functions.dropna(subset=[\"Approved Function\"])\n",
    "df_approved_functions.head()\n",
    "\n",
    "approved_functions = list(df_approved_functions[\"Approved Function\"])\n",
    "approved_functions = [i.lower() for i in approved_functions]\n",
    "approved_functions\n",
    "\n",
    "copy = combined_genes.copy()\n",
    "for i in combined_genes:\n",
    "    function = i[2]\n",
    "#     i[-1] = function\n",
    "    i.append(function)\n",
    "    if function in approved_functions:\n",
    "        continue\n",
    "    elif function in conversion_table.keys():\n",
    "        if  conversion_table[function] != -1:\n",
    "            i[2] = conversion_table[function]\n",
    "        else: \n",
    "            i[2] = \"NKF\"\n",
    "    elif function == None:\n",
    "        i[2] = \"NKF\"\n",
    "    else: \n",
    "        i[2] = \"NKF\"\n",
    "\n",
    "print(combined_genes[:4])"
   ]
  },
  {
   "cell_type": "markdown",
   "metadata": {},
   "source": [
    "Create dataframe from data collected above"
   ]
  },
  {
   "cell_type": "code",
   "execution_count": 22,
   "metadata": {},
   "outputs": [
    {
     "data": {
      "text/html": [
       "<div>\n",
       "<style scoped>\n",
       "    .dataframe tbody tr th:only-of-type {\n",
       "        vertical-align: middle;\n",
       "    }\n",
       "\n",
       "    .dataframe tbody tr th {\n",
       "        vertical-align: top;\n",
       "    }\n",
       "\n",
       "    .dataframe thead th {\n",
       "        text-align: right;\n",
       "    }\n",
       "</style>\n",
       "<table border=\"1\" class=\"dataframe\">\n",
       "  <thead>\n",
       "    <tr style=\"text-align: right;\">\n",
       "      <th></th>\n",
       "      <th>gene ID</th>\n",
       "      <th>pham</th>\n",
       "      <th>function</th>\n",
       "      <th>translation</th>\n",
       "      <th>orientation</th>\n",
       "      <th>phage</th>\n",
       "      <th>gene number</th>\n",
       "      <th>uncleaned function</th>\n",
       "    </tr>\n",
       "  </thead>\n",
       "  <tbody>\n",
       "    <tr>\n",
       "      <th>0</th>\n",
       "      <td>20ES_CDS_1</td>\n",
       "      <td>36676</td>\n",
       "      <td>NKF</td>\n",
       "      <td>MYGTRSSAFWASQPGKFDVLNLRMTFPSTSAHEIPDLTATDFVPEN...</td>\n",
       "      <td>F</td>\n",
       "      <td>20ES</td>\n",
       "      <td>1</td>\n",
       "      <td></td>\n",
       "    </tr>\n",
       "    <tr>\n",
       "      <th>1</th>\n",
       "      <td>20ES_CDS_10</td>\n",
       "      <td>39578</td>\n",
       "      <td>lysin b</td>\n",
       "      <td>MSLQVGSSGELVNRWIRVMKARFASYAGKLKEDGYFGLDDKAVQQE...</td>\n",
       "      <td>F</td>\n",
       "      <td>20ES</td>\n",
       "      <td>10</td>\n",
       "      <td>lysin b</td>\n",
       "    </tr>\n",
       "    <tr>\n",
       "      <th>2</th>\n",
       "      <td>20ES_CDS_11</td>\n",
       "      <td>34196</td>\n",
       "      <td>terminase</td>\n",
       "      <td>MSLENHHPELAPSPPHIIGPSWQRTVDGSWHLPDPKMTLGWGVLKW...</td>\n",
       "      <td>F</td>\n",
       "      <td>20ES</td>\n",
       "      <td>11</td>\n",
       "      <td>terminase</td>\n",
       "    </tr>\n",
       "    <tr>\n",
       "      <th>3</th>\n",
       "      <td>20ES_CDS_12</td>\n",
       "      <td>39511</td>\n",
       "      <td>portal protein</td>\n",
       "      <td>MTAPLPGQEEIPDPAIARDEMISAFDDAVKNLKINTSYYEAERRPE...</td>\n",
       "      <td>F</td>\n",
       "      <td>20ES</td>\n",
       "      <td>12</td>\n",
       "      <td>portal protein</td>\n",
       "    </tr>\n",
       "    <tr>\n",
       "      <th>4</th>\n",
       "      <td>20ES_CDS_13</td>\n",
       "      <td>21454</td>\n",
       "      <td>capsid maturation protease</td>\n",
       "      <td>MITAAVAAYVQRFASMFTGPALSLGEWARFLQTLFPEVQRRYAQAA...</td>\n",
       "      <td>F</td>\n",
       "      <td>20ES</td>\n",
       "      <td>13</td>\n",
       "      <td>capsid maturation protease</td>\n",
       "    </tr>\n",
       "    <tr>\n",
       "      <th>...</th>\n",
       "      <td>...</td>\n",
       "      <td>...</td>\n",
       "      <td>...</td>\n",
       "      <td>...</td>\n",
       "      <td>...</td>\n",
       "      <td>...</td>\n",
       "      <td>...</td>\n",
       "      <td>...</td>\n",
       "    </tr>\n",
       "    <tr>\n",
       "      <th>348729</th>\n",
       "      <td>ZygoTaiga_CDS_95</td>\n",
       "      <td>39534</td>\n",
       "      <td>NKF</td>\n",
       "      <td>MSVCANPECGKEFEQPNKYRTTKTCSKECRYAVSASTTKASSGRWE...</td>\n",
       "      <td>F</td>\n",
       "      <td>ZygoTaiga</td>\n",
       "      <td>95</td>\n",
       "      <td>zinc-finger dna binding domain</td>\n",
       "    </tr>\n",
       "    <tr>\n",
       "      <th>348730</th>\n",
       "      <td>ZygoTaiga_CDS_96</td>\n",
       "      <td>2891</td>\n",
       "      <td>NKF</td>\n",
       "      <td>MSTYTYPASPAQIRFINTLLAERDVPQASRDYVAHLLDTGISSKRA...</td>\n",
       "      <td>F</td>\n",
       "      <td>ZygoTaiga</td>\n",
       "      <td>96</td>\n",
       "      <td></td>\n",
       "    </tr>\n",
       "    <tr>\n",
       "      <th>348731</th>\n",
       "      <td>ZygoTaiga_CDS_97</td>\n",
       "      <td>38955</td>\n",
       "      <td>NKF</td>\n",
       "      <td>MTLPGPPNTPPGADSPAWPPVVSANGYVPPESIPTRTTVTSVEGRS...</td>\n",
       "      <td>F</td>\n",
       "      <td>ZygoTaiga</td>\n",
       "      <td>97</td>\n",
       "      <td></td>\n",
       "    </tr>\n",
       "    <tr>\n",
       "      <th>348732</th>\n",
       "      <td>ZygoTaiga_CDS_98</td>\n",
       "      <td>22971</td>\n",
       "      <td>NKF</td>\n",
       "      <td>MWIDDFQGEKVNIEDADEVSNEKLVEMEREYFSHLIDPHTARYWGK...</td>\n",
       "      <td>F</td>\n",
       "      <td>ZygoTaiga</td>\n",
       "      <td>98</td>\n",
       "      <td></td>\n",
       "    </tr>\n",
       "    <tr>\n",
       "      <th>348733</th>\n",
       "      <td>ZygoTaiga_CDS_99</td>\n",
       "      <td>12060</td>\n",
       "      <td>NKF</td>\n",
       "      <td>MERYLFAGSELTRDELEKALAPELDELNAAQGTKIGFDEYLAAALN...</td>\n",
       "      <td>F</td>\n",
       "      <td>ZygoTaiga</td>\n",
       "      <td>99</td>\n",
       "      <td></td>\n",
       "    </tr>\n",
       "  </tbody>\n",
       "</table>\n",
       "<p>348734 rows × 8 columns</p>\n",
       "</div>"
      ],
      "text/plain": [
       "                 gene ID   pham                    function  \\\n",
       "0             20ES_CDS_1  36676                         NKF   \n",
       "1            20ES_CDS_10  39578                     lysin b   \n",
       "2            20ES_CDS_11  34196                   terminase   \n",
       "3            20ES_CDS_12  39511              portal protein   \n",
       "4            20ES_CDS_13  21454  capsid maturation protease   \n",
       "...                  ...    ...                         ...   \n",
       "348729  ZygoTaiga_CDS_95  39534                         NKF   \n",
       "348730  ZygoTaiga_CDS_96   2891                         NKF   \n",
       "348731  ZygoTaiga_CDS_97  38955                         NKF   \n",
       "348732  ZygoTaiga_CDS_98  22971                         NKF   \n",
       "348733  ZygoTaiga_CDS_99  12060                         NKF   \n",
       "\n",
       "                                              translation orientation  \\\n",
       "0       MYGTRSSAFWASQPGKFDVLNLRMTFPSTSAHEIPDLTATDFVPEN...           F   \n",
       "1       MSLQVGSSGELVNRWIRVMKARFASYAGKLKEDGYFGLDDKAVQQE...           F   \n",
       "2       MSLENHHPELAPSPPHIIGPSWQRTVDGSWHLPDPKMTLGWGVLKW...           F   \n",
       "3       MTAPLPGQEEIPDPAIARDEMISAFDDAVKNLKINTSYYEAERRPE...           F   \n",
       "4       MITAAVAAYVQRFASMFTGPALSLGEWARFLQTLFPEVQRRYAQAA...           F   \n",
       "...                                                   ...         ...   \n",
       "348729  MSVCANPECGKEFEQPNKYRTTKTCSKECRYAVSASTTKASSGRWE...           F   \n",
       "348730  MSTYTYPASPAQIRFINTLLAERDVPQASRDYVAHLLDTGISSKRA...           F   \n",
       "348731  MTLPGPPNTPPGADSPAWPPVVSANGYVPPESIPTRTTVTSVEGRS...           F   \n",
       "348732  MWIDDFQGEKVNIEDADEVSNEKLVEMEREYFSHLIDPHTARYWGK...           F   \n",
       "348733  MERYLFAGSELTRDELEKALAPELDELNAAQGTKIGFDEYLAAALN...           F   \n",
       "\n",
       "            phage gene number              uncleaned function  \n",
       "0            20ES           1                                  \n",
       "1            20ES          10                         lysin b  \n",
       "2            20ES          11                       terminase  \n",
       "3            20ES          12                  portal protein  \n",
       "4            20ES          13      capsid maturation protease  \n",
       "...           ...         ...                             ...  \n",
       "348729  ZygoTaiga          95  zinc-finger dna binding domain  \n",
       "348730  ZygoTaiga          96                                  \n",
       "348731  ZygoTaiga          97                                  \n",
       "348732  ZygoTaiga          98                                  \n",
       "348733  ZygoTaiga          99                                  \n",
       "\n",
       "[348734 rows x 8 columns]"
      ]
     },
     "execution_count": 22,
     "metadata": {},
     "output_type": "execute_result"
    }
   ],
   "source": [
    "df_genes = pd.DataFrame(combined_genes, columns =['gene ID',\n",
    "                                            'pham',\n",
    "                                            'function',\n",
    "                                            'translation',\n",
    "                                            'orientation',\n",
    "                                            'phage',\n",
    "                                            'gene number',\n",
    "                                            'uncleaned function'\n",
    "                                           ]) \n",
    "df_genes"
   ]
  },
  {
   "cell_type": "code",
   "execution_count": 23,
   "metadata": {},
   "outputs": [],
   "source": [
    "df_genes.to_csv(\"data/cleaned_gene_list.csv\",index=False)\n"
   ]
  },
  {
   "cell_type": "code",
   "execution_count": 24,
   "metadata": {
    "scrolled": true
   },
   "outputs": [],
   "source": [
    "all_responses = []\n",
    "for phage in df_genes['phage'].unique():\n",
    "    complete_url = \"https://phagesdb.org/api/phages/\"+ str(phage)\n",
    "    response = requests.get(url = complete_url).json()\n",
    "    all_responses.append(response)"
   ]
  },
  {
   "cell_type": "code",
   "execution_count": 25,
   "metadata": {},
   "outputs": [
    {
     "name": "stdout",
     "output_type": "stream",
     "text": [
      "3513\n"
     ]
    }
   ],
   "source": [
    "print(len(all_responses))"
   ]
  },
  {
   "cell_type": "code",
   "execution_count": 26,
   "metadata": {},
   "outputs": [
    {
     "data": {
      "text/html": [
       "<div>\n",
       "<style scoped>\n",
       "    .dataframe tbody tr th:only-of-type {\n",
       "        vertical-align: middle;\n",
       "    }\n",
       "\n",
       "    .dataframe tbody tr th {\n",
       "        vertical-align: top;\n",
       "    }\n",
       "\n",
       "    .dataframe thead th {\n",
       "        text-align: right;\n",
       "    }\n",
       "</style>\n",
       "<table border=\"1\" class=\"dataframe\">\n",
       "  <thead>\n",
       "    <tr style=\"text-align: right;\">\n",
       "      <th></th>\n",
       "      <th>phage</th>\n",
       "      <th>temperate</th>\n",
       "      <th>cluster</th>\n",
       "      <th>subcluster</th>\n",
       "      <th>morphotype</th>\n",
       "      <th>host genus</th>\n",
       "      <th>host species</th>\n",
       "      <th>genome length</th>\n",
       "      <th>is annotated</th>\n",
       "      <th>is phamerated</th>\n",
       "      <th>gcpercent</th>\n",
       "    </tr>\n",
       "  </thead>\n",
       "  <tbody>\n",
       "    <tr>\n",
       "      <th>0</th>\n",
       "      <td>20ES</td>\n",
       "      <td>True</td>\n",
       "      <td>A</td>\n",
       "      <td>A2</td>\n",
       "      <td>SIPHO</td>\n",
       "      <td>Mycobacterium</td>\n",
       "      <td>smegmatis</td>\n",
       "      <td>53124</td>\n",
       "      <td>False</td>\n",
       "      <td>True</td>\n",
       "      <td>63.4</td>\n",
       "    </tr>\n",
       "    <tr>\n",
       "      <th>1</th>\n",
       "      <td>244</td>\n",
       "      <td>True</td>\n",
       "      <td>E</td>\n",
       "      <td>None</td>\n",
       "      <td>SIPHO</td>\n",
       "      <td>Mycobacterium</td>\n",
       "      <td>smegmatis</td>\n",
       "      <td>74483</td>\n",
       "      <td>True</td>\n",
       "      <td>True</td>\n",
       "      <td>63.4</td>\n",
       "    </tr>\n",
       "    <tr>\n",
       "      <th>2</th>\n",
       "      <td>32HC</td>\n",
       "      <td>True</td>\n",
       "      <td>Z</td>\n",
       "      <td>None</td>\n",
       "      <td>SIPHO</td>\n",
       "      <td>Mycobacterium</td>\n",
       "      <td>smegmatis</td>\n",
       "      <td>50781</td>\n",
       "      <td>False</td>\n",
       "      <td>True</td>\n",
       "      <td>65.7</td>\n",
       "    </tr>\n",
       "    <tr>\n",
       "      <th>3</th>\n",
       "      <td>39HC</td>\n",
       "      <td>False</td>\n",
       "      <td>B</td>\n",
       "      <td>B6</td>\n",
       "      <td>SIPHO</td>\n",
       "      <td>Mycobacterium</td>\n",
       "      <td>smegmatis</td>\n",
       "      <td>71565</td>\n",
       "      <td>False</td>\n",
       "      <td>True</td>\n",
       "      <td>70.0</td>\n",
       "    </tr>\n",
       "    <tr>\n",
       "      <th>4</th>\n",
       "      <td>40AC</td>\n",
       "      <td>True</td>\n",
       "      <td>A</td>\n",
       "      <td>A17</td>\n",
       "      <td>SIPHO</td>\n",
       "      <td>Mycobacterium</td>\n",
       "      <td>smegmatis</td>\n",
       "      <td>53396</td>\n",
       "      <td>False</td>\n",
       "      <td>True</td>\n",
       "      <td>63.3</td>\n",
       "    </tr>\n",
       "  </tbody>\n",
       "</table>\n",
       "</div>"
      ],
      "text/plain": [
       "  phage temperate cluster subcluster morphotype     host genus host species  \\\n",
       "0  20ES      True       A         A2      SIPHO  Mycobacterium    smegmatis   \n",
       "1   244      True       E       None      SIPHO  Mycobacterium    smegmatis   \n",
       "2  32HC      True       Z       None      SIPHO  Mycobacterium    smegmatis   \n",
       "3  39HC     False       B         B6      SIPHO  Mycobacterium    smegmatis   \n",
       "4  40AC      True       A        A17      SIPHO  Mycobacterium    smegmatis   \n",
       "\n",
       "   genome length  is annotated  is phamerated gcpercent  \n",
       "0          53124         False           True      63.4  \n",
       "1          74483          True           True      63.4  \n",
       "2          50781         False           True      65.7  \n",
       "3          71565         False           True      70.0  \n",
       "4          53396         False           True      63.3  "
      ]
     },
     "execution_count": 26,
     "metadata": {},
     "output_type": "execute_result"
    }
   ],
   "source": [
    "phage_meta_data = []\n",
    "i = 0\n",
    "for response in all_responses:\n",
    "#     debugging\n",
    "#     print(i, len(all_responses[i:]))\n",
    "#     i = i+1\n",
    "    if len(response.keys())<5:\n",
    "        continue\n",
    "    phage_meta_data.append([response['phage_name'],\n",
    "                            response[\"pcluster\"][\"temperate\"]  if \"pcluster\" in response.keys() and response[\"pcluster\"]  != None else \"\",\n",
    "                            response[\"pcluster\"][\"cluster\"] if \"pcluster\" in response.keys() and response[\"pcluster\"] != None else response[\"pcluster\"],\n",
    "                            response[\"psubcluster\"][\"subcluster\"] if \"psubcluster\" in response.keys() and response[\"psubcluster\"] != None else response[\"psubcluster\"],\n",
    "                            response[\"morphotype\"],\n",
    "                            response[\"isolation_host\"][\"genus\"],\n",
    "                            response[\"isolation_host\"][\"species\"],\n",
    "                            response[\"genome_length\"],\n",
    "                            response['is_annotated'],\n",
    "                            response['is_phamerated'],\n",
    "                            response[\"gcpercent\"]\n",
    "                           ])\n",
    "#     print(phage_meta_data[-1])\n",
    "#     if len(phage_meta_data)>3:\n",
    "#         break\n",
    "                           \n",
    "df_phage = pd.DataFrame(phage_meta_data, columns =['phage',\n",
    "                                                  'temperate',\n",
    "                                                  'cluster',\n",
    "                                                  'subcluster',\n",
    "                                                  'morphotype',\n",
    "                                                  'host genus',\n",
    "                                                  'host species',\n",
    "                                                  'genome length',\n",
    "                                                  'is annotated',\n",
    "                                                  'is phamerated', \n",
    "                                                  'gcpercent'\n",
    "                                               ]) \n",
    "\n",
    "df_phage.to_csv(\"data/phage_metadata.csv\",index=False)\n",
    "df_phage.head()"
   ]
  },
  {
   "cell_type": "code",
   "execution_count": null,
   "metadata": {},
   "outputs": [],
   "source": [
    "len(df_phage[\"phage\"])"
   ]
  },
  {
   "cell_type": "code",
   "execution_count": null,
   "metadata": {},
   "outputs": [],
   "source": [
    "len(df_phage[df_phage[\"is annotated\"]])"
   ]
  },
  {
   "cell_type": "code",
   "execution_count": null,
   "metadata": {},
   "outputs": [],
   "source": [
    "len(df_phage[df_phage[\"is annotated\"]==False])"
   ]
  },
  {
   "cell_type": "code",
   "execution_count": null,
   "metadata": {},
   "outputs": [],
   "source": [
    "all_responses[229]"
   ]
  },
  {
   "cell_type": "code",
   "execution_count": null,
   "metadata": {},
   "outputs": [],
   "source": [
    "df.Cluster.unique()"
   ]
  },
  {
   "cell_type": "code",
   "execution_count": null,
   "metadata": {},
   "outputs": [],
   "source": [
    "df.Cluster.value_counts()"
   ]
  },
  {
   "cell_type": "code",
   "execution_count": null,
   "metadata": {},
   "outputs": [],
   "source": [
    "df.describe()"
   ]
  },
  {
   "cell_type": "markdown",
   "metadata": {},
   "source": [
    "Trying out multithreading for data download"
   ]
  },
  {
   "cell_type": "code",
   "execution_count": null,
   "metadata": {},
   "outputs": [],
   "source": [
    "global x\n",
    "x = []\n",
    "\n",
    "\n",
    "def download(i):\n",
    "    return i\n",
    "\n",
    "with Pool(multiprocessing.cpu_count()) as p:\n",
    "    x = p.map(download, ([1,2], [2,3]))\n",
    "x"
   ]
  },
  {
   "cell_type": "code",
   "execution_count": null,
   "metadata": {},
   "outputs": [],
   "source": [
    "import multiprocessing \n",
    "print(multiprocessing.cpu_count()) \n",
    "# query number of processors avaible"
   ]
  },
  {
   "cell_type": "code",
   "execution_count": null,
   "metadata": {},
   "outputs": [],
   "source": []
  },
  {
   "cell_type": "code",
   "execution_count": null,
   "metadata": {},
   "outputs": [],
   "source": []
  },
  {
   "cell_type": "code",
   "execution_count": null,
   "metadata": {},
   "outputs": [],
   "source": []
  }
 ],
 "metadata": {
  "kernelspec": {
   "display_name": "Python 3",
   "language": "python",
   "name": "python3"
  },
  "language_info": {
   "codemirror_mode": {
    "name": "ipython",
    "version": 3
   },
   "file_extension": ".py",
   "mimetype": "text/x-python",
   "name": "python",
   "nbconvert_exporter": "python",
   "pygments_lexer": "ipython3",
   "version": "3.7.6"
  }
 },
 "nbformat": 4,
 "nbformat_minor": 4
}
